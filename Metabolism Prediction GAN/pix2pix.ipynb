{
 "cells": [
  {
   "cell_type": "markdown",
   "metadata": {
    "colab_type": "text",
    "id": "view-in-github"
   },
   "source": [
    "<a href=\"https://colab.research.google.com/github/bkkaggle/pytorch-CycleGAN-and-pix2pix/blob/master/pix2pix.ipynb\" target=\"_parent\"><img src=\"https://colab.research.google.com/assets/colab-badge.svg\" alt=\"Open In Colab\"/></a>"
   ]
  },
  {
   "cell_type": "markdown",
   "metadata": {
    "colab_type": "text",
    "id": "7wNjDKdQy35h"
   },
   "source": [
    "# Install"
   ]
  },
  {
   "cell_type": "code",
   "execution_count": null,
   "metadata": {
    "colab": {},
    "colab_type": "code",
    "id": "TRm-USlsHgEV"
   },
   "outputs": [],
   "source": [
    "!git clone https://github.com/junyanz/pytorch-CycleGAN-and-pix2pix"
   ]
  },
  {
   "cell_type": "code",
   "execution_count": null,
   "metadata": {
    "colab": {},
    "colab_type": "code",
    "id": "Pt3igws3eiVp"
   },
   "outputs": [],
   "source": [
    "import os\n",
    "os.chdir('pytorch-CycleGAN-and-pix2pix/')"
   ]
  },
  {
   "cell_type": "code",
   "execution_count": null,
   "metadata": {
    "colab": {},
    "colab_type": "code",
    "id": "z1EySlOXwwoa"
   },
   "outputs": [],
   "source": [
    "!pip install -r requirements.txt"
   ]
  },
  {
   "cell_type": "markdown",
   "metadata": {
    "colab_type": "text",
    "id": "8daqlgVhw29P"
   },
   "source": [
    "# Datasets\n",
    "\n",
    "Download one of the official datasets with:\n",
    "\n",
    "-   `bash ./datasets/download_pix2pix_dataset.sh [cityscapes, night2day, edges2handbags, edges2shoes, facades, maps]`\n",
    "\n",
    "Or use your own dataset by creating the appropriate folders and adding in the images. Follow the instructions [here](https://github.com/junyanz/pytorch-CycleGAN-and-pix2pix/blob/master/docs/datasets.md#pix2pix-datasets)."
   ]
  },
  {
   "cell_type": "code",
   "execution_count": null,
   "metadata": {
    "colab": {},
    "colab_type": "code",
    "id": "vrdOettJxaCc"
   },
   "outputs": [],
   "source": [
    "!bash ./datasets/download_pix2pix_dataset.sh facades"
   ]
  },
  {
   "cell_type": "markdown",
   "metadata": {
    "colab_type": "text",
    "id": "gdUz4116xhpm"
   },
   "source": [
    "# Pretrained models\n",
    "\n",
    "Download one of the official pretrained models with:\n",
    "\n",
    "-   `bash ./scripts/download_pix2pix_model.sh [edges2shoes, sat2map, map2sat, facades_label2photo, and day2night]`\n",
    "\n",
    "Or add your own pretrained model to `./checkpoints/{NAME}_pretrained/latest_net_G.pt`"
   ]
  },
  {
   "cell_type": "code",
   "execution_count": null,
   "metadata": {
    "colab": {},
    "colab_type": "code",
    "id": "GC2DEP4M0OsS"
   },
   "outputs": [],
   "source": [
    "!bash ./scripts/download_pix2pix_model.sh facades_label2photo"
   ]
  },
  {
   "cell_type": "markdown",
   "metadata": {
    "colab_type": "text",
    "id": "yFw1kDQBx3LN"
   },
   "source": [
    "# Training\n",
    "\n",
    "-   `python train.py --dataroot ./datasets/facades --name facades_pix2pix --model pix2pix --direction BtoA`\n",
    "\n",
    "Change the `--dataroot` and `--name` to your own dataset's path and model's name. Use `--gpu_ids 0,1,..` to train on multiple GPUs and `--batch_size` to change the batch size. Add `--direction BtoA` if you want to train a model to transfrom from class B to A."
   ]
  },
  {
   "cell_type": "code",
   "execution_count": null,
   "metadata": {
    "colab": {},
    "colab_type": "code",
    "id": "0sp7TCT2x9dB"
   },
   "outputs": [],
   "source": [
    "!python train.py --dataroot ./datasets/facades --name facades_pix2pix --model pix2pix --direction BtoA --display_id -1"
   ]
  },
  {
   "cell_type": "markdown",
   "metadata": {
    "colab_type": "text",
    "id": "9UkcaFZiyASl"
   },
   "source": [
    "# Testing\n",
    "\n",
    "-   `python test.py --dataroot ./datasets/facades --direction BtoA --model pix2pix --name facades_pix2pix`\n",
    "\n",
    "Change the `--dataroot`, `--name`, and `--direction` to be consistent with your trained model's configuration and how you want to transform images.\n",
    "\n",
    "> from https://github.com/junyanz/pytorch-CycleGAN-and-pix2pix:\n",
    "> Note that we specified --direction BtoA as Facades dataset's A to B direction is photos to labels.\n",
    "\n",
    "> If you would like to apply a pre-trained model to a collection of input images (rather than image pairs), please use --model test option. See ./scripts/test_single.sh for how to apply a model to Facade label maps (stored in the directory facades/testB).\n",
    "\n",
    "> See a list of currently available models at ./scripts/download_pix2pix_model.sh"
   ]
  },
  {
   "cell_type": "code",
   "execution_count": null,
   "metadata": {
    "colab": {},
    "colab_type": "code",
    "id": "mey7o6j-0368"
   },
   "outputs": [],
   "source": [
    "!ls checkpoints/"
   ]
  },
  {
   "cell_type": "code",
   "execution_count": null,
   "metadata": {
    "colab": {},
    "colab_type": "code",
    "id": "uCsKkEq0yGh0"
   },
   "outputs": [],
   "source": [
    "!python test.py --dataroot ./datasets/facades --direction BtoA --model pix2pix --name facades_label2photo_pretrained --use_wandb"
   ]
  },
  {
   "cell_type": "markdown",
   "metadata": {
    "colab_type": "text",
    "id": "OzSKIPUByfiN"
   },
   "source": [
    "# Visualize"
   ]
  },
  {
   "cell_type": "code",
   "execution_count": null,
   "metadata": {
    "colab": {},
    "colab_type": "code",
    "id": "9Mgg8raPyizq"
   },
   "outputs": [],
   "source": [
    "import matplotlib.pyplot as plt\n",
    "\n",
    "img = plt.imread('./results/facades_label2photo_pretrained/test_latest/images/100_fake_B.png')\n",
    "plt.imshow(img)"
   ]
  },
  {
   "cell_type": "code",
   "execution_count": null,
   "metadata": {
    "colab": {},
    "colab_type": "code",
    "id": "0G3oVH9DyqLQ"
   },
   "outputs": [],
   "source": [
    "img = plt.imread('./results/facades_label2photo_pretrained/test_latest/images/100_real_A.png')\n",
    "plt.imshow(img)"
   ]
  },
  {
   "cell_type": "code",
   "execution_count": null,
   "metadata": {
    "colab": {},
    "colab_type": "code",
    "id": "ErK5OC1j1LH4"
   },
   "outputs": [],
   "source": [
    "img = plt.imread('./results/facades_label2photo_pretrained/test_latest/images/100_real_B.png')\n",
    "plt.imshow(img)"
   ]
  },
  {
   "cell_type": "code",
   "execution_count": 3,
   "metadata": {},
   "outputs": [
    {
     "name": "stdout",
     "output_type": "stream",
     "text": [
      "✅ 已裁剪并复制拼接保存: /export/home/daifang/ncr/pix2pix/1000001854_1_png/test/1000001854_0001.png\n",
      "✅ 已裁剪并复制拼接保存: /export/home/daifang/ncr/pix2pix/1000001854_1_png/test/1000001854_0003.png\n",
      "✅ 已裁剪并复制拼接保存: /export/home/daifang/ncr/pix2pix/1000001854_1_png/test/1000001854_0002.png\n",
      "✅ 已裁剪并复制拼接保存: /export/home/daifang/ncr/pix2pix/1000001854_1_png/test/1000001854_0004.png\n",
      "✅ 已裁剪并复制拼接保存: /export/home/daifang/ncr/pix2pix/1000001854_1_png/test/1000001854_0005.png\n",
      "✅ 已裁剪并复制拼接保存: /export/home/daifang/ncr/pix2pix/1000001854_1_png/test/1000001854_0006.png\n",
      "✅ 已裁剪并复制拼接保存: /export/home/daifang/ncr/pix2pix/1000001854_1_png/test/1000001854_0007.png\n",
      "✅ 已裁剪并复制拼接保存: /export/home/daifang/ncr/pix2pix/1000001854_1_png/test/1000001854_0009.png\n",
      "✅ 已裁剪并复制拼接保存: /export/home/daifang/ncr/pix2pix/1000001854_1_png/test/1000001854_0008.png\n",
      "✅ 已裁剪并复制拼接保存: /export/home/daifang/ncr/pix2pix/1000001854_1_png/test/1000001854_0010.png\n",
      "✅ 已裁剪并复制拼接保存: /export/home/daifang/ncr/pix2pix/1000001854_1_png/test/1000001854_0012.png\n",
      "✅ 已裁剪并复制拼接保存: /export/home/daifang/ncr/pix2pix/1000001854_1_png/test/1000001854_0011.png\n",
      "✅ 已裁剪并复制拼接保存: /export/home/daifang/ncr/pix2pix/1000001854_1_png/test/1000001854_0013.png\n",
      "✅ 已裁剪并复制拼接保存: /export/home/daifang/ncr/pix2pix/1000001854_1_png/test/1000001854_0015.png\n",
      "✅ 已裁剪并复制拼接保存: /export/home/daifang/ncr/pix2pix/1000001854_1_png/test/1000001854_0014.png\n",
      "✅ 已裁剪并复制拼接保存: /export/home/daifang/ncr/pix2pix/1000001854_1_png/test/1000001854_0017.png\n",
      "✅ 已裁剪并复制拼接保存: /export/home/daifang/ncr/pix2pix/1000001854_1_png/test/1000001854_0018.png\n",
      "✅ 已裁剪并复制拼接保存: /export/home/daifang/ncr/pix2pix/1000001854_1_png/test/1000001854_0016.png\n",
      "✅ 已裁剪并复制拼接保存: /export/home/daifang/ncr/pix2pix/1000001854_1_png/test/1000001854_0019.png\n",
      "✅ 已裁剪并复制拼接保存: /export/home/daifang/ncr/pix2pix/1000001854_1_png/test/1000001854_0020.png\n",
      "✅ 已裁剪并复制拼接保存: /export/home/daifang/ncr/pix2pix/1000001854_1_png/test/1000001854_0021.png\n",
      "✅ 已裁剪并复制拼接保存: /export/home/daifang/ncr/pix2pix/1000001854_1_png/test/1000001854_0024.png\n",
      "✅ 已裁剪并复制拼接保存: /export/home/daifang/ncr/pix2pix/1000001854_1_png/test/1000001854_0023.png\n",
      "✅ 已裁剪并复制拼接保存: /export/home/daifang/ncr/pix2pix/1000001854_1_png/test/1000001854_0022.png\n",
      "✅ 已裁剪并复制拼接保存: /export/home/daifang/ncr/pix2pix/1000001854_1_png/test/1000001854_0027.png\n",
      "✅ 已裁剪并复制拼接保存: /export/home/daifang/ncr/pix2pix/1000001854_1_png/test/1000001854_0025.png\n",
      "✅ 已裁剪并复制拼接保存: /export/home/daifang/ncr/pix2pix/1000001854_1_png/test/1000001854_0026.png\n",
      "✅ 已裁剪并复制拼接保存: /export/home/daifang/ncr/pix2pix/1000001854_1_png/test/1000001854_0030.png\n",
      "✅ 已裁剪并复制拼接保存: /export/home/daifang/ncr/pix2pix/1000001854_1_png/test/1000001854_0029.png\n",
      "✅ 已裁剪并复制拼接保存: /export/home/daifang/ncr/pix2pix/1000001854_1_png/test/1000001854_0028.png\n",
      "✅ 已裁剪并复制拼接保存: /export/home/daifang/ncr/pix2pix/1000001854_1_png/test/1000001854_0031.png\n",
      "✅ 已裁剪并复制拼接保存: /export/home/daifang/ncr/pix2pix/1000001854_1_png/test/1000001854_0032.png\n",
      "✅ 已裁剪并复制拼接保存: /export/home/daifang/ncr/pix2pix/1000001854_1_png/test/1000001854_0033.png\n",
      "✅ 已裁剪并复制拼接保存: /export/home/daifang/ncr/pix2pix/1000001854_1_png/test/1000001854_0035.png\n",
      "✅ 已裁剪并复制拼接保存: /export/home/daifang/ncr/pix2pix/1000001854_1_png/test/1000001854_0034.png\n",
      "✅ 已裁剪并复制拼接保存: /export/home/daifang/ncr/pix2pix/1000001854_1_png/test/1000001854_0036.png\n",
      "✅ 已裁剪并复制拼接保存: /export/home/daifang/ncr/pix2pix/1000001854_1_png/test/1000001854_0037.png\n",
      "✅ 已裁剪并复制拼接保存: /export/home/daifang/ncr/pix2pix/1000001854_1_png/test/1000001854_0038.png\n",
      "✅ 已裁剪并复制拼接保存: /export/home/daifang/ncr/pix2pix/1000001854_1_png/test/1000001854_0039.png\n",
      "✅ 已裁剪并复制拼接保存: /export/home/daifang/ncr/pix2pix/1000001854_1_png/test/1000001854_0040.png\n",
      "✅ 已裁剪并复制拼接保存: /export/home/daifang/ncr/pix2pix/1000001854_1_png/test/1000001854_0042.png\n",
      "✅ 已裁剪并复制拼接保存: /export/home/daifang/ncr/pix2pix/1000001854_1_png/test/1000001854_0041.png\n",
      "✅ 已裁剪并复制拼接保存: /export/home/daifang/ncr/pix2pix/1000001854_1_png/test/1000001854_0043.png\n",
      "✅ 已裁剪并复制拼接保存: /export/home/daifang/ncr/pix2pix/1000001854_1_png/test/1000001854_0044.png\n",
      "✅ 已裁剪并复制拼接保存: /export/home/daifang/ncr/pix2pix/1000001854_1_png/test/1000001854_0045.png\n",
      "✅ 已裁剪并复制拼接保存: /export/home/daifang/ncr/pix2pix/1000001854_1_png/test/1000001854_0046.png\n",
      "✅ 已裁剪并复制拼接保存: /export/home/daifang/ncr/pix2pix/1000001854_1_png/test/1000001854_0047.png\n",
      "✅ 已裁剪并复制拼接保存: /export/home/daifang/ncr/pix2pix/1000001854_1_png/test/1000001854_0048.png\n",
      "✅ 已裁剪并复制拼接保存: /export/home/daifang/ncr/pix2pix/1000001854_1_png/test/1000001854_0050.png\n",
      "✅ 已裁剪并复制拼接保存: /export/home/daifang/ncr/pix2pix/1000001854_1_png/test/1000001854_0049.png\n",
      "✅ 已裁剪并复制拼接保存: /export/home/daifang/ncr/pix2pix/1000001854_1_png/test/1000001854_0051.png\n",
      "✅ 已裁剪并复制拼接保存: /export/home/daifang/ncr/pix2pix/1000001854_1_png/test/1000001854_0052.png\n",
      "✅ 已裁剪并复制拼接保存: /export/home/daifang/ncr/pix2pix/1000001854_1_png/test/1000001854_0054.png\n",
      "✅ 已裁剪并复制拼接保存: /export/home/daifang/ncr/pix2pix/1000001854_1_png/test/1000001854_0053.png\n",
      "✅ 已裁剪并复制拼接保存: /export/home/daifang/ncr/pix2pix/1000001854_1_png/test/1000001854_0055.png\n",
      "✅ 已裁剪并复制拼接保存: /export/home/daifang/ncr/pix2pix/1000001854_1_png/test/1000001854_0056.png\n",
      "✅ 已裁剪并复制拼接保存: /export/home/daifang/ncr/pix2pix/1000001854_1_png/test/1000001854_0057.png\n",
      "✅ 已裁剪并复制拼接保存: /export/home/daifang/ncr/pix2pix/1000001854_1_png/test/1000001854_0060.png\n",
      "✅ 已裁剪并复制拼接保存: /export/home/daifang/ncr/pix2pix/1000001854_1_png/test/1000001854_0058.png\n",
      "✅ 已裁剪并复制拼接保存: /export/home/daifang/ncr/pix2pix/1000001854_1_png/test/1000001854_0059.png\n",
      "✅ 已裁剪并复制拼接保存: /export/home/daifang/ncr/pix2pix/1000001854_1_png/test/1000001854_0061.png\n",
      "✅ 已裁剪并复制拼接保存: /export/home/daifang/ncr/pix2pix/1000001854_1_png/test/1000001854_0062.png\n",
      "✅ 已裁剪并复制拼接保存: /export/home/daifang/ncr/pix2pix/1000001854_1_png/test/1000001854_0063.png\n",
      "✅ 已裁剪并复制拼接保存: /export/home/daifang/ncr/pix2pix/1000001854_1_png/test/1000001854_0064.png\n",
      "✅ 已裁剪并复制拼接保存: /export/home/daifang/ncr/pix2pix/1000001854_1_png/test/1000001854_0065.png\n",
      "✅ 已裁剪并复制拼接保存: /export/home/daifang/ncr/pix2pix/1000001854_1_png/test/1000001854_0066.png\n",
      "✅ 已裁剪并复制拼接保存: /export/home/daifang/ncr/pix2pix/1000001854_1_png/test/1000001854_0069.png\n",
      "✅ 已裁剪并复制拼接保存: /export/home/daifang/ncr/pix2pix/1000001854_1_png/test/1000001854_0068.png\n",
      "✅ 已裁剪并复制拼接保存: /export/home/daifang/ncr/pix2pix/1000001854_1_png/test/1000001854_0067.png\n",
      "✅ 已裁剪并复制拼接保存: /export/home/daifang/ncr/pix2pix/1000001854_1_png/test/1000001854_0070.png\n",
      "✅ 已裁剪并复制拼接保存: /export/home/daifang/ncr/pix2pix/1000001854_1_png/test/1000001854_0071.png\n",
      "✅ 已裁剪并复制拼接保存: /export/home/daifang/ncr/pix2pix/1000001854_1_png/test/1000001854_0072.png\n",
      "✅ 已裁剪并复制拼接保存: /export/home/daifang/ncr/pix2pix/1000001854_1_png/test/1000001854_0074.png\n",
      "✅ 已裁剪并复制拼接保存: /export/home/daifang/ncr/pix2pix/1000001854_1_png/test/1000001854_0073.png\n",
      "✅ 已裁剪并复制拼接保存: /export/home/daifang/ncr/pix2pix/1000001854_1_png/test/1000001854_0075.png\n",
      "✅ 已裁剪并复制拼接保存: /export/home/daifang/ncr/pix2pix/1000001854_1_png/test/1000001854_0077.png\n",
      "✅ 已裁剪并复制拼接保存: /export/home/daifang/ncr/pix2pix/1000001854_1_png/test/1000001854_0078.png\n",
      "✅ 已裁剪并复制拼接保存: /export/home/daifang/ncr/pix2pix/1000001854_1_png/test/1000001854_0076.png\n",
      "✅ 已裁剪并复制拼接保存: /export/home/daifang/ncr/pix2pix/1000001854_1_png/test/1000001854_0079.png\n",
      "✅ 已裁剪并复制拼接保存: /export/home/daifang/ncr/pix2pix/1000001854_1_png/test/1000001854_0081.png\n",
      "✅ 已裁剪并复制拼接保存: /export/home/daifang/ncr/pix2pix/1000001854_1_png/test/1000001854_0082.png\n",
      "✅ 已裁剪并复制拼接保存: /export/home/daifang/ncr/pix2pix/1000001854_1_png/test/1000001854_0083.png\n",
      "✅ 已裁剪并复制拼接保存: /export/home/daifang/ncr/pix2pix/1000001854_1_png/test/1000001854_0080.png\n",
      "✅ 已裁剪并复制拼接保存: /export/home/daifang/ncr/pix2pix/1000001854_1_png/test/1000001854_0085.png\n",
      "✅ 已裁剪并复制拼接保存: /export/home/daifang/ncr/pix2pix/1000001854_1_png/test/1000001854_0084.png\n",
      "✅ 已裁剪并复制拼接保存: /export/home/daifang/ncr/pix2pix/1000001854_1_png/test/1000001854_0086.png\n",
      "✅ 已裁剪并复制拼接保存: /export/home/daifang/ncr/pix2pix/1000001854_1_png/test/1000001854_0087.png\n",
      "✅ 已裁剪并复制拼接保存: /export/home/daifang/ncr/pix2pix/1000001854_1_png/test/1000001854_0088.png\n",
      "✅ 已裁剪并复制拼接保存: /export/home/daifang/ncr/pix2pix/1000001854_1_png/test/1000001854_0089.png\n",
      "✅ 已裁剪并复制拼接保存: /export/home/daifang/ncr/pix2pix/1000001854_1_png/test/1000001854_0091.png\n",
      "✅ 已裁剪并复制拼接保存: /export/home/daifang/ncr/pix2pix/1000001854_1_png/test/1000001854_0090.png\n",
      "✅ 已裁剪并复制拼接保存: /export/home/daifang/ncr/pix2pix/1000001854_1_png/test/1000001854_0092.png\n",
      "✅ 已裁剪并复制拼接保存: /export/home/daifang/ncr/pix2pix/1000001854_1_png/test/1000001854_0093.png\n",
      "✅ 已裁剪并复制拼接保存: /export/home/daifang/ncr/pix2pix/1000001854_1_png/test/1000001854_0094.png\n",
      "✅ 已裁剪并复制拼接保存: /export/home/daifang/ncr/pix2pix/1000001854_1_png/test/1000001854_0095.png\n",
      "✅ 已裁剪并复制拼接保存: /export/home/daifang/ncr/pix2pix/1000001854_1_png/test/1000001854_0096.png\n",
      "✅ 已裁剪并复制拼接保存: /export/home/daifang/ncr/pix2pix/1000001854_1_png/test/1000001854_0097.png\n",
      "✅ 已裁剪并复制拼接保存: /export/home/daifang/ncr/pix2pix/1000001854_1_png/test/1000001854_0098.png\n",
      "✅ 已裁剪并复制拼接保存: /export/home/daifang/ncr/pix2pix/1000001854_1_png/test/1000001854_0099.png\n",
      "✅ 已裁剪并复制拼接保存: /export/home/daifang/ncr/pix2pix/1000001854_1_png/test/1000001854_0101.png\n",
      "✅ 已裁剪并复制拼接保存: /export/home/daifang/ncr/pix2pix/1000001854_1_png/test/1000001854_0100.png\n",
      "✅ 已裁剪并复制拼接保存: /export/home/daifang/ncr/pix2pix/1000001854_1_png/test/1000001854_0102.png\n",
      "✅ 已裁剪并复制拼接保存: /export/home/daifang/ncr/pix2pix/1000001854_1_png/test/1000001854_0103.png\n",
      "✅ 已裁剪并复制拼接保存: /export/home/daifang/ncr/pix2pix/1000001854_1_png/test/1000001854_0104.png\n",
      "✅ 已裁剪并复制拼接保存: /export/home/daifang/ncr/pix2pix/1000001854_1_png/test/1000001854_0105.png\n",
      "✅ 已裁剪并复制拼接保存: /export/home/daifang/ncr/pix2pix/1000001854_1_png/test/1000001854_0106.png\n",
      "✅ 已裁剪并复制拼接保存: /export/home/daifang/ncr/pix2pix/1000001854_1_png/test/1000001854_0107.png\n",
      "✅ 已裁剪并复制拼接保存: /export/home/daifang/ncr/pix2pix/1000001854_1_png/test/1000001854_0110.png\n",
      "✅ 已裁剪并复制拼接保存: /export/home/daifang/ncr/pix2pix/1000001854_1_png/test/1000001854_0108.png\n",
      "✅ 已裁剪并复制拼接保存: /export/home/daifang/ncr/pix2pix/1000001854_1_png/test/1000001854_0109.png\n",
      "✅ 已裁剪并复制拼接保存: /export/home/daifang/ncr/pix2pix/1000001854_1_png/test/1000001854_0112.png\n",
      "✅ 已裁剪并复制拼接保存: /export/home/daifang/ncr/pix2pix/1000001854_1_png/test/1000001854_0111.png\n",
      "✅ 已裁剪并复制拼接保存: /export/home/daifang/ncr/pix2pix/1000001854_1_png/test/1000001854_0113.png\n",
      "✅ 已裁剪并复制拼接保存: /export/home/daifang/ncr/pix2pix/1000001854_1_png/test/1000001854_0114.png\n",
      "✅ 已裁剪并复制拼接保存: /export/home/daifang/ncr/pix2pix/1000001854_1_png/test/1000001854_0115.png\n",
      "✅ 已裁剪并复制拼接保存: /export/home/daifang/ncr/pix2pix/1000001854_1_png/test/1000001854_0116.png\n",
      "✅ 已裁剪并复制拼接保存: /export/home/daifang/ncr/pix2pix/1000001854_1_png/test/1000001854_0118.png\n",
      "✅ 已裁剪并复制拼接保存: /export/home/daifang/ncr/pix2pix/1000001854_1_png/test/1000001854_0119.png\n",
      "✅ 已裁剪并复制拼接保存: /export/home/daifang/ncr/pix2pix/1000001854_1_png/test/1000001854_0117.png\n",
      "✅ 已裁剪并复制拼接保存: /export/home/daifang/ncr/pix2pix/1000001854_1_png/test/1000001854_0120.png\n",
      "✅ 已裁剪并复制拼接保存: /export/home/daifang/ncr/pix2pix/1000001854_1_png/test/1000001854_0121.png\n",
      "✅ 已裁剪并复制拼接保存: /export/home/daifang/ncr/pix2pix/1000001854_1_png/test/1000001854_0122.png\n",
      "✅ 已裁剪并复制拼接保存: /export/home/daifang/ncr/pix2pix/1000001854_1_png/test/1000001854_0123.png\n",
      "✅ 已裁剪并复制拼接保存: /export/home/daifang/ncr/pix2pix/1000001854_1_png/test/1000001854_0124.png\n",
      "✅ 已裁剪并复制拼接保存: /export/home/daifang/ncr/pix2pix/1000001854_1_png/test/1000001854_0125.png\n",
      "✅ 已裁剪并复制拼接保存: /export/home/daifang/ncr/pix2pix/1000001854_1_png/test/1000001854_0128.png\n",
      "✅ 已裁剪并复制拼接保存: /export/home/daifang/ncr/pix2pix/1000001854_1_png/test/1000001854_0126.png\n",
      "✅ 已裁剪并复制拼接保存: /export/home/daifang/ncr/pix2pix/1000001854_1_png/test/1000001854_0127.png\n",
      "✅ 已裁剪并复制拼接保存: /export/home/daifang/ncr/pix2pix/1000001854_1_png/test/1000001854_0129.png\n",
      "✅ 已裁剪并复制拼接保存: /export/home/daifang/ncr/pix2pix/1000001854_1_png/test/1000001854_0130.png\n",
      "✅ 已裁剪并复制拼接保存: /export/home/daifang/ncr/pix2pix/1000001854_1_png/test/1000001854_0131.png\n",
      "✅ 已裁剪并复制拼接保存: /export/home/daifang/ncr/pix2pix/1000001854_1_png/test/1000001854_0132.png\n",
      "✅ 已裁剪并复制拼接保存: /export/home/daifang/ncr/pix2pix/1000001854_1_png/test/1000001854_0133.png\n",
      "✅ 已裁剪并复制拼接保存: /export/home/daifang/ncr/pix2pix/1000001854_1_png/test/1000001854_0134.png\n",
      "✅ 已裁剪并复制拼接保存: /export/home/daifang/ncr/pix2pix/1000001854_1_png/test/1000001854_0135.png\n",
      "✅ 已裁剪并复制拼接保存: /export/home/daifang/ncr/pix2pix/1000001854_1_png/test/1000001854_0137.png\n",
      "✅ 已裁剪并复制拼接保存: /export/home/daifang/ncr/pix2pix/1000001854_1_png/test/1000001854_0136.png\n",
      "✅ 已裁剪并复制拼接保存: /export/home/daifang/ncr/pix2pix/1000001854_1_png/test/1000001854_0138.png\n",
      "✅ 已裁剪并复制拼接保存: /export/home/daifang/ncr/pix2pix/1000001854_1_png/test/1000001854_0140.png\n",
      "✅ 已裁剪并复制拼接保存: /export/home/daifang/ncr/pix2pix/1000001854_1_png/test/1000001854_0139.png\n",
      "✅ 已裁剪并复制拼接保存: /export/home/daifang/ncr/pix2pix/1000001854_1_png/test/1000001854_0141.png\n",
      "✅ 已裁剪并复制拼接保存: /export/home/daifang/ncr/pix2pix/1000001854_1_png/test/1000001854_0143.png\n",
      "✅ 已裁剪并复制拼接保存: /export/home/daifang/ncr/pix2pix/1000001854_1_png/test/1000001854_0142.png\n",
      "✅ 已裁剪并复制拼接保存: /export/home/daifang/ncr/pix2pix/1000001854_1_png/test/1000001854_0144.png\n",
      "✅ 已裁剪并复制拼接保存: /export/home/daifang/ncr/pix2pix/1000001854_1_png/test/1000001854_0145.png\n",
      "✅ 已裁剪并复制拼接保存: /export/home/daifang/ncr/pix2pix/1000001854_1_png/test/1000001854_0146.png\n",
      "✅ 已裁剪并复制拼接保存: /export/home/daifang/ncr/pix2pix/1000001854_1_png/test/1000001854_0147.png\n",
      "✅ 已裁剪并复制拼接保存: /export/home/daifang/ncr/pix2pix/1000001854_1_png/test/1000001854_0148.png\n",
      "✅ 已裁剪并复制拼接保存: /export/home/daifang/ncr/pix2pix/1000001854_1_png/test/1000001854_0149.png\n",
      "✅ 已裁剪并复制拼接保存: /export/home/daifang/ncr/pix2pix/1000001854_1_png/test/1000001854_0151.png\n",
      "✅ 已裁剪并复制拼接保存: /export/home/daifang/ncr/pix2pix/1000001854_1_png/test/1000001854_0150.png\n",
      "✅ 已裁剪并复制拼接保存: /export/home/daifang/ncr/pix2pix/1000001854_1_png/test/1000001854_0152.png\n",
      "✅ 已裁剪并复制拼接保存: /export/home/daifang/ncr/pix2pix/1000001854_1_png/test/1000001854_0153.png\n",
      "✅ 已裁剪并复制拼接保存: /export/home/daifang/ncr/pix2pix/1000001854_1_png/test/1000001854_0154.png\n",
      "✅ 已裁剪并复制拼接保存: /export/home/daifang/ncr/pix2pix/1000001854_1_png/test/1000001854_0155.png\n",
      "✅ 已裁剪并复制拼接保存: /export/home/daifang/ncr/pix2pix/1000001854_1_png/test/1000001854_0158.png\n",
      "✅ 已裁剪并复制拼接保存: /export/home/daifang/ncr/pix2pix/1000001854_1_png/test/1000001854_0157.png\n",
      "✅ 已裁剪并复制拼接保存: /export/home/daifang/ncr/pix2pix/1000001854_1_png/test/1000001854_0156.png\n",
      "✅ 已裁剪并复制拼接保存: /export/home/daifang/ncr/pix2pix/1000001854_1_png/test/1000001854_0159.png\n",
      "✅ 已裁剪并复制拼接保存: /export/home/daifang/ncr/pix2pix/1000001854_1_png/test/1000001854_0161.png\n",
      "✅ 已裁剪并复制拼接保存: /export/home/daifang/ncr/pix2pix/1000001854_1_png/test/1000001854_0160.png\n",
      "✅ 已裁剪并复制拼接保存: /export/home/daifang/ncr/pix2pix/1000001854_1_png/test/1000001854_0162.png\n",
      "✅ 已裁剪并复制拼接保存: /export/home/daifang/ncr/pix2pix/1000001854_1_png/test/1000001854_0163.png\n",
      "✅ 已裁剪并复制拼接保存: /export/home/daifang/ncr/pix2pix/1000001854_1_png/test/1000001854_0164.png\n",
      "✅ 已裁剪并复制拼接保存: /export/home/daifang/ncr/pix2pix/1000001854_1_png/test/1000001854_0166.png\n",
      "✅ 已裁剪并复制拼接保存: /export/home/daifang/ncr/pix2pix/1000001854_1_png/test/1000001854_0165.png\n",
      "✅ 已裁剪并复制拼接保存: /export/home/daifang/ncr/pix2pix/1000001854_1_png/test/1000001854_0167.png\n",
      "✅ 已裁剪并复制拼接保存: /export/home/daifang/ncr/pix2pix/1000001854_1_png/test/1000001854_0168.png\n",
      "✅ 已裁剪并复制拼接保存: /export/home/daifang/ncr/pix2pix/1000001854_1_png/test/1000001854_0169.png\n",
      "✅ 已裁剪并复制拼接保存: /export/home/daifang/ncr/pix2pix/1000001854_1_png/test/1000001854_0170.png\n",
      "✅ 已裁剪并复制拼接保存: /export/home/daifang/ncr/pix2pix/1000001854_1_png/test/1000001854_0171.png\n",
      "✅ 已裁剪并复制拼接保存: /export/home/daifang/ncr/pix2pix/1000001854_1_png/test/1000001854_0172.png\n",
      "✅ 已裁剪并复制拼接保存: /export/home/daifang/ncr/pix2pix/1000001854_1_png/test/1000001854_0173.png\n",
      "✅ 已裁剪并复制拼接保存: /export/home/daifang/ncr/pix2pix/1000001854_1_png/test/1000001854_0174.png\n",
      "✅ 已裁剪并复制拼接保存: /export/home/daifang/ncr/pix2pix/1000001854_1_png/test/1000001854_0175.png\n",
      "✅ 已裁剪并复制拼接保存: /export/home/daifang/ncr/pix2pix/1000001854_1_png/test/1000001854_0176.png\n",
      "✅ 已裁剪并复制拼接保存: /export/home/daifang/ncr/pix2pix/1000001854_1_png/test/1000001854_0177.png\n",
      "✅ 已裁剪并复制拼接保存: /export/home/daifang/ncr/pix2pix/1000001854_1_png/test/1000001854_0178.png\n",
      "✅ 已裁剪并复制拼接保存: /export/home/daifang/ncr/pix2pix/1000001854_1_png/test/1000001854_0179.png\n",
      "✅ 已裁剪并复制拼接保存: /export/home/daifang/ncr/pix2pix/1000001854_1_png/test/1000001854_0180.png\n",
      "✅ 已裁剪并复制拼接保存: /export/home/daifang/ncr/pix2pix/1000001854_1_png/test/1000001854_0181.png\n",
      "✅ 已裁剪并复制拼接保存: /export/home/daifang/ncr/pix2pix/1000001854_1_png/test/1000001854_0182.png\n",
      "✅ 已裁剪并复制拼接保存: /export/home/daifang/ncr/pix2pix/1000001854_1_png/test/1000001854_0183.png\n",
      "✅ 已裁剪并复制拼接保存: /export/home/daifang/ncr/pix2pix/1000001854_1_png/test/1000001854_0185.png\n",
      "✅ 已裁剪并复制拼接保存: /export/home/daifang/ncr/pix2pix/1000001854_1_png/test/1000001854_0184.png\n",
      "✅ 已裁剪并复制拼接保存: /export/home/daifang/ncr/pix2pix/1000001854_1_png/test/1000001854_0186.png\n",
      "✅ 已裁剪并复制拼接保存: /export/home/daifang/ncr/pix2pix/1000001854_1_png/test/1000001854_0187.png\n",
      "✅ 已裁剪并复制拼接保存: /export/home/daifang/ncr/pix2pix/1000001854_1_png/test/1000001854_0188.png\n",
      "✅ 已裁剪并复制拼接保存: /export/home/daifang/ncr/pix2pix/1000001854_1_png/test/1000001854_0189.png\n",
      "✅ 已裁剪并复制拼接保存: /export/home/daifang/ncr/pix2pix/1000001854_1_png/test/1000001854_0190.png\n",
      "✅ 已裁剪并复制拼接保存: /export/home/daifang/ncr/pix2pix/1000001854_1_png/test/1000001854_0191.png\n",
      "✅ 已裁剪并复制拼接保存: /export/home/daifang/ncr/pix2pix/1000001854_1_png/test/1000001854_0193.png\n",
      "✅ 已裁剪并复制拼接保存: /export/home/daifang/ncr/pix2pix/1000001854_1_png/test/1000001854_0192.png\n",
      "✅ 已裁剪并复制拼接保存: /export/home/daifang/ncr/pix2pix/1000001854_1_png/test/1000001854_0194.png\n",
      "✅ 已裁剪并复制拼接保存: /export/home/daifang/ncr/pix2pix/1000001854_1_png/test/1000001854_0195.png\n",
      "✅ 已裁剪并复制拼接保存: /export/home/daifang/ncr/pix2pix/1000001854_1_png/test/1000001854_0196.png\n",
      "✅ 已裁剪并复制拼接保存: /export/home/daifang/ncr/pix2pix/1000001854_1_png/test/1000001854_0197.png\n",
      "✅ 已裁剪并复制拼接保存: /export/home/daifang/ncr/pix2pix/1000001854_1_png/test/1000001854_0198.png\n",
      "✅ 已裁剪并复制拼接保存: /export/home/daifang/ncr/pix2pix/1000001854_1_png/test/1000001854_0199.png\n",
      "✅ 已裁剪并复制拼接保存: /export/home/daifang/ncr/pix2pix/1000001854_1_png/test/1000001854_0200.png\n",
      "✅ 已裁剪并复制拼接保存: /export/home/daifang/ncr/pix2pix/1000001854_1_png/test/1000001854_0202.png\n",
      "✅ 已裁剪并复制拼接保存: /export/home/daifang/ncr/pix2pix/1000001854_1_png/test/1000001854_0201.png\n",
      "✅ 已裁剪并复制拼接保存: /export/home/daifang/ncr/pix2pix/1000001854_1_png/test/1000001854_0203.png\n",
      "✅ 已裁剪并复制拼接保存: /export/home/daifang/ncr/pix2pix/1000001854_1_png/test/1000001854_0204.png\n",
      "✅ 已裁剪并复制拼接保存: /export/home/daifang/ncr/pix2pix/1000001854_1_png/test/1000001854_0205.png\n",
      "✅ 已裁剪并复制拼接保存: /export/home/daifang/ncr/pix2pix/1000001854_1_png/test/1000001854_0206.png\n",
      "✅ 已裁剪并复制拼接保存: /export/home/daifang/ncr/pix2pix/1000001854_1_png/test/1000001854_0207.png\n",
      "✅ 已裁剪并复制拼接保存: /export/home/daifang/ncr/pix2pix/1000001854_1_png/test/1000001854_0208.png\n",
      "✅ 已裁剪并复制拼接保存: /export/home/daifang/ncr/pix2pix/1000001854_1_png/test/1000001854_0209.png\n",
      "✅ 已裁剪并复制拼接保存: /export/home/daifang/ncr/pix2pix/1000001854_1_png/test/1000001854_0210.png\n",
      "✅ 已裁剪并复制拼接保存: /export/home/daifang/ncr/pix2pix/1000001854_1_png/test/1000001854_0211.png\n",
      "✅ 已裁剪并复制拼接保存: /export/home/daifang/ncr/pix2pix/1000001854_1_png/test/1000001854_0212.png\n",
      "✅ 已裁剪并复制拼接保存: /export/home/daifang/ncr/pix2pix/1000001854_1_png/test/1000001854_0213.png\n",
      "✅ 已裁剪并复制拼接保存: /export/home/daifang/ncr/pix2pix/1000001854_1_png/test/1000001854_0214.png\n",
      "✅ 已裁剪并复制拼接保存: /export/home/daifang/ncr/pix2pix/1000001854_1_png/test/1000001854_0215.png\n",
      "✅ 已裁剪并复制拼接保存: /export/home/daifang/ncr/pix2pix/1000001854_1_png/test/1000001854_0216.png\n",
      "✅ 已裁剪并复制拼接保存: /export/home/daifang/ncr/pix2pix/1000001854_1_png/test/1000001854_0217.png\n",
      "✅ 已裁剪并复制拼接保存: /export/home/daifang/ncr/pix2pix/1000001854_1_png/test/1000001854_0218.png\n",
      "✅ 已裁剪并复制拼接保存: /export/home/daifang/ncr/pix2pix/1000001854_1_png/test/1000001854_0220.png\n",
      "✅ 已裁剪并复制拼接保存: /export/home/daifang/ncr/pix2pix/1000001854_1_png/test/1000001854_0219.png\n",
      "✅ 已裁剪并复制拼接保存: /export/home/daifang/ncr/pix2pix/1000001854_1_png/test/1000001854_0221.png\n",
      "✅ 已裁剪并复制拼接保存: /export/home/daifang/ncr/pix2pix/1000001854_1_png/test/1000001854_0222.png\n",
      "✅ 已裁剪并复制拼接保存: /export/home/daifang/ncr/pix2pix/1000001854_1_png/test/1000001854_0223.png\n",
      "✅ 已裁剪并复制拼接保存: /export/home/daifang/ncr/pix2pix/1000001854_1_png/test/1000001854_0224.png\n",
      "✅ 已裁剪并复制拼接保存: /export/home/daifang/ncr/pix2pix/1000001854_1_png/test/1000001854_0225.png\n",
      "✅ 已裁剪并复制拼接保存: /export/home/daifang/ncr/pix2pix/1000001854_1_png/test/1000001854_0226.png\n",
      "✅ 已裁剪并复制拼接保存: /export/home/daifang/ncr/pix2pix/1000001854_1_png/test/1000001854_0227.png\n",
      "✅ 已裁剪并复制拼接保存: /export/home/daifang/ncr/pix2pix/1000001854_1_png/test/1000001854_0228.png\n",
      "✅ 已裁剪并复制拼接保存: /export/home/daifang/ncr/pix2pix/1000001854_1_png/test/1000001854_0229.png\n",
      "✅ 已裁剪并复制拼接保存: /export/home/daifang/ncr/pix2pix/1000001854_1_png/test/1000001854_0230.png\n",
      "✅ 已裁剪并复制拼接保存: /export/home/daifang/ncr/pix2pix/1000001854_1_png/test/1000001854_0233.png\n",
      "✅ 已裁剪并复制拼接保存: /export/home/daifang/ncr/pix2pix/1000001854_1_png/test/1000001854_0231.png\n",
      "✅ 已裁剪并复制拼接保存: /export/home/daifang/ncr/pix2pix/1000001854_1_png/test/1000001854_0232.png\n",
      "✅ 已裁剪并复制拼接保存: /export/home/daifang/ncr/pix2pix/1000001854_1_png/test/1000001854_0234.png\n",
      "✅ 已裁剪并复制拼接保存: /export/home/daifang/ncr/pix2pix/1000001854_1_png/test/1000001854_0235.png\n",
      "✅ 已裁剪并复制拼接保存: /export/home/daifang/ncr/pix2pix/1000001854_1_png/test/1000001854_0236.png\n",
      "✅ 已裁剪并复制拼接保存: /export/home/daifang/ncr/pix2pix/1000001854_1_png/test/1000001854_0237.png\n",
      "✅ 已裁剪并复制拼接保存: /export/home/daifang/ncr/pix2pix/1000001854_1_png/test/1000001854_0239.png\n",
      "✅ 已裁剪并复制拼接保存: /export/home/daifang/ncr/pix2pix/1000001854_1_png/test/1000001854_0238.png\n",
      "✅ 已裁剪并复制拼接保存: /export/home/daifang/ncr/pix2pix/1000001854_1_png/test/1000001854_0240.png\n",
      "✅ 已裁剪并复制拼接保存: /export/home/daifang/ncr/pix2pix/1000001854_1_png/test/1000001854_0241.png\n",
      "✅ 已裁剪并复制拼接保存: /export/home/daifang/ncr/pix2pix/1000001854_1_png/test/1000001854_0242.png\n",
      "✅ 已裁剪并复制拼接保存: /export/home/daifang/ncr/pix2pix/1000001854_1_png/test/1000001854_0243.png\n",
      "✅ 已裁剪并复制拼接保存: /export/home/daifang/ncr/pix2pix/1000001854_1_png/test/1000001854_0244.png\n",
      "✅ 已裁剪并复制拼接保存: /export/home/daifang/ncr/pix2pix/1000001854_1_png/test/1000001854_0245.png\n",
      "✅ 已裁剪并复制拼接保存: /export/home/daifang/ncr/pix2pix/1000001854_1_png/test/1000001854_0247.png\n",
      "✅ 已裁剪并复制拼接保存: /export/home/daifang/ncr/pix2pix/1000001854_1_png/test/1000001854_0248.png\n",
      "✅ 已裁剪并复制拼接保存: /export/home/daifang/ncr/pix2pix/1000001854_1_png/test/1000001854_0246.png\n",
      "✅ 已裁剪并复制拼接保存: /export/home/daifang/ncr/pix2pix/1000001854_1_png/test/1000001854_0251.png\n",
      "✅ 已裁剪并复制拼接保存: /export/home/daifang/ncr/pix2pix/1000001854_1_png/test/1000001854_0249.png\n",
      "✅ 已裁剪并复制拼接保存: /export/home/daifang/ncr/pix2pix/1000001854_1_png/test/1000001854_0250.png\n",
      "✅ 已裁剪并复制拼接保存: /export/home/daifang/ncr/pix2pix/1000001854_1_png/test/1000001854_0252.png\n",
      "✅ 已裁剪并复制拼接保存: /export/home/daifang/ncr/pix2pix/1000001854_1_png/test/1000001854_0253.png\n",
      "✅ 已裁剪并复制拼接保存: /export/home/daifang/ncr/pix2pix/1000001854_1_png/test/1000001854_0254.png\n",
      "✅ 已裁剪并复制拼接保存: /export/home/daifang/ncr/pix2pix/1000001854_1_png/test/1000001854_0255.png\n",
      "✅ 已裁剪并复制拼接保存: /export/home/daifang/ncr/pix2pix/1000001854_1_png/test/1000001854_0256.png\n",
      "✅ 已裁剪并复制拼接保存: /export/home/daifang/ncr/pix2pix/1000001854_1_png/test/1000001854_0257.png\n",
      "✅ 已裁剪并复制拼接保存: /export/home/daifang/ncr/pix2pix/1000001854_1_png/test/1000001854_0258.png\n",
      "✅ 已裁剪并复制拼接保存: /export/home/daifang/ncr/pix2pix/1000001854_1_png/test/1000001854_0260.png\n",
      "✅ 已裁剪并复制拼接保存: /export/home/daifang/ncr/pix2pix/1000001854_1_png/test/1000001854_0259.png\n",
      "✅ 已裁剪并复制拼接保存: /export/home/daifang/ncr/pix2pix/1000001854_1_png/test/1000001854_0261.png\n",
      "✅ 已裁剪并复制拼接保存: /export/home/daifang/ncr/pix2pix/1000001854_1_png/test/1000001854_0263.png\n",
      "✅ 已裁剪并复制拼接保存: /export/home/daifang/ncr/pix2pix/1000001854_1_png/test/1000001854_0262.png\n",
      "✅ 已裁剪并复制拼接保存: /export/home/daifang/ncr/pix2pix/1000001854_1_png/test/1000001854_0265.png\n",
      "✅ 已裁剪并复制拼接保存: /export/home/daifang/ncr/pix2pix/1000001854_1_png/test/1000001854_0267.png\n",
      "✅ 已裁剪并复制拼接保存: /export/home/daifang/ncr/pix2pix/1000001854_1_png/test/1000001854_0264.png\n",
      "✅ 已裁剪并复制拼接保存: /export/home/daifang/ncr/pix2pix/1000001854_1_png/test/1000001854_0266.png\n",
      "✅ 已裁剪并复制拼接保存: /export/home/daifang/ncr/pix2pix/1000001854_1_png/test/1000001854_0268.png\n",
      "✅ 已裁剪并复制拼接保存: /export/home/daifang/ncr/pix2pix/1000001854_1_png/test/1000001854_0269.png\n",
      "✅ 已裁剪并复制拼接保存: /export/home/daifang/ncr/pix2pix/1000001854_1_png/test/1000001854_0270.png\n",
      "✅ 已裁剪并复制拼接保存: /export/home/daifang/ncr/pix2pix/1000001854_1_png/test/1000001854_0271.png\n",
      "✅ 已裁剪并复制拼接保存: /export/home/daifang/ncr/pix2pix/1000001854_1_png/test/1000001854_0272.png\n",
      "✅ 已裁剪并复制拼接保存: /export/home/daifang/ncr/pix2pix/1000001854_1_png/test/1000001854_0273.png\n",
      "✅ 已裁剪并复制拼接保存: /export/home/daifang/ncr/pix2pix/1000001854_1_png/test/1000001854_0274.png\n",
      "✅ 已裁剪并复制拼接保存: /export/home/daifang/ncr/pix2pix/1000001854_1_png/test/1000001854_0276.png\n",
      "✅ 已裁剪并复制拼接保存: /export/home/daifang/ncr/pix2pix/1000001854_1_png/test/1000001854_0275.png\n",
      "✅ 已裁剪并复制拼接保存: /export/home/daifang/ncr/pix2pix/1000001854_1_png/test/1000001854_0279.png\n",
      "✅ 已裁剪并复制拼接保存: /export/home/daifang/ncr/pix2pix/1000001854_1_png/test/1000001854_0278.png\n",
      "✅ 已裁剪并复制拼接保存: /export/home/daifang/ncr/pix2pix/1000001854_1_png/test/1000001854_0277.png\n",
      "✅ 已裁剪并复制拼接保存: /export/home/daifang/ncr/pix2pix/1000001854_1_png/test/1000001854_0280.png\n",
      "✅ 已裁剪并复制拼接保存: /export/home/daifang/ncr/pix2pix/1000001854_1_png/test/1000001854_0281.png\n",
      "✅ 已裁剪并复制拼接保存: /export/home/daifang/ncr/pix2pix/1000001854_1_png/test/1000001854_0282.png\n",
      "✅ 已裁剪并复制拼接保存: /export/home/daifang/ncr/pix2pix/1000001854_1_png/test/1000001854_0283.png\n",
      "✅ 已裁剪并复制拼接保存: /export/home/daifang/ncr/pix2pix/1000001854_1_png/test/1000001854_0285.png\n",
      "✅ 已裁剪并复制拼接保存: /export/home/daifang/ncr/pix2pix/1000001854_1_png/test/1000001854_0284.png\n",
      "✅ 已裁剪并复制拼接保存: /export/home/daifang/ncr/pix2pix/1000001854_1_png/test/1000001854_0286.png\n",
      "✅ 已裁剪并复制拼接保存: /export/home/daifang/ncr/pix2pix/1000001854_1_png/test/1000001854_0287.png\n"
     ]
    }
   ],
   "source": [
    "import cv2\n",
    "import os\n",
    "from pathlib import Path\n",
    "import numpy as np\n",
    "\n",
    "def crop_to_square(image):\n",
    "    \"\"\"将图像裁剪为以短边为基准的正方形（中心裁剪）\"\"\"\n",
    "    h, w = image.shape[:2]\n",
    "    short = min(h, w)\n",
    "\n",
    "    # 计算中心点\n",
    "    center_x, center_y = w // 2, h // 2\n",
    "\n",
    "    # 计算裁剪区域\n",
    "    x1 = center_x - short // 2\n",
    "    y1 = center_y - short // 2\n",
    "    x2 = x1 + short\n",
    "    y2 = y1 + short\n",
    "\n",
    "    return image[y1:y2, x1:x2]\n",
    "\n",
    "def crop_and_duplicate(folder_path):\n",
    "    folder = Path(folder_path)\n",
    "\n",
    "    for img_path in folder.glob(\"*.*\"):\n",
    "        if img_path.suffix.lower() not in [\".png\", \".jpg\", \".jpeg\", \".bmp\", \".tif\", \".tiff\"]:\n",
    "            continue\n",
    "\n",
    "        img = cv2.imread(str(img_path))\n",
    "        if img is None:\n",
    "            print(f\"⚠️ 无法读取: {img_path}\")\n",
    "            continue\n",
    "\n",
    "        # 1. 裁剪成正方形\n",
    "        cropped = crop_to_square(img)\n",
    "\n",
    "        # 2. 拼接成并排两张\n",
    "        duplicated = np.hstack([cropped, cropped])\n",
    "\n",
    "        # 3. 保存（覆盖原图）\n",
    "        cv2.imwrite(str(img_path), duplicated)\n",
    "        print(f\"✅ 已裁剪并复制拼接保存: {img_path}\")\n",
    "\n",
    "# 示例用法\n",
    "# 修改为你的文件夹路径\n",
    "crop_and_duplicate(\"/export/home/daifang/ncr/pix2pix/1000001854_1_png/test\")\n"
   ]
  },
  {
   "cell_type": "code",
   "execution_count": 4,
   "metadata": {},
   "outputs": [
    {
     "name": "stdout",
     "output_type": "stream",
     "text": [
      "✅ 已分类: 1000001854_0001_real_A.png\n",
      "✅ 已分类: 1000001854_0001_fake_B.png\n",
      "✅ 已分类: 1000001854_0001_real_B.png\n",
      "✅ 已分类: 1000001854_0002_real_A.png\n",
      "✅ 已分类: 1000001854_0002_fake_B.png\n",
      "✅ 已分类: 1000001854_0002_real_B.png\n",
      "✅ 已分类: 1000001854_0003_real_A.png\n",
      "✅ 已分类: 1000001854_0003_fake_B.png\n",
      "✅ 已分类: 1000001854_0003_real_B.png\n",
      "✅ 已分类: 1000001854_0004_real_A.png\n",
      "✅ 已分类: 1000001854_0004_fake_B.png\n",
      "✅ 已分类: 1000001854_0004_real_B.png\n",
      "✅ 已分类: 1000001854_0005_real_A.png\n",
      "✅ 已分类: 1000001854_0005_fake_B.png\n",
      "✅ 已分类: 1000001854_0005_real_B.png\n",
      "✅ 已分类: 1000001854_0006_real_A.png\n",
      "✅ 已分类: 1000001854_0006_fake_B.png\n",
      "✅ 已分类: 1000001854_0006_real_B.png\n",
      "✅ 已分类: 1000001854_0007_real_A.png\n",
      "✅ 已分类: 1000001854_0007_fake_B.png\n",
      "✅ 已分类: 1000001854_0007_real_B.png\n",
      "✅ 已分类: 1000001854_0008_real_A.png\n",
      "✅ 已分类: 1000001854_0008_fake_B.png\n",
      "✅ 已分类: 1000001854_0008_real_B.png\n",
      "✅ 已分类: 1000001854_0009_real_A.png\n",
      "✅ 已分类: 1000001854_0009_fake_B.png\n",
      "✅ 已分类: 1000001854_0009_real_B.png\n",
      "✅ 已分类: 1000001854_0010_real_A.png\n",
      "✅ 已分类: 1000001854_0010_fake_B.png\n",
      "✅ 已分类: 1000001854_0010_real_B.png\n",
      "✅ 已分类: 1000001854_0011_real_A.png\n",
      "✅ 已分类: 1000001854_0011_fake_B.png\n",
      "✅ 已分类: 1000001854_0011_real_B.png\n",
      "✅ 已分类: 1000001854_0012_real_A.png\n",
      "✅ 已分类: 1000001854_0012_fake_B.png\n",
      "✅ 已分类: 1000001854_0012_real_B.png\n",
      "✅ 已分类: 1000001854_0013_real_A.png\n",
      "✅ 已分类: 1000001854_0013_fake_B.png\n",
      "✅ 已分类: 1000001854_0013_real_B.png\n",
      "✅ 已分类: 1000001854_0014_real_A.png\n",
      "✅ 已分类: 1000001854_0014_fake_B.png\n",
      "✅ 已分类: 1000001854_0014_real_B.png\n",
      "✅ 已分类: 1000001854_0015_real_A.png\n",
      "✅ 已分类: 1000001854_0015_fake_B.png\n",
      "✅ 已分类: 1000001854_0015_real_B.png\n",
      "✅ 已分类: 1000001854_0016_real_A.png\n",
      "✅ 已分类: 1000001854_0016_fake_B.png\n",
      "✅ 已分类: 1000001854_0016_real_B.png\n",
      "✅ 已分类: 1000001854_0017_real_A.png\n",
      "✅ 已分类: 1000001854_0017_fake_B.png\n",
      "✅ 已分类: 1000001854_0017_real_B.png\n",
      "✅ 已分类: 1000001854_0018_real_A.png\n",
      "✅ 已分类: 1000001854_0018_fake_B.png\n",
      "✅ 已分类: 1000001854_0018_real_B.png\n",
      "✅ 已分类: 1000001854_0019_real_A.png\n",
      "✅ 已分类: 1000001854_0019_fake_B.png\n",
      "✅ 已分类: 1000001854_0019_real_B.png\n",
      "✅ 已分类: 1000001854_0020_real_A.png\n",
      "✅ 已分类: 1000001854_0020_fake_B.png\n",
      "✅ 已分类: 1000001854_0020_real_B.png\n",
      "✅ 已分类: 1000001854_0021_real_A.png\n",
      "✅ 已分类: 1000001854_0021_fake_B.png\n",
      "✅ 已分类: 1000001854_0021_real_B.png\n",
      "✅ 已分类: 1000001854_0022_real_A.png\n",
      "✅ 已分类: 1000001854_0022_fake_B.png\n",
      "✅ 已分类: 1000001854_0022_real_B.png\n",
      "✅ 已分类: 1000001854_0023_real_A.png\n",
      "✅ 已分类: 1000001854_0023_fake_B.png\n",
      "✅ 已分类: 1000001854_0023_real_B.png\n",
      "✅ 已分类: 1000001854_0024_real_A.png\n",
      "✅ 已分类: 1000001854_0024_fake_B.png\n",
      "✅ 已分类: 1000001854_0024_real_B.png\n",
      "✅ 已分类: 1000001854_0025_real_A.png\n",
      "✅ 已分类: 1000001854_0025_fake_B.png\n",
      "✅ 已分类: 1000001854_0025_real_B.png\n",
      "✅ 已分类: 1000001854_0026_real_A.png\n",
      "✅ 已分类: 1000001854_0026_fake_B.png\n",
      "✅ 已分类: 1000001854_0026_real_B.png\n",
      "✅ 已分类: 1000001854_0027_real_A.png\n",
      "✅ 已分类: 1000001854_0027_fake_B.png\n",
      "✅ 已分类: 1000001854_0027_real_B.png\n",
      "✅ 已分类: 1000001854_0028_real_A.png\n",
      "✅ 已分类: 1000001854_0028_fake_B.png\n",
      "✅ 已分类: 1000001854_0028_real_B.png\n",
      "✅ 已分类: 1000001854_0029_real_A.png\n",
      "✅ 已分类: 1000001854_0029_fake_B.png\n",
      "✅ 已分类: 1000001854_0029_real_B.png\n",
      "✅ 已分类: 1000001854_0030_real_A.png\n",
      "✅ 已分类: 1000001854_0030_fake_B.png\n",
      "✅ 已分类: 1000001854_0030_real_B.png\n",
      "✅ 已分类: 1000001854_0031_real_A.png\n",
      "✅ 已分类: 1000001854_0031_fake_B.png\n",
      "✅ 已分类: 1000001854_0031_real_B.png\n",
      "✅ 已分类: 1000001854_0032_real_A.png\n",
      "✅ 已分类: 1000001854_0032_fake_B.png\n",
      "✅ 已分类: 1000001854_0032_real_B.png\n",
      "✅ 已分类: 1000001854_0033_real_A.png\n",
      "✅ 已分类: 1000001854_0033_fake_B.png\n",
      "✅ 已分类: 1000001854_0033_real_B.png\n",
      "✅ 已分类: 1000001854_0034_real_A.png\n",
      "✅ 已分类: 1000001854_0034_fake_B.png\n",
      "✅ 已分类: 1000001854_0034_real_B.png\n",
      "✅ 已分类: 1000001854_0035_real_A.png\n",
      "✅ 已分类: 1000001854_0035_fake_B.png\n",
      "✅ 已分类: 1000001854_0035_real_B.png\n",
      "✅ 已分类: 1000001854_0036_real_A.png\n",
      "✅ 已分类: 1000001854_0036_fake_B.png\n",
      "✅ 已分类: 1000001854_0036_real_B.png\n",
      "✅ 已分类: 1000001854_0037_real_A.png\n",
      "✅ 已分类: 1000001854_0037_fake_B.png\n",
      "✅ 已分类: 1000001854_0037_real_B.png\n",
      "✅ 已分类: 1000001854_0038_real_A.png\n",
      "✅ 已分类: 1000001854_0038_fake_B.png\n",
      "✅ 已分类: 1000001854_0038_real_B.png\n",
      "✅ 已分类: 1000001854_0039_real_A.png\n",
      "✅ 已分类: 1000001854_0039_fake_B.png\n",
      "✅ 已分类: 1000001854_0039_real_B.png\n",
      "✅ 已分类: 1000001854_0040_real_A.png\n",
      "✅ 已分类: 1000001854_0040_fake_B.png\n",
      "✅ 已分类: 1000001854_0040_real_B.png\n",
      "✅ 已分类: 1000001854_0041_real_A.png\n",
      "✅ 已分类: 1000001854_0041_fake_B.png\n",
      "✅ 已分类: 1000001854_0041_real_B.png\n",
      "✅ 已分类: 1000001854_0042_real_A.png\n",
      "✅ 已分类: 1000001854_0042_fake_B.png\n",
      "✅ 已分类: 1000001854_0042_real_B.png\n",
      "✅ 已分类: 1000001854_0043_real_A.png\n",
      "✅ 已分类: 1000001854_0043_fake_B.png\n",
      "✅ 已分类: 1000001854_0043_real_B.png\n",
      "✅ 已分类: 1000001854_0044_real_A.png\n",
      "✅ 已分类: 1000001854_0044_fake_B.png\n",
      "✅ 已分类: 1000001854_0044_real_B.png\n",
      "✅ 已分类: 1000001854_0045_real_A.png\n",
      "✅ 已分类: 1000001854_0045_fake_B.png\n",
      "✅ 已分类: 1000001854_0045_real_B.png\n",
      "✅ 已分类: 1000001854_0046_real_A.png\n",
      "✅ 已分类: 1000001854_0046_fake_B.png\n",
      "✅ 已分类: 1000001854_0046_real_B.png\n",
      "✅ 已分类: 1000001854_0047_real_A.png\n",
      "✅ 已分类: 1000001854_0047_fake_B.png\n",
      "✅ 已分类: 1000001854_0047_real_B.png\n",
      "✅ 已分类: 1000001854_0048_real_A.png\n",
      "✅ 已分类: 1000001854_0048_fake_B.png\n",
      "✅ 已分类: 1000001854_0048_real_B.png\n",
      "✅ 已分类: 1000001854_0049_real_A.png\n",
      "✅ 已分类: 1000001854_0049_fake_B.png\n",
      "✅ 已分类: 1000001854_0049_real_B.png\n",
      "✅ 已分类: 1000001854_0050_real_A.png\n",
      "✅ 已分类: 1000001854_0050_fake_B.png\n",
      "✅ 已分类: 1000001854_0050_real_B.png\n",
      "✅ 已分类: 1000001854_0051_real_A.png\n",
      "✅ 已分类: 1000001854_0051_fake_B.png\n",
      "✅ 已分类: 1000001854_0051_real_B.png\n",
      "✅ 已分类: 1000001854_0052_real_A.png\n",
      "✅ 已分类: 1000001854_0052_fake_B.png\n",
      "✅ 已分类: 1000001854_0052_real_B.png\n",
      "✅ 已分类: 1000001854_0053_real_A.png\n",
      "✅ 已分类: 1000001854_0053_fake_B.png\n",
      "✅ 已分类: 1000001854_0053_real_B.png\n",
      "✅ 已分类: 1000001854_0054_real_A.png\n",
      "✅ 已分类: 1000001854_0054_fake_B.png\n",
      "✅ 已分类: 1000001854_0054_real_B.png\n",
      "✅ 已分类: 1000001854_0055_real_A.png\n",
      "✅ 已分类: 1000001854_0055_fake_B.png\n",
      "✅ 已分类: 1000001854_0055_real_B.png\n",
      "✅ 已分类: 1000001854_0056_real_A.png\n",
      "✅ 已分类: 1000001854_0056_fake_B.png\n",
      "✅ 已分类: 1000001854_0056_real_B.png\n",
      "✅ 已分类: 1000001854_0057_real_A.png\n",
      "✅ 已分类: 1000001854_0057_fake_B.png\n",
      "✅ 已分类: 1000001854_0057_real_B.png\n",
      "✅ 已分类: 1000001854_0058_real_A.png\n",
      "✅ 已分类: 1000001854_0058_fake_B.png\n",
      "✅ 已分类: 1000001854_0058_real_B.png\n",
      "✅ 已分类: 1000001854_0059_real_A.png\n",
      "✅ 已分类: 1000001854_0059_fake_B.png\n",
      "✅ 已分类: 1000001854_0059_real_B.png\n",
      "✅ 已分类: 1000001854_0060_real_A.png\n",
      "✅ 已分类: 1000001854_0060_fake_B.png\n",
      "✅ 已分类: 1000001854_0060_real_B.png\n",
      "✅ 已分类: 1000001854_0061_real_A.png\n",
      "✅ 已分类: 1000001854_0061_fake_B.png\n",
      "✅ 已分类: 1000001854_0061_real_B.png\n",
      "✅ 已分类: 1000001854_0062_real_A.png\n",
      "✅ 已分类: 1000001854_0062_fake_B.png\n",
      "✅ 已分类: 1000001854_0062_real_B.png\n",
      "✅ 已分类: 1000001854_0063_real_A.png\n",
      "✅ 已分类: 1000001854_0063_fake_B.png\n",
      "✅ 已分类: 1000001854_0063_real_B.png\n",
      "✅ 已分类: 1000001854_0064_real_A.png\n",
      "✅ 已分类: 1000001854_0064_fake_B.png\n",
      "✅ 已分类: 1000001854_0064_real_B.png\n",
      "✅ 已分类: 1000001854_0065_real_A.png\n",
      "✅ 已分类: 1000001854_0065_fake_B.png\n",
      "✅ 已分类: 1000001854_0065_real_B.png\n",
      "✅ 已分类: 1000001854_0066_real_A.png\n",
      "✅ 已分类: 1000001854_0066_fake_B.png\n",
      "✅ 已分类: 1000001854_0066_real_B.png\n",
      "✅ 已分类: 1000001854_0067_real_A.png\n",
      "✅ 已分类: 1000001854_0067_fake_B.png\n",
      "✅ 已分类: 1000001854_0067_real_B.png\n",
      "✅ 已分类: 1000001854_0068_real_A.png\n",
      "✅ 已分类: 1000001854_0068_fake_B.png\n",
      "✅ 已分类: 1000001854_0068_real_B.png\n",
      "✅ 已分类: 1000001854_0069_real_A.png\n",
      "✅ 已分类: 1000001854_0069_fake_B.png\n",
      "✅ 已分类: 1000001854_0069_real_B.png\n",
      "✅ 已分类: 1000001854_0070_real_A.png\n",
      "✅ 已分类: 1000001854_0070_fake_B.png\n",
      "✅ 已分类: 1000001854_0070_real_B.png\n",
      "✅ 已分类: 1000001854_0071_real_A.png\n",
      "✅ 已分类: 1000001854_0071_fake_B.png\n",
      "✅ 已分类: 1000001854_0071_real_B.png\n",
      "✅ 已分类: 1000001854_0072_real_A.png\n",
      "✅ 已分类: 1000001854_0072_fake_B.png\n",
      "✅ 已分类: 1000001854_0072_real_B.png\n",
      "✅ 已分类: 1000001854_0073_real_A.png\n",
      "✅ 已分类: 1000001854_0073_fake_B.png\n",
      "✅ 已分类: 1000001854_0073_real_B.png\n",
      "✅ 已分类: 1000001854_0074_real_A.png\n",
      "✅ 已分类: 1000001854_0074_fake_B.png\n",
      "✅ 已分类: 1000001854_0074_real_B.png\n",
      "✅ 已分类: 1000001854_0075_real_A.png\n",
      "✅ 已分类: 1000001854_0075_fake_B.png\n",
      "✅ 已分类: 1000001854_0075_real_B.png\n",
      "✅ 已分类: 1000001854_0076_real_A.png\n",
      "✅ 已分类: 1000001854_0076_fake_B.png\n",
      "✅ 已分类: 1000001854_0076_real_B.png\n",
      "✅ 已分类: 1000001854_0077_real_A.png\n",
      "✅ 已分类: 1000001854_0077_fake_B.png\n",
      "✅ 已分类: 1000001854_0077_real_B.png\n",
      "✅ 已分类: 1000001854_0078_real_A.png\n",
      "✅ 已分类: 1000001854_0078_fake_B.png\n",
      "✅ 已分类: 1000001854_0078_real_B.png\n",
      "✅ 已分类: 1000001854_0079_real_A.png\n",
      "✅ 已分类: 1000001854_0079_fake_B.png\n",
      "✅ 已分类: 1000001854_0079_real_B.png\n",
      "✅ 已分类: 1000001854_0080_real_A.png\n",
      "✅ 已分类: 1000001854_0080_fake_B.png\n",
      "✅ 已分类: 1000001854_0080_real_B.png\n",
      "✅ 已分类: 1000001854_0081_real_A.png\n",
      "✅ 已分类: 1000001854_0081_fake_B.png\n",
      "✅ 已分类: 1000001854_0081_real_B.png\n",
      "✅ 已分类: 1000001854_0082_real_A.png\n",
      "✅ 已分类: 1000001854_0082_fake_B.png\n",
      "✅ 已分类: 1000001854_0082_real_B.png\n",
      "✅ 已分类: 1000001854_0083_real_A.png\n",
      "✅ 已分类: 1000001854_0083_fake_B.png\n",
      "✅ 已分类: 1000001854_0083_real_B.png\n",
      "✅ 已分类: 1000001854_0084_real_A.png\n",
      "✅ 已分类: 1000001854_0084_fake_B.png\n",
      "✅ 已分类: 1000001854_0084_real_B.png\n",
      "✅ 已分类: 1000001854_0085_real_A.png\n",
      "✅ 已分类: 1000001854_0085_fake_B.png\n",
      "✅ 已分类: 1000001854_0085_real_B.png\n",
      "✅ 已分类: 1000001854_0086_real_A.png\n",
      "✅ 已分类: 1000001854_0086_fake_B.png\n",
      "✅ 已分类: 1000001854_0086_real_B.png\n",
      "✅ 已分类: 1000001854_0087_real_A.png\n",
      "✅ 已分类: 1000001854_0087_fake_B.png\n",
      "✅ 已分类: 1000001854_0087_real_B.png\n",
      "✅ 已分类: 1000001854_0088_real_A.png\n",
      "✅ 已分类: 1000001854_0088_fake_B.png\n",
      "✅ 已分类: 1000001854_0088_real_B.png\n",
      "✅ 已分类: 1000001854_0089_real_A.png\n",
      "✅ 已分类: 1000001854_0089_fake_B.png\n",
      "✅ 已分类: 1000001854_0089_real_B.png\n",
      "✅ 已分类: 1000001854_0090_real_A.png\n",
      "✅ 已分类: 1000001854_0090_fake_B.png\n",
      "✅ 已分类: 1000001854_0090_real_B.png\n",
      "✅ 已分类: 1000001854_0091_real_A.png\n",
      "✅ 已分类: 1000001854_0091_fake_B.png\n",
      "✅ 已分类: 1000001854_0091_real_B.png\n",
      "✅ 已分类: 1000001854_0092_real_A.png\n",
      "✅ 已分类: 1000001854_0092_fake_B.png\n",
      "✅ 已分类: 1000001854_0092_real_B.png\n",
      "✅ 已分类: 1000001854_0093_real_A.png\n",
      "✅ 已分类: 1000001854_0093_fake_B.png\n",
      "✅ 已分类: 1000001854_0093_real_B.png\n",
      "✅ 已分类: 1000001854_0094_real_A.png\n",
      "✅ 已分类: 1000001854_0094_fake_B.png\n",
      "✅ 已分类: 1000001854_0094_real_B.png\n",
      "✅ 已分类: 1000001854_0095_real_A.png\n",
      "✅ 已分类: 1000001854_0095_fake_B.png\n",
      "✅ 已分类: 1000001854_0095_real_B.png\n",
      "✅ 已分类: 1000001854_0096_real_A.png\n",
      "✅ 已分类: 1000001854_0096_fake_B.png\n",
      "✅ 已分类: 1000001854_0096_real_B.png\n",
      "✅ 已分类: 1000001854_0097_real_A.png\n",
      "✅ 已分类: 1000001854_0097_fake_B.png\n",
      "✅ 已分类: 1000001854_0097_real_B.png\n",
      "✅ 已分类: 1000001854_0098_real_A.png\n",
      "✅ 已分类: 1000001854_0098_fake_B.png\n",
      "✅ 已分类: 1000001854_0098_real_B.png\n",
      "✅ 已分类: 1000001854_0099_real_A.png\n",
      "✅ 已分类: 1000001854_0099_fake_B.png\n",
      "✅ 已分类: 1000001854_0099_real_B.png\n",
      "✅ 已分类: 1000001854_0100_real_A.png\n",
      "✅ 已分类: 1000001854_0100_fake_B.png\n",
      "✅ 已分类: 1000001854_0100_real_B.png\n",
      "✅ 已分类: 1000001854_0101_real_A.png\n",
      "✅ 已分类: 1000001854_0101_fake_B.png\n",
      "✅ 已分类: 1000001854_0101_real_B.png\n",
      "✅ 已分类: 1000001854_0102_real_A.png\n",
      "✅ 已分类: 1000001854_0102_fake_B.png\n",
      "✅ 已分类: 1000001854_0102_real_B.png\n",
      "✅ 已分类: 1000001854_0103_real_A.png\n",
      "✅ 已分类: 1000001854_0103_fake_B.png\n",
      "✅ 已分类: 1000001854_0103_real_B.png\n",
      "✅ 已分类: 1000001854_0104_real_A.png\n",
      "✅ 已分类: 1000001854_0104_fake_B.png\n",
      "✅ 已分类: 1000001854_0104_real_B.png\n",
      "✅ 已分类: 1000001854_0105_real_A.png\n",
      "✅ 已分类: 1000001854_0105_fake_B.png\n",
      "✅ 已分类: 1000001854_0105_real_B.png\n",
      "✅ 已分类: 1000001854_0106_real_A.png\n",
      "✅ 已分类: 1000001854_0106_fake_B.png\n",
      "✅ 已分类: 1000001854_0106_real_B.png\n",
      "✅ 已分类: 1000001854_0107_real_A.png\n",
      "✅ 已分类: 1000001854_0107_fake_B.png\n",
      "✅ 已分类: 1000001854_0107_real_B.png\n",
      "✅ 已分类: 1000001854_0108_real_A.png\n",
      "✅ 已分类: 1000001854_0108_fake_B.png\n",
      "✅ 已分类: 1000001854_0108_real_B.png\n",
      "✅ 已分类: 1000001854_0109_real_A.png\n",
      "✅ 已分类: 1000001854_0109_fake_B.png\n",
      "✅ 已分类: 1000001854_0109_real_B.png\n",
      "✅ 已分类: 1000001854_0110_real_A.png\n",
      "✅ 已分类: 1000001854_0110_fake_B.png\n",
      "✅ 已分类: 1000001854_0110_real_B.png\n",
      "✅ 已分类: 1000001854_0111_real_A.png\n",
      "✅ 已分类: 1000001854_0111_fake_B.png\n",
      "✅ 已分类: 1000001854_0111_real_B.png\n",
      "✅ 已分类: 1000001854_0112_real_A.png\n",
      "✅ 已分类: 1000001854_0112_fake_B.png\n",
      "✅ 已分类: 1000001854_0112_real_B.png\n",
      "✅ 已分类: 1000001854_0113_real_A.png\n",
      "✅ 已分类: 1000001854_0113_fake_B.png\n",
      "✅ 已分类: 1000001854_0113_real_B.png\n",
      "✅ 已分类: 1000001854_0114_real_A.png\n",
      "✅ 已分类: 1000001854_0114_fake_B.png\n",
      "✅ 已分类: 1000001854_0114_real_B.png\n",
      "✅ 已分类: 1000001854_0115_real_A.png\n",
      "✅ 已分类: 1000001854_0115_fake_B.png\n",
      "✅ 已分类: 1000001854_0115_real_B.png\n",
      "✅ 已分类: 1000001854_0116_real_A.png\n",
      "✅ 已分类: 1000001854_0116_fake_B.png\n",
      "✅ 已分类: 1000001854_0116_real_B.png\n",
      "✅ 已分类: 1000001854_0117_real_A.png\n",
      "✅ 已分类: 1000001854_0117_fake_B.png\n",
      "✅ 已分类: 1000001854_0117_real_B.png\n",
      "✅ 已分类: 1000001854_0118_real_A.png\n",
      "✅ 已分类: 1000001854_0118_fake_B.png\n",
      "✅ 已分类: 1000001854_0118_real_B.png\n",
      "✅ 已分类: 1000001854_0119_real_A.png\n",
      "✅ 已分类: 1000001854_0119_fake_B.png\n",
      "✅ 已分类: 1000001854_0119_real_B.png\n",
      "✅ 已分类: 1000001854_0120_real_A.png\n",
      "✅ 已分类: 1000001854_0120_fake_B.png\n",
      "✅ 已分类: 1000001854_0120_real_B.png\n",
      "✅ 已分类: 1000001854_0121_real_A.png\n",
      "✅ 已分类: 1000001854_0121_fake_B.png\n",
      "✅ 已分类: 1000001854_0121_real_B.png\n",
      "✅ 已分类: 1000001854_0122_real_A.png\n",
      "✅ 已分类: 1000001854_0122_fake_B.png\n",
      "✅ 已分类: 1000001854_0122_real_B.png\n",
      "✅ 已分类: 1000001854_0123_real_A.png\n",
      "✅ 已分类: 1000001854_0123_fake_B.png\n",
      "✅ 已分类: 1000001854_0123_real_B.png\n",
      "✅ 已分类: 1000001854_0124_real_A.png\n",
      "✅ 已分类: 1000001854_0124_fake_B.png\n",
      "✅ 已分类: 1000001854_0124_real_B.png\n",
      "✅ 已分类: 1000001854_0125_real_A.png\n",
      "✅ 已分类: 1000001854_0125_fake_B.png\n",
      "✅ 已分类: 1000001854_0125_real_B.png\n",
      "✅ 已分类: 1000001854_0126_real_A.png\n",
      "✅ 已分类: 1000001854_0126_fake_B.png\n",
      "✅ 已分类: 1000001854_0126_real_B.png\n",
      "✅ 已分类: 1000001854_0127_real_A.png\n",
      "✅ 已分类: 1000001854_0127_fake_B.png\n",
      "✅ 已分类: 1000001854_0127_real_B.png\n",
      "✅ 已分类: 1000001854_0128_real_A.png\n",
      "✅ 已分类: 1000001854_0128_fake_B.png\n",
      "✅ 已分类: 1000001854_0128_real_B.png\n",
      "✅ 已分类: 1000001854_0129_real_A.png\n",
      "✅ 已分类: 1000001854_0129_fake_B.png\n",
      "✅ 已分类: 1000001854_0129_real_B.png\n",
      "✅ 已分类: 1000001854_0130_real_A.png\n",
      "✅ 已分类: 1000001854_0130_fake_B.png\n",
      "✅ 已分类: 1000001854_0130_real_B.png\n",
      "✅ 已分类: 1000001854_0131_real_A.png\n",
      "✅ 已分类: 1000001854_0131_fake_B.png\n",
      "✅ 已分类: 1000001854_0131_real_B.png\n",
      "✅ 已分类: 1000001854_0132_real_A.png\n",
      "✅ 已分类: 1000001854_0132_fake_B.png\n",
      "✅ 已分类: 1000001854_0132_real_B.png\n",
      "✅ 已分类: 1000001854_0133_real_A.png\n",
      "✅ 已分类: 1000001854_0133_fake_B.png\n",
      "✅ 已分类: 1000001854_0133_real_B.png\n",
      "✅ 已分类: 1000001854_0134_real_A.png\n",
      "✅ 已分类: 1000001854_0134_fake_B.png\n",
      "✅ 已分类: 1000001854_0134_real_B.png\n",
      "✅ 已分类: 1000001854_0135_real_A.png\n",
      "✅ 已分类: 1000001854_0135_fake_B.png\n",
      "✅ 已分类: 1000001854_0135_real_B.png\n",
      "✅ 已分类: 1000001854_0136_real_A.png\n",
      "✅ 已分类: 1000001854_0136_fake_B.png\n",
      "✅ 已分类: 1000001854_0136_real_B.png\n",
      "✅ 已分类: 1000001854_0137_real_A.png\n",
      "✅ 已分类: 1000001854_0137_fake_B.png\n",
      "✅ 已分类: 1000001854_0137_real_B.png\n",
      "✅ 已分类: 1000001854_0138_real_A.png\n",
      "✅ 已分类: 1000001854_0138_fake_B.png\n",
      "✅ 已分类: 1000001854_0138_real_B.png\n",
      "✅ 已分类: 1000001854_0139_real_A.png\n",
      "✅ 已分类: 1000001854_0139_fake_B.png\n",
      "✅ 已分类: 1000001854_0139_real_B.png\n",
      "✅ 已分类: 1000001854_0140_real_A.png\n",
      "✅ 已分类: 1000001854_0140_fake_B.png\n",
      "✅ 已分类: 1000001854_0140_real_B.png\n",
      "✅ 已分类: 1000001854_0141_real_A.png\n",
      "✅ 已分类: 1000001854_0141_fake_B.png\n",
      "✅ 已分类: 1000001854_0141_real_B.png\n",
      "✅ 已分类: 1000001854_0142_real_A.png\n",
      "✅ 已分类: 1000001854_0142_fake_B.png\n",
      "✅ 已分类: 1000001854_0142_real_B.png\n",
      "✅ 已分类: 1000001854_0143_real_A.png\n",
      "✅ 已分类: 1000001854_0143_fake_B.png\n",
      "✅ 已分类: 1000001854_0143_real_B.png\n",
      "✅ 已分类: 1000001854_0144_real_A.png\n",
      "✅ 已分类: 1000001854_0144_fake_B.png\n",
      "✅ 已分类: 1000001854_0144_real_B.png\n",
      "✅ 已分类: 1000001854_0145_real_A.png\n",
      "✅ 已分类: 1000001854_0145_fake_B.png\n",
      "✅ 已分类: 1000001854_0145_real_B.png\n",
      "✅ 已分类: 1000001854_0146_real_A.png\n",
      "✅ 已分类: 1000001854_0146_fake_B.png\n",
      "✅ 已分类: 1000001854_0146_real_B.png\n",
      "✅ 已分类: 1000001854_0147_real_A.png\n",
      "✅ 已分类: 1000001854_0147_fake_B.png\n",
      "✅ 已分类: 1000001854_0147_real_B.png\n",
      "✅ 已分类: 1000001854_0148_real_A.png\n",
      "✅ 已分类: 1000001854_0148_fake_B.png\n",
      "✅ 已分类: 1000001854_0148_real_B.png\n",
      "✅ 已分类: 1000001854_0149_real_A.png\n",
      "✅ 已分类: 1000001854_0149_fake_B.png\n",
      "✅ 已分类: 1000001854_0149_real_B.png\n",
      "✅ 已分类: 1000001854_0150_real_A.png\n",
      "✅ 已分类: 1000001854_0150_fake_B.png\n",
      "✅ 已分类: 1000001854_0150_real_B.png\n",
      "✅ 已分类: 1000001854_0151_real_A.png\n",
      "✅ 已分类: 1000001854_0151_fake_B.png\n",
      "✅ 已分类: 1000001854_0151_real_B.png\n",
      "✅ 已分类: 1000001854_0152_real_A.png\n",
      "✅ 已分类: 1000001854_0152_fake_B.png\n",
      "✅ 已分类: 1000001854_0152_real_B.png\n",
      "✅ 已分类: 1000001854_0153_real_A.png\n",
      "✅ 已分类: 1000001854_0153_fake_B.png\n",
      "✅ 已分类: 1000001854_0153_real_B.png\n",
      "✅ 已分类: 1000001854_0154_real_A.png\n",
      "✅ 已分类: 1000001854_0154_fake_B.png\n",
      "✅ 已分类: 1000001854_0154_real_B.png\n",
      "✅ 已分类: 1000001854_0155_real_A.png\n",
      "✅ 已分类: 1000001854_0155_fake_B.png\n",
      "✅ 已分类: 1000001854_0155_real_B.png\n",
      "✅ 已分类: 1000001854_0156_real_A.png\n",
      "✅ 已分类: 1000001854_0156_fake_B.png\n",
      "✅ 已分类: 1000001854_0156_real_B.png\n",
      "✅ 已分类: 1000001854_0157_real_A.png\n",
      "✅ 已分类: 1000001854_0157_fake_B.png\n",
      "✅ 已分类: 1000001854_0157_real_B.png\n",
      "✅ 已分类: 1000001854_0158_real_A.png\n",
      "✅ 已分类: 1000001854_0158_fake_B.png\n",
      "✅ 已分类: 1000001854_0158_real_B.png\n",
      "✅ 已分类: 1000001854_0159_real_A.png\n",
      "✅ 已分类: 1000001854_0159_fake_B.png\n",
      "✅ 已分类: 1000001854_0159_real_B.png\n",
      "✅ 已分类: 1000001854_0160_real_A.png\n",
      "✅ 已分类: 1000001854_0160_fake_B.png\n",
      "✅ 已分类: 1000001854_0160_real_B.png\n",
      "✅ 已分类: 1000001854_0161_real_A.png\n",
      "✅ 已分类: 1000001854_0161_fake_B.png\n",
      "✅ 已分类: 1000001854_0161_real_B.png\n",
      "✅ 已分类: 1000001854_0162_real_A.png\n",
      "✅ 已分类: 1000001854_0162_fake_B.png\n",
      "✅ 已分类: 1000001854_0162_real_B.png\n",
      "✅ 已分类: 1000001854_0163_real_A.png\n",
      "✅ 已分类: 1000001854_0163_fake_B.png\n",
      "✅ 已分类: 1000001854_0163_real_B.png\n",
      "✅ 已分类: 1000001854_0164_real_A.png\n",
      "✅ 已分类: 1000001854_0164_fake_B.png\n",
      "✅ 已分类: 1000001854_0164_real_B.png\n",
      "✅ 已分类: 1000001854_0165_real_A.png\n",
      "✅ 已分类: 1000001854_0165_fake_B.png\n",
      "✅ 已分类: 1000001854_0165_real_B.png\n",
      "✅ 已分类: 1000001854_0166_real_A.png\n",
      "✅ 已分类: 1000001854_0166_fake_B.png\n",
      "✅ 已分类: 1000001854_0166_real_B.png\n",
      "✅ 已分类: 1000001854_0167_real_A.png\n",
      "✅ 已分类: 1000001854_0167_fake_B.png\n",
      "✅ 已分类: 1000001854_0167_real_B.png\n",
      "✅ 已分类: 1000001854_0168_real_A.png\n",
      "✅ 已分类: 1000001854_0168_fake_B.png\n",
      "✅ 已分类: 1000001854_0168_real_B.png\n",
      "✅ 已分类: 1000001854_0169_real_A.png\n",
      "✅ 已分类: 1000001854_0169_fake_B.png\n",
      "✅ 已分类: 1000001854_0169_real_B.png\n",
      "✅ 已分类: 1000001854_0170_real_A.png\n",
      "✅ 已分类: 1000001854_0170_fake_B.png\n",
      "✅ 已分类: 1000001854_0170_real_B.png\n",
      "✅ 已分类: 1000001854_0171_real_A.png\n",
      "✅ 已分类: 1000001854_0171_fake_B.png\n",
      "✅ 已分类: 1000001854_0171_real_B.png\n",
      "✅ 已分类: 1000001854_0172_real_A.png\n",
      "✅ 已分类: 1000001854_0172_fake_B.png\n",
      "✅ 已分类: 1000001854_0172_real_B.png\n",
      "✅ 已分类: 1000001854_0173_real_A.png\n",
      "✅ 已分类: 1000001854_0173_fake_B.png\n",
      "✅ 已分类: 1000001854_0173_real_B.png\n",
      "✅ 已分类: 1000001854_0174_real_A.png\n",
      "✅ 已分类: 1000001854_0174_fake_B.png\n",
      "✅ 已分类: 1000001854_0174_real_B.png\n",
      "✅ 已分类: 1000001854_0175_real_A.png\n",
      "✅ 已分类: 1000001854_0175_fake_B.png\n",
      "✅ 已分类: 1000001854_0175_real_B.png\n",
      "✅ 已分类: 1000001854_0176_real_A.png\n",
      "✅ 已分类: 1000001854_0176_fake_B.png\n",
      "✅ 已分类: 1000001854_0176_real_B.png\n",
      "✅ 已分类: 1000001854_0177_real_A.png\n",
      "✅ 已分类: 1000001854_0177_fake_B.png\n",
      "✅ 已分类: 1000001854_0177_real_B.png\n",
      "✅ 已分类: 1000001854_0178_real_A.png\n",
      "✅ 已分类: 1000001854_0178_fake_B.png\n",
      "✅ 已分类: 1000001854_0178_real_B.png\n",
      "✅ 已分类: 1000001854_0179_real_A.png\n",
      "✅ 已分类: 1000001854_0179_fake_B.png\n",
      "✅ 已分类: 1000001854_0179_real_B.png\n",
      "✅ 已分类: 1000001854_0180_real_A.png\n",
      "✅ 已分类: 1000001854_0180_fake_B.png\n",
      "✅ 已分类: 1000001854_0180_real_B.png\n",
      "✅ 已分类: 1000001854_0181_real_A.png\n",
      "✅ 已分类: 1000001854_0181_fake_B.png\n",
      "✅ 已分类: 1000001854_0181_real_B.png\n",
      "✅ 已分类: 1000001854_0182_real_A.png\n",
      "✅ 已分类: 1000001854_0182_fake_B.png\n",
      "✅ 已分类: 1000001854_0182_real_B.png\n",
      "✅ 已分类: 1000001854_0183_real_A.png\n",
      "✅ 已分类: 1000001854_0183_fake_B.png\n",
      "✅ 已分类: 1000001854_0183_real_B.png\n",
      "✅ 已分类: 1000001854_0184_real_A.png\n",
      "✅ 已分类: 1000001854_0184_fake_B.png\n",
      "✅ 已分类: 1000001854_0184_real_B.png\n",
      "✅ 已分类: 1000001854_0185_real_A.png\n",
      "✅ 已分类: 1000001854_0185_fake_B.png\n",
      "✅ 已分类: 1000001854_0185_real_B.png\n",
      "✅ 已分类: 1000001854_0186_real_A.png\n",
      "✅ 已分类: 1000001854_0186_fake_B.png\n",
      "✅ 已分类: 1000001854_0186_real_B.png\n",
      "✅ 已分类: 1000001854_0187_real_A.png\n",
      "✅ 已分类: 1000001854_0187_fake_B.png\n",
      "✅ 已分类: 1000001854_0187_real_B.png\n",
      "✅ 已分类: 1000001854_0188_real_A.png\n",
      "✅ 已分类: 1000001854_0188_fake_B.png\n",
      "✅ 已分类: 1000001854_0188_real_B.png\n",
      "✅ 已分类: 1000001854_0189_real_A.png\n",
      "✅ 已分类: 1000001854_0189_fake_B.png\n",
      "✅ 已分类: 1000001854_0189_real_B.png\n",
      "✅ 已分类: 1000001854_0190_real_A.png\n",
      "✅ 已分类: 1000001854_0190_fake_B.png\n",
      "✅ 已分类: 1000001854_0190_real_B.png\n",
      "✅ 已分类: 1000001854_0191_real_A.png\n",
      "✅ 已分类: 1000001854_0191_fake_B.png\n",
      "✅ 已分类: 1000001854_0191_real_B.png\n",
      "✅ 已分类: 1000001854_0192_real_A.png\n",
      "✅ 已分类: 1000001854_0192_fake_B.png\n",
      "✅ 已分类: 1000001854_0192_real_B.png\n",
      "✅ 已分类: 1000001854_0193_real_A.png\n",
      "✅ 已分类: 1000001854_0193_fake_B.png\n",
      "✅ 已分类: 1000001854_0193_real_B.png\n",
      "✅ 已分类: 1000001854_0194_real_A.png\n",
      "✅ 已分类: 1000001854_0194_fake_B.png\n",
      "✅ 已分类: 1000001854_0194_real_B.png\n",
      "✅ 已分类: 1000001854_0195_real_A.png\n",
      "✅ 已分类: 1000001854_0195_fake_B.png\n",
      "✅ 已分类: 1000001854_0195_real_B.png\n",
      "✅ 已分类: 1000001854_0196_real_A.png\n",
      "✅ 已分类: 1000001854_0196_fake_B.png\n",
      "✅ 已分类: 1000001854_0196_real_B.png\n",
      "✅ 已分类: 1000001854_0197_real_A.png\n",
      "✅ 已分类: 1000001854_0197_fake_B.png\n",
      "✅ 已分类: 1000001854_0197_real_B.png\n",
      "✅ 已分类: 1000001854_0198_real_A.png\n",
      "✅ 已分类: 1000001854_0198_fake_B.png\n",
      "✅ 已分类: 1000001854_0198_real_B.png\n",
      "✅ 已分类: 1000001854_0199_real_A.png\n",
      "✅ 已分类: 1000001854_0199_fake_B.png\n",
      "✅ 已分类: 1000001854_0199_real_B.png\n",
      "✅ 已分类: 1000001854_0200_real_A.png\n",
      "✅ 已分类: 1000001854_0200_fake_B.png\n",
      "✅ 已分类: 1000001854_0200_real_B.png\n",
      "✅ 已分类: 1000001854_0201_real_A.png\n",
      "✅ 已分类: 1000001854_0201_fake_B.png\n",
      "✅ 已分类: 1000001854_0201_real_B.png\n",
      "✅ 已分类: 1000001854_0202_real_A.png\n",
      "✅ 已分类: 1000001854_0202_fake_B.png\n",
      "✅ 已分类: 1000001854_0202_real_B.png\n",
      "✅ 已分类: 1000001854_0203_real_A.png\n",
      "✅ 已分类: 1000001854_0203_fake_B.png\n",
      "✅ 已分类: 1000001854_0203_real_B.png\n",
      "✅ 已分类: 1000001854_0204_real_A.png\n",
      "✅ 已分类: 1000001854_0204_fake_B.png\n",
      "✅ 已分类: 1000001854_0204_real_B.png\n",
      "✅ 已分类: 1000001854_0205_real_A.png\n",
      "✅ 已分类: 1000001854_0205_fake_B.png\n",
      "✅ 已分类: 1000001854_0205_real_B.png\n",
      "✅ 已分类: 1000001854_0206_real_A.png\n",
      "✅ 已分类: 1000001854_0206_fake_B.png\n",
      "✅ 已分类: 1000001854_0206_real_B.png\n",
      "✅ 已分类: 1000001854_0207_real_A.png\n",
      "✅ 已分类: 1000001854_0207_fake_B.png\n",
      "✅ 已分类: 1000001854_0207_real_B.png\n",
      "✅ 已分类: 1000001854_0208_real_A.png\n",
      "✅ 已分类: 1000001854_0208_fake_B.png\n",
      "✅ 已分类: 1000001854_0208_real_B.png\n",
      "✅ 已分类: 1000001854_0209_real_A.png\n",
      "✅ 已分类: 1000001854_0209_fake_B.png\n",
      "✅ 已分类: 1000001854_0209_real_B.png\n",
      "✅ 已分类: 1000001854_0210_real_A.png\n",
      "✅ 已分类: 1000001854_0210_fake_B.png\n",
      "✅ 已分类: 1000001854_0210_real_B.png\n",
      "✅ 已分类: 1000001854_0211_real_A.png\n",
      "✅ 已分类: 1000001854_0211_fake_B.png\n",
      "✅ 已分类: 1000001854_0211_real_B.png\n",
      "✅ 已分类: 1000001854_0212_real_A.png\n",
      "✅ 已分类: 1000001854_0212_fake_B.png\n",
      "✅ 已分类: 1000001854_0212_real_B.png\n",
      "✅ 已分类: 1000001854_0213_real_A.png\n",
      "✅ 已分类: 1000001854_0213_fake_B.png\n",
      "✅ 已分类: 1000001854_0213_real_B.png\n",
      "✅ 已分类: 1000001854_0214_real_A.png\n",
      "✅ 已分类: 1000001854_0214_fake_B.png\n",
      "✅ 已分类: 1000001854_0214_real_B.png\n",
      "✅ 已分类: 1000001854_0215_real_A.png\n",
      "✅ 已分类: 1000001854_0215_fake_B.png\n",
      "✅ 已分类: 1000001854_0215_real_B.png\n",
      "✅ 已分类: 1000001854_0216_real_A.png\n",
      "✅ 已分类: 1000001854_0216_fake_B.png\n",
      "✅ 已分类: 1000001854_0216_real_B.png\n",
      "✅ 已分类: 1000001854_0217_real_A.png\n",
      "✅ 已分类: 1000001854_0217_fake_B.png\n",
      "✅ 已分类: 1000001854_0217_real_B.png\n",
      "✅ 已分类: 1000001854_0218_real_A.png\n",
      "✅ 已分类: 1000001854_0218_fake_B.png\n",
      "✅ 已分类: 1000001854_0218_real_B.png\n",
      "✅ 已分类: 1000001854_0219_real_A.png\n",
      "✅ 已分类: 1000001854_0219_fake_B.png\n",
      "✅ 已分类: 1000001854_0219_real_B.png\n",
      "✅ 已分类: 1000001854_0220_real_A.png\n",
      "✅ 已分类: 1000001854_0220_fake_B.png\n",
      "✅ 已分类: 1000001854_0220_real_B.png\n",
      "✅ 已分类: 1000001854_0221_real_A.png\n",
      "✅ 已分类: 1000001854_0221_fake_B.png\n",
      "✅ 已分类: 1000001854_0221_real_B.png\n",
      "✅ 已分类: 1000001854_0222_real_A.png\n",
      "✅ 已分类: 1000001854_0222_fake_B.png\n",
      "✅ 已分类: 1000001854_0222_real_B.png\n",
      "✅ 已分类: 1000001854_0223_real_A.png\n",
      "✅ 已分类: 1000001854_0223_fake_B.png\n",
      "✅ 已分类: 1000001854_0223_real_B.png\n",
      "✅ 已分类: 1000001854_0224_real_A.png\n",
      "✅ 已分类: 1000001854_0224_fake_B.png\n",
      "✅ 已分类: 1000001854_0224_real_B.png\n",
      "✅ 已分类: 1000001854_0225_real_A.png\n",
      "✅ 已分类: 1000001854_0225_fake_B.png\n",
      "✅ 已分类: 1000001854_0225_real_B.png\n",
      "✅ 已分类: 1000001854_0226_real_A.png\n",
      "✅ 已分类: 1000001854_0226_fake_B.png\n",
      "✅ 已分类: 1000001854_0226_real_B.png\n",
      "✅ 已分类: 1000001854_0227_real_A.png\n",
      "✅ 已分类: 1000001854_0227_fake_B.png\n",
      "✅ 已分类: 1000001854_0227_real_B.png\n",
      "✅ 已分类: 1000001854_0228_real_A.png\n",
      "✅ 已分类: 1000001854_0228_fake_B.png\n",
      "✅ 已分类: 1000001854_0228_real_B.png\n",
      "✅ 已分类: 1000001854_0229_real_A.png\n",
      "✅ 已分类: 1000001854_0229_fake_B.png\n",
      "✅ 已分类: 1000001854_0229_real_B.png\n",
      "✅ 已分类: 1000001854_0230_real_A.png\n",
      "✅ 已分类: 1000001854_0230_fake_B.png\n",
      "✅ 已分类: 1000001854_0230_real_B.png\n",
      "✅ 已分类: 1000001854_0231_real_A.png\n",
      "✅ 已分类: 1000001854_0231_fake_B.png\n",
      "✅ 已分类: 1000001854_0231_real_B.png\n",
      "✅ 已分类: 1000001854_0232_real_A.png\n",
      "✅ 已分类: 1000001854_0232_fake_B.png\n",
      "✅ 已分类: 1000001854_0232_real_B.png\n",
      "✅ 已分类: 1000001854_0233_real_A.png\n",
      "✅ 已分类: 1000001854_0233_fake_B.png\n",
      "✅ 已分类: 1000001854_0233_real_B.png\n",
      "✅ 已分类: 1000001854_0234_real_A.png\n",
      "✅ 已分类: 1000001854_0234_fake_B.png\n",
      "✅ 已分类: 1000001854_0234_real_B.png\n",
      "✅ 已分类: 1000001854_0235_real_A.png\n",
      "✅ 已分类: 1000001854_0235_fake_B.png\n",
      "✅ 已分类: 1000001854_0235_real_B.png\n",
      "✅ 已分类: 1000001854_0236_real_A.png\n",
      "✅ 已分类: 1000001854_0236_fake_B.png\n",
      "✅ 已分类: 1000001854_0236_real_B.png\n",
      "✅ 已分类: 1000001854_0237_real_A.png\n",
      "✅ 已分类: 1000001854_0237_fake_B.png\n",
      "✅ 已分类: 1000001854_0237_real_B.png\n",
      "✅ 已分类: 1000001854_0238_real_A.png\n",
      "✅ 已分类: 1000001854_0238_fake_B.png\n",
      "✅ 已分类: 1000001854_0238_real_B.png\n",
      "✅ 已分类: 1000001854_0239_real_A.png\n",
      "✅ 已分类: 1000001854_0239_fake_B.png\n",
      "✅ 已分类: 1000001854_0239_real_B.png\n",
      "✅ 已分类: 1000001854_0240_real_A.png\n",
      "✅ 已分类: 1000001854_0240_fake_B.png\n",
      "✅ 已分类: 1000001854_0240_real_B.png\n",
      "✅ 已分类: 1000001854_0241_real_A.png\n",
      "✅ 已分类: 1000001854_0241_fake_B.png\n",
      "✅ 已分类: 1000001854_0241_real_B.png\n",
      "✅ 已分类: 1000001854_0242_real_A.png\n",
      "✅ 已分类: 1000001854_0242_fake_B.png\n",
      "✅ 已分类: 1000001854_0242_real_B.png\n",
      "✅ 已分类: 1000001854_0243_real_A.png\n",
      "✅ 已分类: 1000001854_0243_fake_B.png\n",
      "✅ 已分类: 1000001854_0243_real_B.png\n",
      "✅ 已分类: 1000001854_0244_real_A.png\n",
      "✅ 已分类: 1000001854_0244_fake_B.png\n",
      "✅ 已分类: 1000001854_0244_real_B.png\n",
      "✅ 已分类: 1000001854_0245_real_A.png\n",
      "✅ 已分类: 1000001854_0245_fake_B.png\n",
      "✅ 已分类: 1000001854_0245_real_B.png\n",
      "✅ 已分类: 1000001854_0246_real_A.png\n",
      "✅ 已分类: 1000001854_0246_fake_B.png\n",
      "✅ 已分类: 1000001854_0246_real_B.png\n",
      "✅ 已分类: 1000001854_0247_real_A.png\n",
      "✅ 已分类: 1000001854_0247_fake_B.png\n",
      "✅ 已分类: 1000001854_0247_real_B.png\n",
      "✅ 已分类: 1000001854_0248_real_A.png\n",
      "✅ 已分类: 1000001854_0248_fake_B.png\n",
      "✅ 已分类: 1000001854_0248_real_B.png\n",
      "✅ 已分类: 1000001854_0249_real_A.png\n",
      "✅ 已分类: 1000001854_0249_fake_B.png\n",
      "✅ 已分类: 1000001854_0249_real_B.png\n",
      "✅ 已分类: 1000001854_0250_real_A.png\n",
      "✅ 已分类: 1000001854_0250_fake_B.png\n",
      "✅ 已分类: 1000001854_0250_real_B.png\n",
      "✅ 已分类: 1000001854_0251_real_A.png\n",
      "✅ 已分类: 1000001854_0251_fake_B.png\n",
      "✅ 已分类: 1000001854_0251_real_B.png\n",
      "✅ 已分类: 1000001854_0252_real_A.png\n",
      "✅ 已分类: 1000001854_0252_fake_B.png\n",
      "✅ 已分类: 1000001854_0252_real_B.png\n",
      "✅ 已分类: 1000001854_0253_real_A.png\n",
      "✅ 已分类: 1000001854_0253_fake_B.png\n",
      "✅ 已分类: 1000001854_0253_real_B.png\n",
      "✅ 已分类: 1000001854_0254_real_A.png\n",
      "✅ 已分类: 1000001854_0254_fake_B.png\n",
      "✅ 已分类: 1000001854_0254_real_B.png\n",
      "✅ 已分类: 1000001854_0255_real_A.png\n",
      "✅ 已分类: 1000001854_0255_fake_B.png\n",
      "✅ 已分类: 1000001854_0255_real_B.png\n",
      "✅ 已分类: 1000001854_0256_real_A.png\n",
      "✅ 已分类: 1000001854_0256_fake_B.png\n",
      "✅ 已分类: 1000001854_0256_real_B.png\n",
      "✅ 已分类: 1000001854_0257_real_A.png\n",
      "✅ 已分类: 1000001854_0257_fake_B.png\n",
      "✅ 已分类: 1000001854_0257_real_B.png\n",
      "✅ 已分类: 1000001854_0258_real_A.png\n",
      "✅ 已分类: 1000001854_0258_fake_B.png\n",
      "✅ 已分类: 1000001854_0258_real_B.png\n",
      "✅ 已分类: 1000001854_0259_real_A.png\n",
      "✅ 已分类: 1000001854_0259_fake_B.png\n",
      "✅ 已分类: 1000001854_0259_real_B.png\n",
      "✅ 已分类: 1000001854_0260_real_A.png\n",
      "✅ 已分类: 1000001854_0260_fake_B.png\n",
      "✅ 已分类: 1000001854_0260_real_B.png\n",
      "✅ 已分类: 1000001854_0261_real_A.png\n",
      "✅ 已分类: 1000001854_0261_fake_B.png\n",
      "✅ 已分类: 1000001854_0261_real_B.png\n",
      "✅ 已分类: 1000001854_0262_real_A.png\n",
      "✅ 已分类: 1000001854_0262_fake_B.png\n",
      "✅ 已分类: 1000001854_0262_real_B.png\n",
      "✅ 已分类: 1000001854_0263_real_A.png\n",
      "✅ 已分类: 1000001854_0263_fake_B.png\n",
      "✅ 已分类: 1000001854_0263_real_B.png\n",
      "✅ 已分类: 1000001854_0264_real_A.png\n",
      "✅ 已分类: 1000001854_0264_fake_B.png\n",
      "✅ 已分类: 1000001854_0264_real_B.png\n",
      "✅ 已分类: 1000001854_0265_real_A.png\n",
      "✅ 已分类: 1000001854_0265_fake_B.png\n",
      "✅ 已分类: 1000001854_0265_real_B.png\n",
      "✅ 已分类: 1000001854_0266_real_A.png\n",
      "✅ 已分类: 1000001854_0266_fake_B.png\n",
      "✅ 已分类: 1000001854_0266_real_B.png\n",
      "✅ 已分类: 1000001854_0267_real_A.png\n",
      "✅ 已分类: 1000001854_0267_fake_B.png\n",
      "✅ 已分类: 1000001854_0267_real_B.png\n",
      "✅ 已分类: 1000001854_0268_real_A.png\n",
      "✅ 已分类: 1000001854_0268_fake_B.png\n",
      "✅ 已分类: 1000001854_0268_real_B.png\n",
      "✅ 已分类: 1000001854_0269_real_A.png\n",
      "✅ 已分类: 1000001854_0269_fake_B.png\n",
      "✅ 已分类: 1000001854_0269_real_B.png\n",
      "✅ 已分类: 1000001854_0270_real_A.png\n",
      "✅ 已分类: 1000001854_0270_fake_B.png\n",
      "✅ 已分类: 1000001854_0270_real_B.png\n",
      "✅ 已分类: 1000001854_0271_real_A.png\n",
      "✅ 已分类: 1000001854_0271_fake_B.png\n",
      "✅ 已分类: 1000001854_0271_real_B.png\n",
      "✅ 已分类: 1000001854_0272_real_A.png\n",
      "✅ 已分类: 1000001854_0272_fake_B.png\n",
      "✅ 已分类: 1000001854_0272_real_B.png\n",
      "✅ 已分类: 1000001854_0273_real_A.png\n",
      "✅ 已分类: 1000001854_0273_fake_B.png\n",
      "✅ 已分类: 1000001854_0273_real_B.png\n",
      "✅ 已分类: 1000001854_0274_real_A.png\n",
      "✅ 已分类: 1000001854_0274_fake_B.png\n",
      "✅ 已分类: 1000001854_0274_real_B.png\n",
      "✅ 已分类: 1000001854_0275_real_A.png\n",
      "✅ 已分类: 1000001854_0275_fake_B.png\n",
      "✅ 已分类: 1000001854_0275_real_B.png\n",
      "✅ 已分类: 1000001854_0276_real_A.png\n",
      "✅ 已分类: 1000001854_0276_fake_B.png\n",
      "✅ 已分类: 1000001854_0276_real_B.png\n",
      "✅ 已分类: 1000001854_0277_real_A.png\n",
      "✅ 已分类: 1000001854_0277_fake_B.png\n",
      "✅ 已分类: 1000001854_0277_real_B.png\n",
      "✅ 已分类: 1000001854_0278_real_A.png\n",
      "✅ 已分类: 1000001854_0278_fake_B.png\n",
      "✅ 已分类: 1000001854_0278_real_B.png\n",
      "✅ 已分类: 1000001854_0279_real_A.png\n",
      "✅ 已分类: 1000001854_0279_fake_B.png\n",
      "✅ 已分类: 1000001854_0279_real_B.png\n",
      "✅ 已分类: 1000001854_0280_real_A.png\n",
      "✅ 已分类: 1000001854_0280_fake_B.png\n",
      "✅ 已分类: 1000001854_0280_real_B.png\n",
      "✅ 已分类: 1000001854_0281_real_A.png\n",
      "✅ 已分类: 1000001854_0281_fake_B.png\n",
      "✅ 已分类: 1000001854_0281_real_B.png\n",
      "✅ 已分类: 1000001854_0282_real_A.png\n",
      "✅ 已分类: 1000001854_0282_fake_B.png\n",
      "✅ 已分类: 1000001854_0282_real_B.png\n",
      "✅ 已分类: 1000001854_0283_real_A.png\n",
      "✅ 已分类: 1000001854_0283_fake_B.png\n",
      "✅ 已分类: 1000001854_0283_real_B.png\n",
      "✅ 已分类: 1000001854_0284_real_A.png\n",
      "✅ 已分类: 1000001854_0284_fake_B.png\n",
      "✅ 已分类: 1000001854_0284_real_B.png\n",
      "✅ 已分类: 1000001854_0285_real_A.png\n",
      "✅ 已分类: 1000001854_0285_fake_B.png\n",
      "✅ 已分类: 1000001854_0285_real_B.png\n",
      "✅ 已分类: 1000001854_0286_real_A.png\n",
      "✅ 已分类: 1000001854_0286_fake_B.png\n",
      "✅ 已分类: 1000001854_0286_real_B.png\n",
      "✅ 已分类: 1000001854_0287_real_A.png\n",
      "✅ 已分类: 1000001854_0287_fake_B.png\n",
      "✅ 已分类: 1000001854_0287_real_B.png\n"
     ]
    }
   ],
   "source": [
    "import os\n",
    "from pathlib import Path\n",
    "import shutil\n",
    "\n",
    "def split_images(folder_path):\n",
    "    folder = Path(folder_path)\n",
    "\n",
    "    # 创建三个子文件夹\n",
    "    fake_b_folder = folder / \"fake_B\"\n",
    "    real_a_folder = folder / \"real_A\"\n",
    "    real_b_folder = folder / \"real_B\"\n",
    "    fake_b_folder.mkdir(exist_ok=True)\n",
    "    real_a_folder.mkdir(exist_ok=True)\n",
    "    real_b_folder.mkdir(exist_ok=True)\n",
    "\n",
    "    for img_path in folder.glob(\"*.png\"):\n",
    "        fname = img_path.name\n",
    "\n",
    "        if fname.endswith(\"_fake_B.png\"):\n",
    "            shutil.move(str(img_path), str(fake_b_folder / fname))\n",
    "        elif fname.endswith(\"_real_A.png\"):\n",
    "            shutil.move(str(img_path), str(real_a_folder / fname))\n",
    "        elif fname.endswith(\"_real_B.png\"):\n",
    "            shutil.move(str(img_path), str(real_b_folder / fname))\n",
    "\n",
    "        print(f\"✅ 已分类: {fname}\")\n",
    "\n",
    "# 用法示例\n",
    "split_images(\"/export/home/daifang/ncr/pix2pix/1000001854_1_png/result/骨转移_pix2pix_512/test_latest/images\")\n"
   ]
  },
  {
   "cell_type": "code",
   "execution_count": 1,
   "metadata": {},
   "outputs": [
    {
     "name": "stderr",
     "output_type": "stream",
     "text": [
      "Processing:   0%|          | 1/287 [00:02<12:11,  2.56s/img]"
     ]
    },
    {
     "name": "stdout",
     "output_type": "stream",
     "text": [
      "✅ 已保存: /export/home/daifang/ncr/pix2pix/1000001854_1_png/result/骨转移_pix2pix_512/test_latest/images/heatmap/1000001854_0001_overlay.png\n"
     ]
    },
    {
     "name": "stderr",
     "output_type": "stream",
     "text": [
      "Processing:   1%|          | 2/287 [00:02<06:06,  1.28s/img]"
     ]
    },
    {
     "name": "stdout",
     "output_type": "stream",
     "text": [
      "✅ 已保存: /export/home/daifang/ncr/pix2pix/1000001854_1_png/result/骨转移_pix2pix_512/test_latest/images/heatmap/1000001854_0002_overlay.png\n"
     ]
    },
    {
     "name": "stderr",
     "output_type": "stream",
     "text": [
      "Processing:   1%|          | 3/287 [00:06<10:44,  2.27s/img]"
     ]
    },
    {
     "name": "stdout",
     "output_type": "stream",
     "text": [
      "✅ 已保存: /export/home/daifang/ncr/pix2pix/1000001854_1_png/result/骨转移_pix2pix_512/test_latest/images/heatmap/1000001854_0003_overlay.png\n"
     ]
    },
    {
     "name": "stderr",
     "output_type": "stream",
     "text": [
      "Processing:   1%|▏         | 4/287 [00:06<07:09,  1.52s/img]"
     ]
    },
    {
     "name": "stdout",
     "output_type": "stream",
     "text": [
      "✅ 已保存: /export/home/daifang/ncr/pix2pix/1000001854_1_png/result/骨转移_pix2pix_512/test_latest/images/heatmap/1000001854_0004_overlay.png\n"
     ]
    },
    {
     "name": "stderr",
     "output_type": "stream",
     "text": [
      "Processing:   2%|▏         | 5/287 [00:07<05:00,  1.06s/img]"
     ]
    },
    {
     "name": "stdout",
     "output_type": "stream",
     "text": [
      "✅ 已保存: /export/home/daifang/ncr/pix2pix/1000001854_1_png/result/骨转移_pix2pix_512/test_latest/images/heatmap/1000001854_0005_overlay.png\n"
     ]
    },
    {
     "name": "stderr",
     "output_type": "stream",
     "text": [
      "Processing:   2%|▏         | 6/287 [00:07<03:41,  1.27img/s]"
     ]
    },
    {
     "name": "stdout",
     "output_type": "stream",
     "text": [
      "✅ 已保存: /export/home/daifang/ncr/pix2pix/1000001854_1_png/result/骨转移_pix2pix_512/test_latest/images/heatmap/1000001854_0006_overlay.png\n"
     ]
    },
    {
     "name": "stderr",
     "output_type": "stream",
     "text": [
      "Processing:   2%|▏         | 7/287 [00:07<03:08,  1.48img/s]"
     ]
    },
    {
     "name": "stdout",
     "output_type": "stream",
     "text": [
      "✅ 已保存: /export/home/daifang/ncr/pix2pix/1000001854_1_png/result/骨转移_pix2pix_512/test_latest/images/heatmap/1000001854_0007_overlay.png\n"
     ]
    },
    {
     "name": "stderr",
     "output_type": "stream",
     "text": [
      "Processing:   3%|▎         | 8/287 [00:08<02:39,  1.75img/s]"
     ]
    },
    {
     "name": "stdout",
     "output_type": "stream",
     "text": [
      "✅ 已保存: /export/home/daifang/ncr/pix2pix/1000001854_1_png/result/骨转移_pix2pix_512/test_latest/images/heatmap/1000001854_0008_overlay.png\n"
     ]
    },
    {
     "name": "stderr",
     "output_type": "stream",
     "text": [
      "Processing:   3%|▎         | 9/287 [00:08<02:09,  2.15img/s]"
     ]
    },
    {
     "name": "stdout",
     "output_type": "stream",
     "text": [
      "✅ 已保存: /export/home/daifang/ncr/pix2pix/1000001854_1_png/result/骨转移_pix2pix_512/test_latest/images/heatmap/1000001854_0009_overlay.png\n"
     ]
    },
    {
     "name": "stderr",
     "output_type": "stream",
     "text": [
      "Processing:   3%|▎         | 10/287 [00:08<01:53,  2.45img/s]"
     ]
    },
    {
     "name": "stdout",
     "output_type": "stream",
     "text": [
      "✅ 已保存: /export/home/daifang/ncr/pix2pix/1000001854_1_png/result/骨转移_pix2pix_512/test_latest/images/heatmap/1000001854_0010_overlay.png\n"
     ]
    },
    {
     "name": "stderr",
     "output_type": "stream",
     "text": [
      "Processing:   4%|▍         | 11/287 [00:08<01:42,  2.68img/s]"
     ]
    },
    {
     "name": "stdout",
     "output_type": "stream",
     "text": [
      "✅ 已保存: /export/home/daifang/ncr/pix2pix/1000001854_1_png/result/骨转移_pix2pix_512/test_latest/images/heatmap/1000001854_0011_overlay.png\n"
     ]
    },
    {
     "name": "stderr",
     "output_type": "stream",
     "text": [
      "Processing:   4%|▍         | 12/287 [00:09<01:39,  2.77img/s]"
     ]
    },
    {
     "name": "stdout",
     "output_type": "stream",
     "text": [
      "✅ 已保存: /export/home/daifang/ncr/pix2pix/1000001854_1_png/result/骨转移_pix2pix_512/test_latest/images/heatmap/1000001854_0012_overlay.png\n"
     ]
    },
    {
     "name": "stderr",
     "output_type": "stream",
     "text": [
      "Processing:   5%|▍         | 13/287 [00:09<01:28,  3.10img/s]"
     ]
    },
    {
     "name": "stdout",
     "output_type": "stream",
     "text": [
      "✅ 已保存: /export/home/daifang/ncr/pix2pix/1000001854_1_png/result/骨转移_pix2pix_512/test_latest/images/heatmap/1000001854_0013_overlay.png\n"
     ]
    },
    {
     "name": "stderr",
     "output_type": "stream",
     "text": [
      "Processing:   5%|▍         | 14/287 [00:09<01:21,  3.35img/s]"
     ]
    },
    {
     "name": "stdout",
     "output_type": "stream",
     "text": [
      "✅ 已保存: /export/home/daifang/ncr/pix2pix/1000001854_1_png/result/骨转移_pix2pix_512/test_latest/images/heatmap/1000001854_0014_overlay.png\n"
     ]
    },
    {
     "name": "stderr",
     "output_type": "stream",
     "text": [
      "Processing:   5%|▌         | 15/287 [00:09<01:18,  3.44img/s]"
     ]
    },
    {
     "name": "stdout",
     "output_type": "stream",
     "text": [
      "✅ 已保存: /export/home/daifang/ncr/pix2pix/1000001854_1_png/result/骨转移_pix2pix_512/test_latest/images/heatmap/1000001854_0015_overlay.png\n"
     ]
    },
    {
     "name": "stderr",
     "output_type": "stream",
     "text": [
      "Processing:   6%|▌         | 16/287 [00:10<01:13,  3.70img/s]"
     ]
    },
    {
     "name": "stdout",
     "output_type": "stream",
     "text": [
      "✅ 已保存: /export/home/daifang/ncr/pix2pix/1000001854_1_png/result/骨转移_pix2pix_512/test_latest/images/heatmap/1000001854_0016_overlay.png\n"
     ]
    },
    {
     "name": "stderr",
     "output_type": "stream",
     "text": [
      "Processing:   6%|▌         | 17/287 [00:10<01:12,  3.72img/s]"
     ]
    },
    {
     "name": "stdout",
     "output_type": "stream",
     "text": [
      "✅ 已保存: /export/home/daifang/ncr/pix2pix/1000001854_1_png/result/骨转移_pix2pix_512/test_latest/images/heatmap/1000001854_0017_overlay.png\n"
     ]
    },
    {
     "name": "stderr",
     "output_type": "stream",
     "text": [
      "Processing:   6%|▋         | 18/287 [00:10<01:13,  3.67img/s]"
     ]
    },
    {
     "name": "stdout",
     "output_type": "stream",
     "text": [
      "✅ 已保存: /export/home/daifang/ncr/pix2pix/1000001854_1_png/result/骨转移_pix2pix_512/test_latest/images/heatmap/1000001854_0018_overlay.png\n"
     ]
    },
    {
     "name": "stderr",
     "output_type": "stream",
     "text": [
      "Processing:   7%|▋         | 19/287 [00:10<01:11,  3.76img/s]"
     ]
    },
    {
     "name": "stdout",
     "output_type": "stream",
     "text": [
      "✅ 已保存: /export/home/daifang/ncr/pix2pix/1000001854_1_png/result/骨转移_pix2pix_512/test_latest/images/heatmap/1000001854_0019_overlay.png\n"
     ]
    },
    {
     "name": "stderr",
     "output_type": "stream",
     "text": [
      "Processing:   7%|▋         | 20/287 [00:11<01:06,  3.99img/s]"
     ]
    },
    {
     "name": "stdout",
     "output_type": "stream",
     "text": [
      "✅ 已保存: /export/home/daifang/ncr/pix2pix/1000001854_1_png/result/骨转移_pix2pix_512/test_latest/images/heatmap/1000001854_0020_overlay.png\n"
     ]
    },
    {
     "name": "stderr",
     "output_type": "stream",
     "text": [
      "Processing:   7%|▋         | 21/287 [00:11<01:09,  3.82img/s]"
     ]
    },
    {
     "name": "stdout",
     "output_type": "stream",
     "text": [
      "✅ 已保存: /export/home/daifang/ncr/pix2pix/1000001854_1_png/result/骨转移_pix2pix_512/test_latest/images/heatmap/1000001854_0021_overlay.png\n"
     ]
    },
    {
     "name": "stderr",
     "output_type": "stream",
     "text": [
      "Processing:   8%|▊         | 22/287 [00:11<01:13,  3.59img/s]"
     ]
    },
    {
     "name": "stdout",
     "output_type": "stream",
     "text": [
      "✅ 已保存: /export/home/daifang/ncr/pix2pix/1000001854_1_png/result/骨转移_pix2pix_512/test_latest/images/heatmap/1000001854_0022_overlay.png\n"
     ]
    },
    {
     "name": "stderr",
     "output_type": "stream",
     "text": [
      "Processing:   8%|▊         | 23/287 [00:12<01:11,  3.71img/s]"
     ]
    },
    {
     "name": "stdout",
     "output_type": "stream",
     "text": [
      "✅ 已保存: /export/home/daifang/ncr/pix2pix/1000001854_1_png/result/骨转移_pix2pix_512/test_latest/images/heatmap/1000001854_0023_overlay.png\n"
     ]
    },
    {
     "name": "stderr",
     "output_type": "stream",
     "text": [
      "Processing:   8%|▊         | 24/287 [00:12<01:07,  3.93img/s]"
     ]
    },
    {
     "name": "stdout",
     "output_type": "stream",
     "text": [
      "✅ 已保存: /export/home/daifang/ncr/pix2pix/1000001854_1_png/result/骨转移_pix2pix_512/test_latest/images/heatmap/1000001854_0024_overlay.png\n"
     ]
    },
    {
     "name": "stderr",
     "output_type": "stream",
     "text": [
      "Processing:   9%|▊         | 25/287 [00:12<01:04,  4.04img/s]"
     ]
    },
    {
     "name": "stdout",
     "output_type": "stream",
     "text": [
      "✅ 已保存: /export/home/daifang/ncr/pix2pix/1000001854_1_png/result/骨转移_pix2pix_512/test_latest/images/heatmap/1000001854_0025_overlay.png\n"
     ]
    },
    {
     "name": "stderr",
     "output_type": "stream",
     "text": [
      "Processing:   9%|▉         | 26/287 [00:12<01:21,  3.21img/s]"
     ]
    },
    {
     "name": "stdout",
     "output_type": "stream",
     "text": [
      "✅ 已保存: /export/home/daifang/ncr/pix2pix/1000001854_1_png/result/骨转移_pix2pix_512/test_latest/images/heatmap/1000001854_0026_overlay.png\n"
     ]
    },
    {
     "name": "stderr",
     "output_type": "stream",
     "text": [
      "Processing:   9%|▉         | 27/287 [00:13<01:20,  3.21img/s]"
     ]
    },
    {
     "name": "stdout",
     "output_type": "stream",
     "text": [
      "✅ 已保存: /export/home/daifang/ncr/pix2pix/1000001854_1_png/result/骨转移_pix2pix_512/test_latest/images/heatmap/1000001854_0027_overlay.png\n"
     ]
    },
    {
     "name": "stderr",
     "output_type": "stream",
     "text": [
      "Processing:  10%|▉         | 28/287 [00:13<01:19,  3.28img/s]"
     ]
    },
    {
     "name": "stdout",
     "output_type": "stream",
     "text": [
      "✅ 已保存: /export/home/daifang/ncr/pix2pix/1000001854_1_png/result/骨转移_pix2pix_512/test_latest/images/heatmap/1000001854_0028_overlay.png\n"
     ]
    },
    {
     "name": "stderr",
     "output_type": "stream",
     "text": [
      "Processing:  10%|█         | 29/287 [00:13<01:20,  3.20img/s]"
     ]
    },
    {
     "name": "stdout",
     "output_type": "stream",
     "text": [
      "✅ 已保存: /export/home/daifang/ncr/pix2pix/1000001854_1_png/result/骨转移_pix2pix_512/test_latest/images/heatmap/1000001854_0029_overlay.png\n"
     ]
    },
    {
     "name": "stderr",
     "output_type": "stream",
     "text": [
      "Processing:  11%|█         | 31/287 [00:14<01:06,  3.85img/s]"
     ]
    },
    {
     "name": "stdout",
     "output_type": "stream",
     "text": [
      "✅ 已保存: /export/home/daifang/ncr/pix2pix/1000001854_1_png/result/骨转移_pix2pix_512/test_latest/images/heatmap/1000001854_0030_overlay.png\n",
      "✅ 已保存: /export/home/daifang/ncr/pix2pix/1000001854_1_png/result/骨转移_pix2pix_512/test_latest/images/heatmap/1000001854_0031_overlay.png\n"
     ]
    },
    {
     "name": "stderr",
     "output_type": "stream",
     "text": [
      "Processing:  11%|█         | 32/287 [00:14<01:12,  3.52img/s]"
     ]
    },
    {
     "name": "stdout",
     "output_type": "stream",
     "text": [
      "✅ 已保存: /export/home/daifang/ncr/pix2pix/1000001854_1_png/result/骨转移_pix2pix_512/test_latest/images/heatmap/1000001854_0032_overlay.png\n"
     ]
    },
    {
     "name": "stderr",
     "output_type": "stream",
     "text": [
      "Processing:  11%|█▏        | 33/287 [00:14<01:10,  3.62img/s]"
     ]
    },
    {
     "name": "stdout",
     "output_type": "stream",
     "text": [
      "✅ 已保存: /export/home/daifang/ncr/pix2pix/1000001854_1_png/result/骨转移_pix2pix_512/test_latest/images/heatmap/1000001854_0033_overlay.png\n"
     ]
    },
    {
     "name": "stderr",
     "output_type": "stream",
     "text": [
      "Processing:  12%|█▏        | 34/287 [00:15<01:06,  3.80img/s]"
     ]
    },
    {
     "name": "stdout",
     "output_type": "stream",
     "text": [
      "✅ 已保存: /export/home/daifang/ncr/pix2pix/1000001854_1_png/result/骨转移_pix2pix_512/test_latest/images/heatmap/1000001854_0034_overlay.png\n"
     ]
    },
    {
     "name": "stderr",
     "output_type": "stream",
     "text": [
      "Processing:  12%|█▏        | 35/287 [00:15<01:02,  4.00img/s]"
     ]
    },
    {
     "name": "stdout",
     "output_type": "stream",
     "text": [
      "✅ 已保存: /export/home/daifang/ncr/pix2pix/1000001854_1_png/result/骨转移_pix2pix_512/test_latest/images/heatmap/1000001854_0035_overlay.png\n"
     ]
    },
    {
     "name": "stderr",
     "output_type": "stream",
     "text": [
      "Processing:  13%|█▎        | 36/287 [00:15<00:59,  4.22img/s]"
     ]
    },
    {
     "name": "stdout",
     "output_type": "stream",
     "text": [
      "✅ 已保存: /export/home/daifang/ncr/pix2pix/1000001854_1_png/result/骨转移_pix2pix_512/test_latest/images/heatmap/1000001854_0036_overlay.png\n"
     ]
    },
    {
     "name": "stderr",
     "output_type": "stream",
     "text": [
      "Processing:  13%|█▎        | 37/287 [00:15<01:02,  3.97img/s]"
     ]
    },
    {
     "name": "stdout",
     "output_type": "stream",
     "text": [
      "✅ 已保存: /export/home/daifang/ncr/pix2pix/1000001854_1_png/result/骨转移_pix2pix_512/test_latest/images/heatmap/1000001854_0037_overlay.png\n"
     ]
    },
    {
     "name": "stderr",
     "output_type": "stream",
     "text": [
      "Processing:  13%|█▎        | 38/287 [00:16<01:07,  3.69img/s]"
     ]
    },
    {
     "name": "stdout",
     "output_type": "stream",
     "text": [
      "✅ 已保存: /export/home/daifang/ncr/pix2pix/1000001854_1_png/result/骨转移_pix2pix_512/test_latest/images/heatmap/1000001854_0038_overlay.png\n"
     ]
    },
    {
     "name": "stderr",
     "output_type": "stream",
     "text": [
      "Processing:  14%|█▎        | 39/287 [00:16<01:09,  3.58img/s]"
     ]
    },
    {
     "name": "stdout",
     "output_type": "stream",
     "text": [
      "✅ 已保存: /export/home/daifang/ncr/pix2pix/1000001854_1_png/result/骨转移_pix2pix_512/test_latest/images/heatmap/1000001854_0039_overlay.png\n"
     ]
    },
    {
     "name": "stderr",
     "output_type": "stream",
     "text": [
      "Processing:  14%|█▍        | 40/287 [00:16<01:24,  2.92img/s]"
     ]
    },
    {
     "name": "stdout",
     "output_type": "stream",
     "text": [
      "✅ 已保存: /export/home/daifang/ncr/pix2pix/1000001854_1_png/result/骨转移_pix2pix_512/test_latest/images/heatmap/1000001854_0040_overlay.png\n"
     ]
    },
    {
     "name": "stderr",
     "output_type": "stream",
     "text": [
      "Processing:  14%|█▍        | 41/287 [00:17<01:19,  3.08img/s]"
     ]
    },
    {
     "name": "stdout",
     "output_type": "stream",
     "text": [
      "✅ 已保存: /export/home/daifang/ncr/pix2pix/1000001854_1_png/result/骨转移_pix2pix_512/test_latest/images/heatmap/1000001854_0041_overlay.png\n"
     ]
    },
    {
     "name": "stderr",
     "output_type": "stream",
     "text": [
      "Processing:  15%|█▍        | 42/287 [00:17<01:19,  3.07img/s]"
     ]
    },
    {
     "name": "stdout",
     "output_type": "stream",
     "text": [
      "✅ 已保存: /export/home/daifang/ncr/pix2pix/1000001854_1_png/result/骨转移_pix2pix_512/test_latest/images/heatmap/1000001854_0042_overlay.png\n"
     ]
    },
    {
     "name": "stderr",
     "output_type": "stream",
     "text": [
      "Processing:  15%|█▍        | 43/287 [00:17<01:16,  3.19img/s]"
     ]
    },
    {
     "name": "stdout",
     "output_type": "stream",
     "text": [
      "✅ 已保存: /export/home/daifang/ncr/pix2pix/1000001854_1_png/result/骨转移_pix2pix_512/test_latest/images/heatmap/1000001854_0043_overlay.png\n"
     ]
    },
    {
     "name": "stderr",
     "output_type": "stream",
     "text": [
      "Processing:  15%|█▌        | 44/287 [00:18<01:08,  3.52img/s]"
     ]
    },
    {
     "name": "stdout",
     "output_type": "stream",
     "text": [
      "✅ 已保存: /export/home/daifang/ncr/pix2pix/1000001854_1_png/result/骨转移_pix2pix_512/test_latest/images/heatmap/1000001854_0044_overlay.png\n"
     ]
    },
    {
     "name": "stderr",
     "output_type": "stream",
     "text": [
      "Processing:  16%|█▌        | 45/287 [00:18<01:04,  3.72img/s]"
     ]
    },
    {
     "name": "stdout",
     "output_type": "stream",
     "text": [
      "✅ 已保存: /export/home/daifang/ncr/pix2pix/1000001854_1_png/result/骨转移_pix2pix_512/test_latest/images/heatmap/1000001854_0045_overlay.png\n"
     ]
    },
    {
     "name": "stderr",
     "output_type": "stream",
     "text": [
      "Processing:  16%|█▌        | 46/287 [00:18<01:08,  3.50img/s]"
     ]
    },
    {
     "name": "stdout",
     "output_type": "stream",
     "text": [
      "✅ 已保存: /export/home/daifang/ncr/pix2pix/1000001854_1_png/result/骨转移_pix2pix_512/test_latest/images/heatmap/1000001854_0046_overlay.png\n"
     ]
    },
    {
     "name": "stderr",
     "output_type": "stream",
     "text": [
      "Processing:  16%|█▋        | 47/287 [00:19<01:22,  2.89img/s]"
     ]
    },
    {
     "name": "stdout",
     "output_type": "stream",
     "text": [
      "✅ 已保存: /export/home/daifang/ncr/pix2pix/1000001854_1_png/result/骨转移_pix2pix_512/test_latest/images/heatmap/1000001854_0047_overlay.png\n"
     ]
    },
    {
     "name": "stderr",
     "output_type": "stream",
     "text": [
      "Processing:  17%|█▋        | 48/287 [00:19<01:31,  2.62img/s]"
     ]
    },
    {
     "name": "stdout",
     "output_type": "stream",
     "text": [
      "✅ 已保存: /export/home/daifang/ncr/pix2pix/1000001854_1_png/result/骨转移_pix2pix_512/test_latest/images/heatmap/1000001854_0048_overlay.png\n"
     ]
    },
    {
     "name": "stderr",
     "output_type": "stream",
     "text": [
      "Processing:  17%|█▋        | 49/287 [00:19<01:32,  2.57img/s]"
     ]
    },
    {
     "name": "stdout",
     "output_type": "stream",
     "text": [
      "✅ 已保存: /export/home/daifang/ncr/pix2pix/1000001854_1_png/result/骨转移_pix2pix_512/test_latest/images/heatmap/1000001854_0049_overlay.png\n"
     ]
    },
    {
     "name": "stderr",
     "output_type": "stream",
     "text": [
      "Processing:  17%|█▋        | 50/287 [00:20<01:22,  2.87img/s]"
     ]
    },
    {
     "name": "stdout",
     "output_type": "stream",
     "text": [
      "✅ 已保存: /export/home/daifang/ncr/pix2pix/1000001854_1_png/result/骨转移_pix2pix_512/test_latest/images/heatmap/1000001854_0050_overlay.png\n"
     ]
    },
    {
     "name": "stderr",
     "output_type": "stream",
     "text": [
      "Processing:  18%|█▊        | 51/287 [00:20<01:13,  3.22img/s]"
     ]
    },
    {
     "name": "stdout",
     "output_type": "stream",
     "text": [
      "✅ 已保存: /export/home/daifang/ncr/pix2pix/1000001854_1_png/result/骨转移_pix2pix_512/test_latest/images/heatmap/1000001854_0051_overlay.png\n"
     ]
    },
    {
     "name": "stderr",
     "output_type": "stream",
     "text": [
      "Processing:  18%|█▊        | 52/287 [00:20<01:06,  3.55img/s]"
     ]
    },
    {
     "name": "stdout",
     "output_type": "stream",
     "text": [
      "✅ 已保存: /export/home/daifang/ncr/pix2pix/1000001854_1_png/result/骨转移_pix2pix_512/test_latest/images/heatmap/1000001854_0052_overlay.png\n"
     ]
    },
    {
     "name": "stderr",
     "output_type": "stream",
     "text": [
      "Processing:  18%|█▊        | 53/287 [00:21<01:18,  2.99img/s]"
     ]
    },
    {
     "name": "stdout",
     "output_type": "stream",
     "text": [
      "✅ 已保存: /export/home/daifang/ncr/pix2pix/1000001854_1_png/result/骨转移_pix2pix_512/test_latest/images/heatmap/1000001854_0053_overlay.png\n"
     ]
    },
    {
     "name": "stderr",
     "output_type": "stream",
     "text": [
      "Processing:  19%|█▉        | 54/287 [00:21<01:14,  3.11img/s]"
     ]
    },
    {
     "name": "stdout",
     "output_type": "stream",
     "text": [
      "✅ 已保存: /export/home/daifang/ncr/pix2pix/1000001854_1_png/result/骨转移_pix2pix_512/test_latest/images/heatmap/1000001854_0054_overlay.png\n"
     ]
    },
    {
     "name": "stderr",
     "output_type": "stream",
     "text": [
      "Processing:  19%|█▉        | 55/287 [00:21<01:08,  3.41img/s]"
     ]
    },
    {
     "name": "stdout",
     "output_type": "stream",
     "text": [
      "✅ 已保存: /export/home/daifang/ncr/pix2pix/1000001854_1_png/result/骨转移_pix2pix_512/test_latest/images/heatmap/1000001854_0055_overlay.png\n"
     ]
    },
    {
     "name": "stderr",
     "output_type": "stream",
     "text": [
      "Processing:  20%|█▉        | 56/287 [00:21<01:03,  3.65img/s]"
     ]
    },
    {
     "name": "stdout",
     "output_type": "stream",
     "text": [
      "✅ 已保存: /export/home/daifang/ncr/pix2pix/1000001854_1_png/result/骨转移_pix2pix_512/test_latest/images/heatmap/1000001854_0056_overlay.png\n"
     ]
    },
    {
     "name": "stderr",
     "output_type": "stream",
     "text": [
      "Processing:  20%|█▉        | 57/287 [00:22<01:01,  3.71img/s]"
     ]
    },
    {
     "name": "stdout",
     "output_type": "stream",
     "text": [
      "✅ 已保存: /export/home/daifang/ncr/pix2pix/1000001854_1_png/result/骨转移_pix2pix_512/test_latest/images/heatmap/1000001854_0057_overlay.png\n"
     ]
    },
    {
     "name": "stderr",
     "output_type": "stream",
     "text": [
      "Processing:  20%|██        | 58/287 [00:22<01:01,  3.70img/s]"
     ]
    },
    {
     "name": "stdout",
     "output_type": "stream",
     "text": [
      "✅ 已保存: /export/home/daifang/ncr/pix2pix/1000001854_1_png/result/骨转移_pix2pix_512/test_latest/images/heatmap/1000001854_0058_overlay.png\n"
     ]
    },
    {
     "name": "stderr",
     "output_type": "stream",
     "text": [
      "Processing:  21%|██        | 59/287 [00:22<01:02,  3.65img/s]"
     ]
    },
    {
     "name": "stdout",
     "output_type": "stream",
     "text": [
      "✅ 已保存: /export/home/daifang/ncr/pix2pix/1000001854_1_png/result/骨转移_pix2pix_512/test_latest/images/heatmap/1000001854_0059_overlay.png\n"
     ]
    },
    {
     "name": "stderr",
     "output_type": "stream",
     "text": [
      "Processing:  21%|██        | 60/287 [00:23<01:11,  3.19img/s]"
     ]
    },
    {
     "name": "stdout",
     "output_type": "stream",
     "text": [
      "✅ 已保存: /export/home/daifang/ncr/pix2pix/1000001854_1_png/result/骨转移_pix2pix_512/test_latest/images/heatmap/1000001854_0060_overlay.png\n"
     ]
    },
    {
     "name": "stderr",
     "output_type": "stream",
     "text": [
      "Processing:  21%|██▏       | 61/287 [00:23<01:05,  3.45img/s]"
     ]
    },
    {
     "name": "stdout",
     "output_type": "stream",
     "text": [
      "✅ 已保存: /export/home/daifang/ncr/pix2pix/1000001854_1_png/result/骨转移_pix2pix_512/test_latest/images/heatmap/1000001854_0061_overlay.png\n"
     ]
    },
    {
     "name": "stderr",
     "output_type": "stream",
     "text": [
      "Processing:  22%|██▏       | 62/287 [00:23<01:13,  3.07img/s]"
     ]
    },
    {
     "name": "stdout",
     "output_type": "stream",
     "text": [
      "✅ 已保存: /export/home/daifang/ncr/pix2pix/1000001854_1_png/result/骨转移_pix2pix_512/test_latest/images/heatmap/1000001854_0062_overlay.png\n"
     ]
    },
    {
     "name": "stderr",
     "output_type": "stream",
     "text": [
      "Processing:  22%|██▏       | 63/287 [00:24<02:03,  1.81img/s]"
     ]
    },
    {
     "name": "stdout",
     "output_type": "stream",
     "text": [
      "✅ 已保存: /export/home/daifang/ncr/pix2pix/1000001854_1_png/result/骨转移_pix2pix_512/test_latest/images/heatmap/1000001854_0063_overlay.png\n"
     ]
    },
    {
     "name": "stderr",
     "output_type": "stream",
     "text": [
      "Processing:  22%|██▏       | 64/287 [00:25<02:20,  1.58img/s]"
     ]
    },
    {
     "name": "stdout",
     "output_type": "stream",
     "text": [
      "✅ 已保存: /export/home/daifang/ncr/pix2pix/1000001854_1_png/result/骨转移_pix2pix_512/test_latest/images/heatmap/1000001854_0064_overlay.png\n"
     ]
    },
    {
     "name": "stderr",
     "output_type": "stream",
     "text": [
      "Processing:  23%|██▎       | 65/287 [00:26<02:51,  1.30img/s]"
     ]
    },
    {
     "name": "stdout",
     "output_type": "stream",
     "text": [
      "✅ 已保存: /export/home/daifang/ncr/pix2pix/1000001854_1_png/result/骨转移_pix2pix_512/test_latest/images/heatmap/1000001854_0065_overlay.png\n"
     ]
    },
    {
     "name": "stderr",
     "output_type": "stream",
     "text": [
      "Processing:  23%|██▎       | 66/287 [00:27<02:30,  1.47img/s]"
     ]
    },
    {
     "name": "stdout",
     "output_type": "stream",
     "text": [
      "✅ 已保存: /export/home/daifang/ncr/pix2pix/1000001854_1_png/result/骨转移_pix2pix_512/test_latest/images/heatmap/1000001854_0066_overlay.png\n"
     ]
    },
    {
     "name": "stderr",
     "output_type": "stream",
     "text": [
      "Processing:  23%|██▎       | 67/287 [00:27<02:01,  1.81img/s]"
     ]
    },
    {
     "name": "stdout",
     "output_type": "stream",
     "text": [
      "✅ 已保存: /export/home/daifang/ncr/pix2pix/1000001854_1_png/result/骨转移_pix2pix_512/test_latest/images/heatmap/1000001854_0067_overlay.png\n"
     ]
    },
    {
     "name": "stderr",
     "output_type": "stream",
     "text": [
      "Processing:  24%|██▎       | 68/287 [00:27<01:40,  2.18img/s]"
     ]
    },
    {
     "name": "stdout",
     "output_type": "stream",
     "text": [
      "✅ 已保存: /export/home/daifang/ncr/pix2pix/1000001854_1_png/result/骨转移_pix2pix_512/test_latest/images/heatmap/1000001854_0068_overlay.png\n"
     ]
    },
    {
     "name": "stderr",
     "output_type": "stream",
     "text": [
      "Processing:  24%|██▍       | 69/287 [00:28<01:29,  2.44img/s]"
     ]
    },
    {
     "name": "stdout",
     "output_type": "stream",
     "text": [
      "✅ 已保存: /export/home/daifang/ncr/pix2pix/1000001854_1_png/result/骨转移_pix2pix_512/test_latest/images/heatmap/1000001854_0069_overlay.png\n"
     ]
    },
    {
     "name": "stderr",
     "output_type": "stream",
     "text": [
      "Processing:  24%|██▍       | 70/287 [00:28<01:26,  2.51img/s]"
     ]
    },
    {
     "name": "stdout",
     "output_type": "stream",
     "text": [
      "✅ 已保存: /export/home/daifang/ncr/pix2pix/1000001854_1_png/result/骨转移_pix2pix_512/test_latest/images/heatmap/1000001854_0070_overlay.png\n"
     ]
    },
    {
     "name": "stderr",
     "output_type": "stream",
     "text": [
      "Processing:  25%|██▍       | 71/287 [00:28<01:25,  2.53img/s]"
     ]
    },
    {
     "name": "stdout",
     "output_type": "stream",
     "text": [
      "✅ 已保存: /export/home/daifang/ncr/pix2pix/1000001854_1_png/result/骨转移_pix2pix_512/test_latest/images/heatmap/1000001854_0071_overlay.png\n"
     ]
    },
    {
     "name": "stderr",
     "output_type": "stream",
     "text": [
      "Processing:  25%|██▌       | 72/287 [00:29<01:21,  2.65img/s]"
     ]
    },
    {
     "name": "stdout",
     "output_type": "stream",
     "text": [
      "✅ 已保存: /export/home/daifang/ncr/pix2pix/1000001854_1_png/result/骨转移_pix2pix_512/test_latest/images/heatmap/1000001854_0072_overlay.png\n"
     ]
    },
    {
     "name": "stderr",
     "output_type": "stream",
     "text": [
      "Processing:  25%|██▌       | 73/287 [00:29<01:13,  2.91img/s]"
     ]
    },
    {
     "name": "stdout",
     "output_type": "stream",
     "text": [
      "✅ 已保存: /export/home/daifang/ncr/pix2pix/1000001854_1_png/result/骨转移_pix2pix_512/test_latest/images/heatmap/1000001854_0073_overlay.png\n"
     ]
    },
    {
     "name": "stderr",
     "output_type": "stream",
     "text": [
      "Processing:  26%|██▌       | 74/287 [00:29<01:07,  3.14img/s]"
     ]
    },
    {
     "name": "stdout",
     "output_type": "stream",
     "text": [
      "✅ 已保存: /export/home/daifang/ncr/pix2pix/1000001854_1_png/result/骨转移_pix2pix_512/test_latest/images/heatmap/1000001854_0074_overlay.png\n"
     ]
    },
    {
     "name": "stderr",
     "output_type": "stream",
     "text": [
      "Processing:  26%|██▌       | 75/287 [00:29<01:10,  3.03img/s]"
     ]
    },
    {
     "name": "stdout",
     "output_type": "stream",
     "text": [
      "✅ 已保存: /export/home/daifang/ncr/pix2pix/1000001854_1_png/result/骨转移_pix2pix_512/test_latest/images/heatmap/1000001854_0075_overlay.png\n"
     ]
    },
    {
     "name": "stderr",
     "output_type": "stream",
     "text": [
      "Processing:  26%|██▋       | 76/287 [00:30<01:02,  3.36img/s]"
     ]
    },
    {
     "name": "stdout",
     "output_type": "stream",
     "text": [
      "✅ 已保存: /export/home/daifang/ncr/pix2pix/1000001854_1_png/result/骨转移_pix2pix_512/test_latest/images/heatmap/1000001854_0076_overlay.png\n"
     ]
    },
    {
     "name": "stderr",
     "output_type": "stream",
     "text": [
      "Processing:  27%|██▋       | 77/287 [00:30<01:02,  3.39img/s]"
     ]
    },
    {
     "name": "stdout",
     "output_type": "stream",
     "text": [
      "✅ 已保存: /export/home/daifang/ncr/pix2pix/1000001854_1_png/result/骨转移_pix2pix_512/test_latest/images/heatmap/1000001854_0077_overlay.png\n"
     ]
    },
    {
     "name": "stderr",
     "output_type": "stream",
     "text": [
      "Processing:  27%|██▋       | 78/287 [00:30<01:00,  3.43img/s]"
     ]
    },
    {
     "name": "stdout",
     "output_type": "stream",
     "text": [
      "✅ 已保存: /export/home/daifang/ncr/pix2pix/1000001854_1_png/result/骨转移_pix2pix_512/test_latest/images/heatmap/1000001854_0078_overlay.png\n"
     ]
    },
    {
     "name": "stderr",
     "output_type": "stream",
     "text": [
      "Processing:  28%|██▊       | 79/287 [00:31<00:57,  3.61img/s]"
     ]
    },
    {
     "name": "stdout",
     "output_type": "stream",
     "text": [
      "✅ 已保存: /export/home/daifang/ncr/pix2pix/1000001854_1_png/result/骨转移_pix2pix_512/test_latest/images/heatmap/1000001854_0079_overlay.png\n"
     ]
    },
    {
     "name": "stderr",
     "output_type": "stream",
     "text": [
      "Processing:  28%|██▊       | 80/287 [00:31<00:54,  3.79img/s]"
     ]
    },
    {
     "name": "stdout",
     "output_type": "stream",
     "text": [
      "✅ 已保存: /export/home/daifang/ncr/pix2pix/1000001854_1_png/result/骨转移_pix2pix_512/test_latest/images/heatmap/1000001854_0080_overlay.png\n"
     ]
    },
    {
     "name": "stderr",
     "output_type": "stream",
     "text": [
      "Processing:  28%|██▊       | 81/287 [00:31<01:00,  3.41img/s]"
     ]
    },
    {
     "name": "stdout",
     "output_type": "stream",
     "text": [
      "✅ 已保存: /export/home/daifang/ncr/pix2pix/1000001854_1_png/result/骨转移_pix2pix_512/test_latest/images/heatmap/1000001854_0081_overlay.png\n"
     ]
    },
    {
     "name": "stderr",
     "output_type": "stream",
     "text": [
      "Processing:  29%|██▊       | 82/287 [00:31<00:58,  3.52img/s]"
     ]
    },
    {
     "name": "stdout",
     "output_type": "stream",
     "text": [
      "✅ 已保存: /export/home/daifang/ncr/pix2pix/1000001854_1_png/result/骨转移_pix2pix_512/test_latest/images/heatmap/1000001854_0082_overlay.png\n"
     ]
    },
    {
     "name": "stderr",
     "output_type": "stream",
     "text": [
      "Processing:  29%|██▉       | 83/287 [00:32<01:03,  3.19img/s]"
     ]
    },
    {
     "name": "stdout",
     "output_type": "stream",
     "text": [
      "✅ 已保存: /export/home/daifang/ncr/pix2pix/1000001854_1_png/result/骨转移_pix2pix_512/test_latest/images/heatmap/1000001854_0083_overlay.png\n"
     ]
    },
    {
     "name": "stderr",
     "output_type": "stream",
     "text": [
      "Processing:  29%|██▉       | 84/287 [00:32<01:06,  3.07img/s]"
     ]
    },
    {
     "name": "stdout",
     "output_type": "stream",
     "text": [
      "✅ 已保存: /export/home/daifang/ncr/pix2pix/1000001854_1_png/result/骨转移_pix2pix_512/test_latest/images/heatmap/1000001854_0084_overlay.png\n"
     ]
    },
    {
     "name": "stderr",
     "output_type": "stream",
     "text": [
      "Processing:  30%|██▉       | 85/287 [00:32<01:06,  3.06img/s]"
     ]
    },
    {
     "name": "stdout",
     "output_type": "stream",
     "text": [
      "✅ 已保存: /export/home/daifang/ncr/pix2pix/1000001854_1_png/result/骨转移_pix2pix_512/test_latest/images/heatmap/1000001854_0085_overlay.png\n"
     ]
    },
    {
     "name": "stderr",
     "output_type": "stream",
     "text": [
      "Processing:  30%|██▉       | 86/287 [00:33<01:01,  3.29img/s]"
     ]
    },
    {
     "name": "stdout",
     "output_type": "stream",
     "text": [
      "✅ 已保存: /export/home/daifang/ncr/pix2pix/1000001854_1_png/result/骨转移_pix2pix_512/test_latest/images/heatmap/1000001854_0086_overlay.png\n"
     ]
    },
    {
     "name": "stderr",
     "output_type": "stream",
     "text": [
      "Processing:  30%|███       | 87/287 [00:33<01:01,  3.23img/s]"
     ]
    },
    {
     "name": "stdout",
     "output_type": "stream",
     "text": [
      "✅ 已保存: /export/home/daifang/ncr/pix2pix/1000001854_1_png/result/骨转移_pix2pix_512/test_latest/images/heatmap/1000001854_0087_overlay.png\n"
     ]
    },
    {
     "name": "stderr",
     "output_type": "stream",
     "text": [
      "Processing:  31%|███       | 88/287 [00:33<00:58,  3.37img/s]"
     ]
    },
    {
     "name": "stdout",
     "output_type": "stream",
     "text": [
      "✅ 已保存: /export/home/daifang/ncr/pix2pix/1000001854_1_png/result/骨转移_pix2pix_512/test_latest/images/heatmap/1000001854_0088_overlay.png\n"
     ]
    },
    {
     "name": "stderr",
     "output_type": "stream",
     "text": [
      "Processing:  31%|███       | 89/287 [00:34<01:02,  3.19img/s]"
     ]
    },
    {
     "name": "stdout",
     "output_type": "stream",
     "text": [
      "✅ 已保存: /export/home/daifang/ncr/pix2pix/1000001854_1_png/result/骨转移_pix2pix_512/test_latest/images/heatmap/1000001854_0089_overlay.png\n"
     ]
    },
    {
     "name": "stderr",
     "output_type": "stream",
     "text": [
      "Processing:  31%|███▏      | 90/287 [00:34<00:58,  3.39img/s]"
     ]
    },
    {
     "name": "stdout",
     "output_type": "stream",
     "text": [
      "✅ 已保存: /export/home/daifang/ncr/pix2pix/1000001854_1_png/result/骨转移_pix2pix_512/test_latest/images/heatmap/1000001854_0090_overlay.png\n"
     ]
    },
    {
     "name": "stderr",
     "output_type": "stream",
     "text": [
      "Processing:  32%|███▏      | 91/287 [00:34<01:08,  2.86img/s]"
     ]
    },
    {
     "name": "stdout",
     "output_type": "stream",
     "text": [
      "✅ 已保存: /export/home/daifang/ncr/pix2pix/1000001854_1_png/result/骨转移_pix2pix_512/test_latest/images/heatmap/1000001854_0091_overlay.png\n"
     ]
    },
    {
     "name": "stderr",
     "output_type": "stream",
     "text": [
      "Processing:  32%|███▏      | 92/287 [00:35<01:02,  3.11img/s]"
     ]
    },
    {
     "name": "stdout",
     "output_type": "stream",
     "text": [
      "✅ 已保存: /export/home/daifang/ncr/pix2pix/1000001854_1_png/result/骨转移_pix2pix_512/test_latest/images/heatmap/1000001854_0092_overlay.png\n"
     ]
    },
    {
     "name": "stderr",
     "output_type": "stream",
     "text": [
      "Processing:  32%|███▏      | 93/287 [00:35<00:58,  3.29img/s]"
     ]
    },
    {
     "name": "stdout",
     "output_type": "stream",
     "text": [
      "✅ 已保存: /export/home/daifang/ncr/pix2pix/1000001854_1_png/result/骨转移_pix2pix_512/test_latest/images/heatmap/1000001854_0093_overlay.png\n"
     ]
    },
    {
     "name": "stderr",
     "output_type": "stream",
     "text": [
      "Processing:  33%|███▎      | 94/287 [00:35<01:01,  3.11img/s]"
     ]
    },
    {
     "name": "stdout",
     "output_type": "stream",
     "text": [
      "✅ 已保存: /export/home/daifang/ncr/pix2pix/1000001854_1_png/result/骨转移_pix2pix_512/test_latest/images/heatmap/1000001854_0094_overlay.png\n"
     ]
    },
    {
     "name": "stderr",
     "output_type": "stream",
     "text": [
      "Processing:  33%|███▎      | 95/287 [00:36<00:58,  3.28img/s]"
     ]
    },
    {
     "name": "stdout",
     "output_type": "stream",
     "text": [
      "✅ 已保存: /export/home/daifang/ncr/pix2pix/1000001854_1_png/result/骨转移_pix2pix_512/test_latest/images/heatmap/1000001854_0095_overlay.png\n"
     ]
    },
    {
     "name": "stderr",
     "output_type": "stream",
     "text": [
      "Processing:  33%|███▎      | 96/287 [00:36<01:03,  3.00img/s]"
     ]
    },
    {
     "name": "stdout",
     "output_type": "stream",
     "text": [
      "✅ 已保存: /export/home/daifang/ncr/pix2pix/1000001854_1_png/result/骨转移_pix2pix_512/test_latest/images/heatmap/1000001854_0096_overlay.png\n"
     ]
    },
    {
     "name": "stderr",
     "output_type": "stream",
     "text": [
      "Processing:  34%|███▍      | 97/287 [00:36<00:59,  3.21img/s]"
     ]
    },
    {
     "name": "stdout",
     "output_type": "stream",
     "text": [
      "✅ 已保存: /export/home/daifang/ncr/pix2pix/1000001854_1_png/result/骨转移_pix2pix_512/test_latest/images/heatmap/1000001854_0097_overlay.png\n"
     ]
    },
    {
     "name": "stderr",
     "output_type": "stream",
     "text": [
      "Processing:  34%|███▍      | 98/287 [00:36<00:56,  3.37img/s]"
     ]
    },
    {
     "name": "stdout",
     "output_type": "stream",
     "text": [
      "✅ 已保存: /export/home/daifang/ncr/pix2pix/1000001854_1_png/result/骨转移_pix2pix_512/test_latest/images/heatmap/1000001854_0098_overlay.png\n"
     ]
    },
    {
     "name": "stderr",
     "output_type": "stream",
     "text": [
      "Processing:  34%|███▍      | 99/287 [00:37<00:54,  3.47img/s]"
     ]
    },
    {
     "name": "stdout",
     "output_type": "stream",
     "text": [
      "✅ 已保存: /export/home/daifang/ncr/pix2pix/1000001854_1_png/result/骨转移_pix2pix_512/test_latest/images/heatmap/1000001854_0099_overlay.png\n"
     ]
    },
    {
     "name": "stderr",
     "output_type": "stream",
     "text": [
      "Processing:  35%|███▍      | 100/287 [00:37<01:01,  3.03img/s]"
     ]
    },
    {
     "name": "stdout",
     "output_type": "stream",
     "text": [
      "✅ 已保存: /export/home/daifang/ncr/pix2pix/1000001854_1_png/result/骨转移_pix2pix_512/test_latest/images/heatmap/1000001854_0100_overlay.png\n"
     ]
    },
    {
     "name": "stderr",
     "output_type": "stream",
     "text": [
      "Processing:  35%|███▌      | 101/287 [00:37<01:02,  2.98img/s]"
     ]
    },
    {
     "name": "stdout",
     "output_type": "stream",
     "text": [
      "✅ 已保存: /export/home/daifang/ncr/pix2pix/1000001854_1_png/result/骨转移_pix2pix_512/test_latest/images/heatmap/1000001854_0101_overlay.png\n"
     ]
    },
    {
     "name": "stderr",
     "output_type": "stream",
     "text": [
      "Processing:  36%|███▌      | 102/287 [00:38<00:56,  3.30img/s]"
     ]
    },
    {
     "name": "stdout",
     "output_type": "stream",
     "text": [
      "✅ 已保存: /export/home/daifang/ncr/pix2pix/1000001854_1_png/result/骨转移_pix2pix_512/test_latest/images/heatmap/1000001854_0102_overlay.png\n"
     ]
    },
    {
     "name": "stderr",
     "output_type": "stream",
     "text": [
      "Processing:  36%|███▌      | 103/287 [00:38<00:53,  3.44img/s]"
     ]
    },
    {
     "name": "stdout",
     "output_type": "stream",
     "text": [
      "✅ 已保存: /export/home/daifang/ncr/pix2pix/1000001854_1_png/result/骨转移_pix2pix_512/test_latest/images/heatmap/1000001854_0103_overlay.png\n"
     ]
    },
    {
     "name": "stderr",
     "output_type": "stream",
     "text": [
      "Processing:  36%|███▌      | 104/287 [00:38<00:54,  3.34img/s]"
     ]
    },
    {
     "name": "stdout",
     "output_type": "stream",
     "text": [
      "✅ 已保存: /export/home/daifang/ncr/pix2pix/1000001854_1_png/result/骨转移_pix2pix_512/test_latest/images/heatmap/1000001854_0104_overlay.png\n"
     ]
    },
    {
     "name": "stderr",
     "output_type": "stream",
     "text": [
      "Processing:  37%|███▋      | 105/287 [00:39<00:57,  3.18img/s]"
     ]
    },
    {
     "name": "stdout",
     "output_type": "stream",
     "text": [
      "✅ 已保存: /export/home/daifang/ncr/pix2pix/1000001854_1_png/result/骨转移_pix2pix_512/test_latest/images/heatmap/1000001854_0105_overlay.png\n"
     ]
    },
    {
     "name": "stderr",
     "output_type": "stream",
     "text": [
      "Processing:  37%|███▋      | 106/287 [00:39<00:51,  3.48img/s]"
     ]
    },
    {
     "name": "stdout",
     "output_type": "stream",
     "text": [
      "✅ 已保存: /export/home/daifang/ncr/pix2pix/1000001854_1_png/result/骨转移_pix2pix_512/test_latest/images/heatmap/1000001854_0106_overlay.png\n"
     ]
    },
    {
     "name": "stderr",
     "output_type": "stream",
     "text": [
      "Processing:  37%|███▋      | 107/287 [00:39<00:48,  3.69img/s]"
     ]
    },
    {
     "name": "stdout",
     "output_type": "stream",
     "text": [
      "✅ 已保存: /export/home/daifang/ncr/pix2pix/1000001854_1_png/result/骨转移_pix2pix_512/test_latest/images/heatmap/1000001854_0107_overlay.png\n"
     ]
    },
    {
     "name": "stderr",
     "output_type": "stream",
     "text": [
      "Processing:  38%|███▊      | 108/287 [00:40<00:58,  3.04img/s]"
     ]
    },
    {
     "name": "stdout",
     "output_type": "stream",
     "text": [
      "✅ 已保存: /export/home/daifang/ncr/pix2pix/1000001854_1_png/result/骨转移_pix2pix_512/test_latest/images/heatmap/1000001854_0108_overlay.png\n"
     ]
    },
    {
     "name": "stderr",
     "output_type": "stream",
     "text": [
      "Processing:  38%|███▊      | 109/287 [00:40<01:02,  2.87img/s]"
     ]
    },
    {
     "name": "stdout",
     "output_type": "stream",
     "text": [
      "✅ 已保存: /export/home/daifang/ncr/pix2pix/1000001854_1_png/result/骨转移_pix2pix_512/test_latest/images/heatmap/1000001854_0109_overlay.png\n"
     ]
    },
    {
     "name": "stderr",
     "output_type": "stream",
     "text": [
      "Processing:  38%|███▊      | 110/287 [00:40<01:06,  2.68img/s]"
     ]
    },
    {
     "name": "stdout",
     "output_type": "stream",
     "text": [
      "✅ 已保存: /export/home/daifang/ncr/pix2pix/1000001854_1_png/result/骨转移_pix2pix_512/test_latest/images/heatmap/1000001854_0110_overlay.png\n"
     ]
    },
    {
     "name": "stderr",
     "output_type": "stream",
     "text": [
      "Processing:  39%|███▊      | 111/287 [00:41<01:05,  2.67img/s]"
     ]
    },
    {
     "name": "stdout",
     "output_type": "stream",
     "text": [
      "✅ 已保存: /export/home/daifang/ncr/pix2pix/1000001854_1_png/result/骨转移_pix2pix_512/test_latest/images/heatmap/1000001854_0111_overlay.png\n"
     ]
    },
    {
     "name": "stderr",
     "output_type": "stream",
     "text": [
      "Processing:  39%|███▉      | 112/287 [00:41<01:03,  2.78img/s]"
     ]
    },
    {
     "name": "stdout",
     "output_type": "stream",
     "text": [
      "✅ 已保存: /export/home/daifang/ncr/pix2pix/1000001854_1_png/result/骨转移_pix2pix_512/test_latest/images/heatmap/1000001854_0112_overlay.png\n"
     ]
    },
    {
     "name": "stderr",
     "output_type": "stream",
     "text": [
      "Processing:  39%|███▉      | 113/287 [00:41<00:57,  3.05img/s]"
     ]
    },
    {
     "name": "stdout",
     "output_type": "stream",
     "text": [
      "✅ 已保存: /export/home/daifang/ncr/pix2pix/1000001854_1_png/result/骨转移_pix2pix_512/test_latest/images/heatmap/1000001854_0113_overlay.png\n"
     ]
    },
    {
     "name": "stderr",
     "output_type": "stream",
     "text": [
      "Processing:  40%|███▉      | 114/287 [00:42<00:53,  3.22img/s]"
     ]
    },
    {
     "name": "stdout",
     "output_type": "stream",
     "text": [
      "✅ 已保存: /export/home/daifang/ncr/pix2pix/1000001854_1_png/result/骨转移_pix2pix_512/test_latest/images/heatmap/1000001854_0114_overlay.png\n"
     ]
    },
    {
     "name": "stderr",
     "output_type": "stream",
     "text": [
      "Processing:  40%|████      | 115/287 [00:42<00:57,  3.01img/s]"
     ]
    },
    {
     "name": "stdout",
     "output_type": "stream",
     "text": [
      "✅ 已保存: /export/home/daifang/ncr/pix2pix/1000001854_1_png/result/骨转移_pix2pix_512/test_latest/images/heatmap/1000001854_0115_overlay.png\n"
     ]
    },
    {
     "name": "stderr",
     "output_type": "stream",
     "text": [
      "Processing:  40%|████      | 116/287 [00:42<00:56,  3.03img/s]"
     ]
    },
    {
     "name": "stdout",
     "output_type": "stream",
     "text": [
      "✅ 已保存: /export/home/daifang/ncr/pix2pix/1000001854_1_png/result/骨转移_pix2pix_512/test_latest/images/heatmap/1000001854_0116_overlay.png\n"
     ]
    },
    {
     "name": "stderr",
     "output_type": "stream",
     "text": [
      "Processing:  41%|████      | 117/287 [00:43<00:51,  3.31img/s]"
     ]
    },
    {
     "name": "stdout",
     "output_type": "stream",
     "text": [
      "✅ 已保存: /export/home/daifang/ncr/pix2pix/1000001854_1_png/result/骨转移_pix2pix_512/test_latest/images/heatmap/1000001854_0117_overlay.png\n"
     ]
    },
    {
     "name": "stderr",
     "output_type": "stream",
     "text": [
      "Processing:  41%|████      | 118/287 [00:43<00:55,  3.05img/s]"
     ]
    },
    {
     "name": "stdout",
     "output_type": "stream",
     "text": [
      "✅ 已保存: /export/home/daifang/ncr/pix2pix/1000001854_1_png/result/骨转移_pix2pix_512/test_latest/images/heatmap/1000001854_0118_overlay.png\n"
     ]
    },
    {
     "name": "stderr",
     "output_type": "stream",
     "text": [
      "Processing:  41%|████▏     | 119/287 [00:43<00:51,  3.26img/s]"
     ]
    },
    {
     "name": "stdout",
     "output_type": "stream",
     "text": [
      "✅ 已保存: /export/home/daifang/ncr/pix2pix/1000001854_1_png/result/骨转移_pix2pix_512/test_latest/images/heatmap/1000001854_0119_overlay.png\n"
     ]
    },
    {
     "name": "stderr",
     "output_type": "stream",
     "text": [
      "Processing:  42%|████▏     | 120/287 [00:44<00:56,  2.95img/s]"
     ]
    },
    {
     "name": "stdout",
     "output_type": "stream",
     "text": [
      "✅ 已保存: /export/home/daifang/ncr/pix2pix/1000001854_1_png/result/骨转移_pix2pix_512/test_latest/images/heatmap/1000001854_0120_overlay.png\n"
     ]
    },
    {
     "name": "stderr",
     "output_type": "stream",
     "text": [
      "Processing:  42%|████▏     | 121/287 [00:44<00:53,  3.10img/s]"
     ]
    },
    {
     "name": "stdout",
     "output_type": "stream",
     "text": [
      "✅ 已保存: /export/home/daifang/ncr/pix2pix/1000001854_1_png/result/骨转移_pix2pix_512/test_latest/images/heatmap/1000001854_0121_overlay.png\n"
     ]
    },
    {
     "name": "stderr",
     "output_type": "stream",
     "text": [
      "Processing:  43%|████▎     | 122/287 [00:44<00:53,  3.10img/s]"
     ]
    },
    {
     "name": "stdout",
     "output_type": "stream",
     "text": [
      "✅ 已保存: /export/home/daifang/ncr/pix2pix/1000001854_1_png/result/骨转移_pix2pix_512/test_latest/images/heatmap/1000001854_0122_overlay.png\n"
     ]
    },
    {
     "name": "stderr",
     "output_type": "stream",
     "text": [
      "Processing:  43%|████▎     | 123/287 [00:45<00:54,  2.98img/s]"
     ]
    },
    {
     "name": "stdout",
     "output_type": "stream",
     "text": [
      "✅ 已保存: /export/home/daifang/ncr/pix2pix/1000001854_1_png/result/骨转移_pix2pix_512/test_latest/images/heatmap/1000001854_0123_overlay.png\n"
     ]
    },
    {
     "name": "stderr",
     "output_type": "stream",
     "text": [
      "Processing:  43%|████▎     | 124/287 [00:45<00:51,  3.19img/s]"
     ]
    },
    {
     "name": "stdout",
     "output_type": "stream",
     "text": [
      "✅ 已保存: /export/home/daifang/ncr/pix2pix/1000001854_1_png/result/骨转移_pix2pix_512/test_latest/images/heatmap/1000001854_0124_overlay.png\n"
     ]
    },
    {
     "name": "stderr",
     "output_type": "stream",
     "text": [
      "Processing:  44%|████▎     | 125/287 [00:45<00:52,  3.08img/s]"
     ]
    },
    {
     "name": "stdout",
     "output_type": "stream",
     "text": [
      "✅ 已保存: /export/home/daifang/ncr/pix2pix/1000001854_1_png/result/骨转移_pix2pix_512/test_latest/images/heatmap/1000001854_0125_overlay.png\n"
     ]
    },
    {
     "name": "stderr",
     "output_type": "stream",
     "text": [
      "Processing:  44%|████▍     | 126/287 [00:46<00:53,  3.02img/s]"
     ]
    },
    {
     "name": "stdout",
     "output_type": "stream",
     "text": [
      "✅ 已保存: /export/home/daifang/ncr/pix2pix/1000001854_1_png/result/骨转移_pix2pix_512/test_latest/images/heatmap/1000001854_0126_overlay.png\n"
     ]
    },
    {
     "name": "stderr",
     "output_type": "stream",
     "text": [
      "Processing:  44%|████▍     | 127/287 [00:46<00:53,  2.99img/s]"
     ]
    },
    {
     "name": "stdout",
     "output_type": "stream",
     "text": [
      "✅ 已保存: /export/home/daifang/ncr/pix2pix/1000001854_1_png/result/骨转移_pix2pix_512/test_latest/images/heatmap/1000001854_0127_overlay.png\n"
     ]
    },
    {
     "name": "stderr",
     "output_type": "stream",
     "text": [
      "Processing:  45%|████▍     | 128/287 [00:46<00:55,  2.87img/s]"
     ]
    },
    {
     "name": "stdout",
     "output_type": "stream",
     "text": [
      "✅ 已保存: /export/home/daifang/ncr/pix2pix/1000001854_1_png/result/骨转移_pix2pix_512/test_latest/images/heatmap/1000001854_0128_overlay.png\n"
     ]
    },
    {
     "name": "stderr",
     "output_type": "stream",
     "text": [
      "Processing:  45%|████▍     | 129/287 [00:47<00:52,  3.01img/s]"
     ]
    },
    {
     "name": "stdout",
     "output_type": "stream",
     "text": [
      "✅ 已保存: /export/home/daifang/ncr/pix2pix/1000001854_1_png/result/骨转移_pix2pix_512/test_latest/images/heatmap/1000001854_0129_overlay.png\n"
     ]
    },
    {
     "name": "stderr",
     "output_type": "stream",
     "text": [
      "Processing:  45%|████▌     | 130/287 [00:47<00:49,  3.19img/s]"
     ]
    },
    {
     "name": "stdout",
     "output_type": "stream",
     "text": [
      "✅ 已保存: /export/home/daifang/ncr/pix2pix/1000001854_1_png/result/骨转移_pix2pix_512/test_latest/images/heatmap/1000001854_0130_overlay.png\n"
     ]
    },
    {
     "name": "stderr",
     "output_type": "stream",
     "text": [
      "Processing:  46%|████▌     | 131/287 [00:47<00:46,  3.36img/s]"
     ]
    },
    {
     "name": "stdout",
     "output_type": "stream",
     "text": [
      "✅ 已保存: /export/home/daifang/ncr/pix2pix/1000001854_1_png/result/骨转移_pix2pix_512/test_latest/images/heatmap/1000001854_0131_overlay.png\n"
     ]
    },
    {
     "name": "stderr",
     "output_type": "stream",
     "text": [
      "Processing:  46%|████▌     | 132/287 [00:47<00:45,  3.41img/s]"
     ]
    },
    {
     "name": "stdout",
     "output_type": "stream",
     "text": [
      "✅ 已保存: /export/home/daifang/ncr/pix2pix/1000001854_1_png/result/骨转移_pix2pix_512/test_latest/images/heatmap/1000001854_0132_overlay.png\n"
     ]
    },
    {
     "name": "stderr",
     "output_type": "stream",
     "text": [
      "Processing:  46%|████▋     | 133/287 [00:48<00:49,  3.10img/s]"
     ]
    },
    {
     "name": "stdout",
     "output_type": "stream",
     "text": [
      "✅ 已保存: /export/home/daifang/ncr/pix2pix/1000001854_1_png/result/骨转移_pix2pix_512/test_latest/images/heatmap/1000001854_0133_overlay.png\n"
     ]
    },
    {
     "name": "stderr",
     "output_type": "stream",
     "text": [
      "Processing:  47%|████▋     | 134/287 [00:48<00:52,  2.94img/s]"
     ]
    },
    {
     "name": "stdout",
     "output_type": "stream",
     "text": [
      "✅ 已保存: /export/home/daifang/ncr/pix2pix/1000001854_1_png/result/骨转移_pix2pix_512/test_latest/images/heatmap/1000001854_0134_overlay.png\n"
     ]
    },
    {
     "name": "stderr",
     "output_type": "stream",
     "text": [
      "Processing:  47%|████▋     | 135/287 [00:48<00:51,  2.98img/s]"
     ]
    },
    {
     "name": "stdout",
     "output_type": "stream",
     "text": [
      "✅ 已保存: /export/home/daifang/ncr/pix2pix/1000001854_1_png/result/骨转移_pix2pix_512/test_latest/images/heatmap/1000001854_0135_overlay.png\n"
     ]
    },
    {
     "name": "stderr",
     "output_type": "stream",
     "text": [
      "Processing:  47%|████▋     | 136/287 [00:49<00:49,  3.08img/s]"
     ]
    },
    {
     "name": "stdout",
     "output_type": "stream",
     "text": [
      "✅ 已保存: /export/home/daifang/ncr/pix2pix/1000001854_1_png/result/骨转移_pix2pix_512/test_latest/images/heatmap/1000001854_0136_overlay.png\n"
     ]
    },
    {
     "name": "stderr",
     "output_type": "stream",
     "text": [
      "Processing:  48%|████▊     | 137/287 [00:49<00:53,  2.82img/s]"
     ]
    },
    {
     "name": "stdout",
     "output_type": "stream",
     "text": [
      "✅ 已保存: /export/home/daifang/ncr/pix2pix/1000001854_1_png/result/骨转移_pix2pix_512/test_latest/images/heatmap/1000001854_0137_overlay.png\n"
     ]
    },
    {
     "name": "stderr",
     "output_type": "stream",
     "text": [
      "Processing:  48%|████▊     | 138/287 [00:50<00:54,  2.74img/s]"
     ]
    },
    {
     "name": "stdout",
     "output_type": "stream",
     "text": [
      "✅ 已保存: /export/home/daifang/ncr/pix2pix/1000001854_1_png/result/骨转移_pix2pix_512/test_latest/images/heatmap/1000001854_0138_overlay.png\n"
     ]
    },
    {
     "name": "stderr",
     "output_type": "stream",
     "text": [
      "Processing:  48%|████▊     | 139/287 [00:50<00:55,  2.68img/s]"
     ]
    },
    {
     "name": "stdout",
     "output_type": "stream",
     "text": [
      "✅ 已保存: /export/home/daifang/ncr/pix2pix/1000001854_1_png/result/骨转移_pix2pix_512/test_latest/images/heatmap/1000001854_0139_overlay.png\n"
     ]
    },
    {
     "name": "stderr",
     "output_type": "stream",
     "text": [
      "Processing:  49%|████▉     | 140/287 [00:50<00:50,  2.89img/s]"
     ]
    },
    {
     "name": "stdout",
     "output_type": "stream",
     "text": [
      "✅ 已保存: /export/home/daifang/ncr/pix2pix/1000001854_1_png/result/骨转移_pix2pix_512/test_latest/images/heatmap/1000001854_0140_overlay.png\n"
     ]
    },
    {
     "name": "stderr",
     "output_type": "stream",
     "text": [
      "Processing:  49%|████▉     | 141/287 [00:51<00:56,  2.61img/s]"
     ]
    },
    {
     "name": "stdout",
     "output_type": "stream",
     "text": [
      "✅ 已保存: /export/home/daifang/ncr/pix2pix/1000001854_1_png/result/骨转移_pix2pix_512/test_latest/images/heatmap/1000001854_0141_overlay.png\n"
     ]
    },
    {
     "name": "stderr",
     "output_type": "stream",
     "text": [
      "Processing:  49%|████▉     | 142/287 [00:51<00:54,  2.68img/s]"
     ]
    },
    {
     "name": "stdout",
     "output_type": "stream",
     "text": [
      "✅ 已保存: /export/home/daifang/ncr/pix2pix/1000001854_1_png/result/骨转移_pix2pix_512/test_latest/images/heatmap/1000001854_0142_overlay.png\n"
     ]
    },
    {
     "name": "stderr",
     "output_type": "stream",
     "text": [
      "Processing:  50%|████▉     | 143/287 [00:51<00:49,  2.89img/s]"
     ]
    },
    {
     "name": "stdout",
     "output_type": "stream",
     "text": [
      "✅ 已保存: /export/home/daifang/ncr/pix2pix/1000001854_1_png/result/骨转移_pix2pix_512/test_latest/images/heatmap/1000001854_0143_overlay.png\n"
     ]
    },
    {
     "name": "stderr",
     "output_type": "stream",
     "text": [
      "Processing:  50%|█████     | 144/287 [00:52<00:52,  2.72img/s]"
     ]
    },
    {
     "name": "stdout",
     "output_type": "stream",
     "text": [
      "✅ 已保存: /export/home/daifang/ncr/pix2pix/1000001854_1_png/result/骨转移_pix2pix_512/test_latest/images/heatmap/1000001854_0144_overlay.png\n"
     ]
    },
    {
     "name": "stderr",
     "output_type": "stream",
     "text": [
      "Processing:  51%|█████     | 145/287 [00:52<00:53,  2.65img/s]"
     ]
    },
    {
     "name": "stdout",
     "output_type": "stream",
     "text": [
      "✅ 已保存: /export/home/daifang/ncr/pix2pix/1000001854_1_png/result/骨转移_pix2pix_512/test_latest/images/heatmap/1000001854_0145_overlay.png\n"
     ]
    },
    {
     "name": "stderr",
     "output_type": "stream",
     "text": [
      "Processing:  51%|█████     | 146/287 [00:52<00:48,  2.90img/s]"
     ]
    },
    {
     "name": "stdout",
     "output_type": "stream",
     "text": [
      "✅ 已保存: /export/home/daifang/ncr/pix2pix/1000001854_1_png/result/骨转移_pix2pix_512/test_latest/images/heatmap/1000001854_0146_overlay.png\n"
     ]
    },
    {
     "name": "stderr",
     "output_type": "stream",
     "text": [
      "Processing:  51%|█████     | 147/287 [00:53<00:44,  3.16img/s]"
     ]
    },
    {
     "name": "stdout",
     "output_type": "stream",
     "text": [
      "✅ 已保存: /export/home/daifang/ncr/pix2pix/1000001854_1_png/result/骨转移_pix2pix_512/test_latest/images/heatmap/1000001854_0147_overlay.png\n"
     ]
    },
    {
     "name": "stderr",
     "output_type": "stream",
     "text": [
      "Processing:  52%|█████▏    | 148/287 [00:53<00:50,  2.77img/s]"
     ]
    },
    {
     "name": "stdout",
     "output_type": "stream",
     "text": [
      "✅ 已保存: /export/home/daifang/ncr/pix2pix/1000001854_1_png/result/骨转移_pix2pix_512/test_latest/images/heatmap/1000001854_0148_overlay.png\n"
     ]
    },
    {
     "name": "stderr",
     "output_type": "stream",
     "text": [
      "Processing:  52%|█████▏    | 149/287 [00:53<00:46,  2.95img/s]"
     ]
    },
    {
     "name": "stdout",
     "output_type": "stream",
     "text": [
      "✅ 已保存: /export/home/daifang/ncr/pix2pix/1000001854_1_png/result/骨转移_pix2pix_512/test_latest/images/heatmap/1000001854_0149_overlay.png\n"
     ]
    },
    {
     "name": "stderr",
     "output_type": "stream",
     "text": [
      "Processing:  52%|█████▏    | 150/287 [00:54<00:44,  3.11img/s]"
     ]
    },
    {
     "name": "stdout",
     "output_type": "stream",
     "text": [
      "✅ 已保存: /export/home/daifang/ncr/pix2pix/1000001854_1_png/result/骨转移_pix2pix_512/test_latest/images/heatmap/1000001854_0150_overlay.png\n"
     ]
    },
    {
     "name": "stderr",
     "output_type": "stream",
     "text": [
      "Processing:  53%|█████▎    | 151/287 [00:54<00:40,  3.34img/s]"
     ]
    },
    {
     "name": "stdout",
     "output_type": "stream",
     "text": [
      "✅ 已保存: /export/home/daifang/ncr/pix2pix/1000001854_1_png/result/骨转移_pix2pix_512/test_latest/images/heatmap/1000001854_0151_overlay.png\n"
     ]
    },
    {
     "name": "stderr",
     "output_type": "stream",
     "text": [
      "Processing:  53%|█████▎    | 152/287 [00:54<00:40,  3.37img/s]"
     ]
    },
    {
     "name": "stdout",
     "output_type": "stream",
     "text": [
      "✅ 已保存: /export/home/daifang/ncr/pix2pix/1000001854_1_png/result/骨转移_pix2pix_512/test_latest/images/heatmap/1000001854_0152_overlay.png\n"
     ]
    },
    {
     "name": "stderr",
     "output_type": "stream",
     "text": [
      "Processing:  53%|█████▎    | 153/287 [00:55<00:38,  3.47img/s]"
     ]
    },
    {
     "name": "stdout",
     "output_type": "stream",
     "text": [
      "✅ 已保存: /export/home/daifang/ncr/pix2pix/1000001854_1_png/result/骨转移_pix2pix_512/test_latest/images/heatmap/1000001854_0153_overlay.png\n"
     ]
    },
    {
     "name": "stderr",
     "output_type": "stream",
     "text": [
      "Processing:  54%|█████▎    | 154/287 [00:55<00:38,  3.45img/s]"
     ]
    },
    {
     "name": "stdout",
     "output_type": "stream",
     "text": [
      "✅ 已保存: /export/home/daifang/ncr/pix2pix/1000001854_1_png/result/骨转移_pix2pix_512/test_latest/images/heatmap/1000001854_0154_overlay.png\n"
     ]
    },
    {
     "name": "stderr",
     "output_type": "stream",
     "text": [
      "Processing:  54%|█████▍    | 155/287 [00:55<00:37,  3.48img/s]"
     ]
    },
    {
     "name": "stdout",
     "output_type": "stream",
     "text": [
      "✅ 已保存: /export/home/daifang/ncr/pix2pix/1000001854_1_png/result/骨转移_pix2pix_512/test_latest/images/heatmap/1000001854_0155_overlay.png\n"
     ]
    },
    {
     "name": "stderr",
     "output_type": "stream",
     "text": [
      "Processing:  54%|█████▍    | 156/287 [00:55<00:36,  3.57img/s]"
     ]
    },
    {
     "name": "stdout",
     "output_type": "stream",
     "text": [
      "✅ 已保存: /export/home/daifang/ncr/pix2pix/1000001854_1_png/result/骨转移_pix2pix_512/test_latest/images/heatmap/1000001854_0156_overlay.png\n"
     ]
    },
    {
     "name": "stderr",
     "output_type": "stream",
     "text": [
      "Processing:  55%|█████▍    | 157/287 [00:56<00:41,  3.11img/s]"
     ]
    },
    {
     "name": "stdout",
     "output_type": "stream",
     "text": [
      "✅ 已保存: /export/home/daifang/ncr/pix2pix/1000001854_1_png/result/骨转移_pix2pix_512/test_latest/images/heatmap/1000001854_0157_overlay.png\n"
     ]
    },
    {
     "name": "stderr",
     "output_type": "stream",
     "text": [
      "Processing:  55%|█████▌    | 158/287 [00:56<00:38,  3.35img/s]"
     ]
    },
    {
     "name": "stdout",
     "output_type": "stream",
     "text": [
      "✅ 已保存: /export/home/daifang/ncr/pix2pix/1000001854_1_png/result/骨转移_pix2pix_512/test_latest/images/heatmap/1000001854_0158_overlay.png\n"
     ]
    },
    {
     "name": "stderr",
     "output_type": "stream",
     "text": [
      "Processing:  55%|█████▌    | 159/287 [00:56<00:40,  3.16img/s]"
     ]
    },
    {
     "name": "stdout",
     "output_type": "stream",
     "text": [
      "✅ 已保存: /export/home/daifang/ncr/pix2pix/1000001854_1_png/result/骨转移_pix2pix_512/test_latest/images/heatmap/1000001854_0159_overlay.png\n"
     ]
    },
    {
     "name": "stderr",
     "output_type": "stream",
     "text": [
      "Processing:  56%|█████▌    | 160/287 [00:57<00:44,  2.83img/s]"
     ]
    },
    {
     "name": "stdout",
     "output_type": "stream",
     "text": [
      "✅ 已保存: /export/home/daifang/ncr/pix2pix/1000001854_1_png/result/骨转移_pix2pix_512/test_latest/images/heatmap/1000001854_0160_overlay.png\n"
     ]
    },
    {
     "name": "stderr",
     "output_type": "stream",
     "text": [
      "Processing:  56%|█████▌    | 161/287 [00:57<00:40,  3.07img/s]"
     ]
    },
    {
     "name": "stdout",
     "output_type": "stream",
     "text": [
      "✅ 已保存: /export/home/daifang/ncr/pix2pix/1000001854_1_png/result/骨转移_pix2pix_512/test_latest/images/heatmap/1000001854_0161_overlay.png\n"
     ]
    },
    {
     "name": "stderr",
     "output_type": "stream",
     "text": [
      "Processing:  56%|█████▋    | 162/287 [00:57<00:38,  3.22img/s]"
     ]
    },
    {
     "name": "stdout",
     "output_type": "stream",
     "text": [
      "✅ 已保存: /export/home/daifang/ncr/pix2pix/1000001854_1_png/result/骨转移_pix2pix_512/test_latest/images/heatmap/1000001854_0162_overlay.png\n"
     ]
    },
    {
     "name": "stderr",
     "output_type": "stream",
     "text": [
      "Processing:  57%|█████▋    | 163/287 [00:58<00:36,  3.42img/s]"
     ]
    },
    {
     "name": "stdout",
     "output_type": "stream",
     "text": [
      "✅ 已保存: /export/home/daifang/ncr/pix2pix/1000001854_1_png/result/骨转移_pix2pix_512/test_latest/images/heatmap/1000001854_0163_overlay.png\n"
     ]
    },
    {
     "name": "stderr",
     "output_type": "stream",
     "text": [
      "Processing:  57%|█████▋    | 164/287 [00:58<00:35,  3.49img/s]"
     ]
    },
    {
     "name": "stdout",
     "output_type": "stream",
     "text": [
      "✅ 已保存: /export/home/daifang/ncr/pix2pix/1000001854_1_png/result/骨转移_pix2pix_512/test_latest/images/heatmap/1000001854_0164_overlay.png\n"
     ]
    },
    {
     "name": "stderr",
     "output_type": "stream",
     "text": [
      "Processing:  57%|█████▋    | 165/287 [00:58<00:40,  3.04img/s]"
     ]
    },
    {
     "name": "stdout",
     "output_type": "stream",
     "text": [
      "✅ 已保存: /export/home/daifang/ncr/pix2pix/1000001854_1_png/result/骨转移_pix2pix_512/test_latest/images/heatmap/1000001854_0165_overlay.png\n"
     ]
    },
    {
     "name": "stderr",
     "output_type": "stream",
     "text": [
      "Processing:  58%|█████▊    | 166/287 [00:59<00:43,  2.81img/s]"
     ]
    },
    {
     "name": "stdout",
     "output_type": "stream",
     "text": [
      "✅ 已保存: /export/home/daifang/ncr/pix2pix/1000001854_1_png/result/骨转移_pix2pix_512/test_latest/images/heatmap/1000001854_0166_overlay.png\n"
     ]
    },
    {
     "name": "stderr",
     "output_type": "stream",
     "text": [
      "Processing:  58%|█████▊    | 167/287 [00:59<00:46,  2.56img/s]"
     ]
    },
    {
     "name": "stdout",
     "output_type": "stream",
     "text": [
      "✅ 已保存: /export/home/daifang/ncr/pix2pix/1000001854_1_png/result/骨转移_pix2pix_512/test_latest/images/heatmap/1000001854_0167_overlay.png\n"
     ]
    },
    {
     "name": "stderr",
     "output_type": "stream",
     "text": [
      "Processing:  59%|█████▊    | 168/287 [01:00<00:43,  2.74img/s]"
     ]
    },
    {
     "name": "stdout",
     "output_type": "stream",
     "text": [
      "✅ 已保存: /export/home/daifang/ncr/pix2pix/1000001854_1_png/result/骨转移_pix2pix_512/test_latest/images/heatmap/1000001854_0168_overlay.png\n"
     ]
    },
    {
     "name": "stderr",
     "output_type": "stream",
     "text": [
      "Processing:  59%|█████▉    | 169/287 [01:00<00:39,  2.97img/s]"
     ]
    },
    {
     "name": "stdout",
     "output_type": "stream",
     "text": [
      "✅ 已保存: /export/home/daifang/ncr/pix2pix/1000001854_1_png/result/骨转移_pix2pix_512/test_latest/images/heatmap/1000001854_0169_overlay.png\n"
     ]
    },
    {
     "name": "stderr",
     "output_type": "stream",
     "text": [
      "Processing:  59%|█████▉    | 170/287 [01:00<00:38,  3.05img/s]"
     ]
    },
    {
     "name": "stdout",
     "output_type": "stream",
     "text": [
      "✅ 已保存: /export/home/daifang/ncr/pix2pix/1000001854_1_png/result/骨转移_pix2pix_512/test_latest/images/heatmap/1000001854_0170_overlay.png\n"
     ]
    },
    {
     "name": "stderr",
     "output_type": "stream",
     "text": [
      "Processing:  60%|█████▉    | 171/287 [01:00<00:35,  3.24img/s]"
     ]
    },
    {
     "name": "stdout",
     "output_type": "stream",
     "text": [
      "✅ 已保存: /export/home/daifang/ncr/pix2pix/1000001854_1_png/result/骨转移_pix2pix_512/test_latest/images/heatmap/1000001854_0171_overlay.png\n"
     ]
    },
    {
     "name": "stderr",
     "output_type": "stream",
     "text": [
      "Processing:  60%|█████▉    | 172/287 [01:01<00:37,  3.07img/s]"
     ]
    },
    {
     "name": "stdout",
     "output_type": "stream",
     "text": [
      "✅ 已保存: /export/home/daifang/ncr/pix2pix/1000001854_1_png/result/骨转移_pix2pix_512/test_latest/images/heatmap/1000001854_0172_overlay.png\n"
     ]
    },
    {
     "name": "stderr",
     "output_type": "stream",
     "text": [
      "Processing:  60%|██████    | 173/287 [01:01<00:39,  2.89img/s]"
     ]
    },
    {
     "name": "stdout",
     "output_type": "stream",
     "text": [
      "✅ 已保存: /export/home/daifang/ncr/pix2pix/1000001854_1_png/result/骨转移_pix2pix_512/test_latest/images/heatmap/1000001854_0173_overlay.png\n"
     ]
    },
    {
     "name": "stderr",
     "output_type": "stream",
     "text": [
      "Processing:  61%|██████    | 174/287 [01:01<00:39,  2.84img/s]"
     ]
    },
    {
     "name": "stdout",
     "output_type": "stream",
     "text": [
      "✅ 已保存: /export/home/daifang/ncr/pix2pix/1000001854_1_png/result/骨转移_pix2pix_512/test_latest/images/heatmap/1000001854_0174_overlay.png\n"
     ]
    },
    {
     "name": "stderr",
     "output_type": "stream",
     "text": [
      "Processing:  61%|██████    | 175/287 [01:02<00:35,  3.14img/s]"
     ]
    },
    {
     "name": "stdout",
     "output_type": "stream",
     "text": [
      "✅ 已保存: /export/home/daifang/ncr/pix2pix/1000001854_1_png/result/骨转移_pix2pix_512/test_latest/images/heatmap/1000001854_0175_overlay.png\n"
     ]
    },
    {
     "name": "stderr",
     "output_type": "stream",
     "text": [
      "Processing:  61%|██████▏   | 176/287 [01:02<00:33,  3.32img/s]"
     ]
    },
    {
     "name": "stdout",
     "output_type": "stream",
     "text": [
      "✅ 已保存: /export/home/daifang/ncr/pix2pix/1000001854_1_png/result/骨转移_pix2pix_512/test_latest/images/heatmap/1000001854_0176_overlay.png\n"
     ]
    },
    {
     "name": "stderr",
     "output_type": "stream",
     "text": [
      "Processing:  62%|██████▏   | 177/287 [01:02<00:31,  3.47img/s]"
     ]
    },
    {
     "name": "stdout",
     "output_type": "stream",
     "text": [
      "✅ 已保存: /export/home/daifang/ncr/pix2pix/1000001854_1_png/result/骨转移_pix2pix_512/test_latest/images/heatmap/1000001854_0177_overlay.png\n"
     ]
    },
    {
     "name": "stderr",
     "output_type": "stream",
     "text": [
      "Processing:  62%|██████▏   | 178/287 [01:03<00:34,  3.15img/s]"
     ]
    },
    {
     "name": "stdout",
     "output_type": "stream",
     "text": [
      "✅ 已保存: /export/home/daifang/ncr/pix2pix/1000001854_1_png/result/骨转移_pix2pix_512/test_latest/images/heatmap/1000001854_0178_overlay.png\n"
     ]
    },
    {
     "name": "stderr",
     "output_type": "stream",
     "text": [
      "Processing:  62%|██████▏   | 179/287 [01:03<00:33,  3.24img/s]"
     ]
    },
    {
     "name": "stdout",
     "output_type": "stream",
     "text": [
      "✅ 已保存: /export/home/daifang/ncr/pix2pix/1000001854_1_png/result/骨转移_pix2pix_512/test_latest/images/heatmap/1000001854_0179_overlay.png\n"
     ]
    },
    {
     "name": "stderr",
     "output_type": "stream",
     "text": [
      "Processing:  63%|██████▎   | 180/287 [01:03<00:34,  3.10img/s]"
     ]
    },
    {
     "name": "stdout",
     "output_type": "stream",
     "text": [
      "✅ 已保存: /export/home/daifang/ncr/pix2pix/1000001854_1_png/result/骨转移_pix2pix_512/test_latest/images/heatmap/1000001854_0180_overlay.png\n"
     ]
    },
    {
     "name": "stderr",
     "output_type": "stream",
     "text": [
      "Processing:  63%|██████▎   | 181/287 [01:04<00:34,  3.04img/s]"
     ]
    },
    {
     "name": "stdout",
     "output_type": "stream",
     "text": [
      "✅ 已保存: /export/home/daifang/ncr/pix2pix/1000001854_1_png/result/骨转移_pix2pix_512/test_latest/images/heatmap/1000001854_0181_overlay.png\n"
     ]
    },
    {
     "name": "stderr",
     "output_type": "stream",
     "text": [
      "Processing:  63%|██████▎   | 182/287 [01:04<00:32,  3.28img/s]"
     ]
    },
    {
     "name": "stdout",
     "output_type": "stream",
     "text": [
      "✅ 已保存: /export/home/daifang/ncr/pix2pix/1000001854_1_png/result/骨转移_pix2pix_512/test_latest/images/heatmap/1000001854_0182_overlay.png\n"
     ]
    },
    {
     "name": "stderr",
     "output_type": "stream",
     "text": [
      "Processing:  64%|██████▍   | 183/287 [01:04<00:30,  3.44img/s]"
     ]
    },
    {
     "name": "stdout",
     "output_type": "stream",
     "text": [
      "✅ 已保存: /export/home/daifang/ncr/pix2pix/1000001854_1_png/result/骨转移_pix2pix_512/test_latest/images/heatmap/1000001854_0183_overlay.png\n"
     ]
    },
    {
     "name": "stderr",
     "output_type": "stream",
     "text": [
      "Processing:  64%|██████▍   | 184/287 [01:04<00:30,  3.37img/s]"
     ]
    },
    {
     "name": "stdout",
     "output_type": "stream",
     "text": [
      "✅ 已保存: /export/home/daifang/ncr/pix2pix/1000001854_1_png/result/骨转移_pix2pix_512/test_latest/images/heatmap/1000001854_0184_overlay.png\n"
     ]
    },
    {
     "name": "stderr",
     "output_type": "stream",
     "text": [
      "Processing:  64%|██████▍   | 185/287 [01:05<00:29,  3.48img/s]"
     ]
    },
    {
     "name": "stdout",
     "output_type": "stream",
     "text": [
      "✅ 已保存: /export/home/daifang/ncr/pix2pix/1000001854_1_png/result/骨转移_pix2pix_512/test_latest/images/heatmap/1000001854_0185_overlay.png\n"
     ]
    },
    {
     "name": "stderr",
     "output_type": "stream",
     "text": [
      "Processing:  65%|██████▍   | 186/287 [01:05<00:28,  3.51img/s]"
     ]
    },
    {
     "name": "stdout",
     "output_type": "stream",
     "text": [
      "✅ 已保存: /export/home/daifang/ncr/pix2pix/1000001854_1_png/result/骨转移_pix2pix_512/test_latest/images/heatmap/1000001854_0186_overlay.png\n"
     ]
    },
    {
     "name": "stderr",
     "output_type": "stream",
     "text": [
      "Processing:  65%|██████▌   | 187/287 [01:05<00:27,  3.69img/s]"
     ]
    },
    {
     "name": "stdout",
     "output_type": "stream",
     "text": [
      "✅ 已保存: /export/home/daifang/ncr/pix2pix/1000001854_1_png/result/骨转移_pix2pix_512/test_latest/images/heatmap/1000001854_0187_overlay.png\n"
     ]
    },
    {
     "name": "stderr",
     "output_type": "stream",
     "text": [
      "Processing:  66%|██████▌   | 188/287 [01:05<00:26,  3.77img/s]"
     ]
    },
    {
     "name": "stdout",
     "output_type": "stream",
     "text": [
      "✅ 已保存: /export/home/daifang/ncr/pix2pix/1000001854_1_png/result/骨转移_pix2pix_512/test_latest/images/heatmap/1000001854_0188_overlay.png\n"
     ]
    },
    {
     "name": "stderr",
     "output_type": "stream",
     "text": [
      "Processing:  66%|██████▌   | 189/287 [01:06<00:30,  3.22img/s]"
     ]
    },
    {
     "name": "stdout",
     "output_type": "stream",
     "text": [
      "✅ 已保存: /export/home/daifang/ncr/pix2pix/1000001854_1_png/result/骨转移_pix2pix_512/test_latest/images/heatmap/1000001854_0189_overlay.png\n"
     ]
    },
    {
     "name": "stderr",
     "output_type": "stream",
     "text": [
      "Processing:  66%|██████▌   | 190/287 [01:06<00:33,  2.91img/s]"
     ]
    },
    {
     "name": "stdout",
     "output_type": "stream",
     "text": [
      "✅ 已保存: /export/home/daifang/ncr/pix2pix/1000001854_1_png/result/骨转移_pix2pix_512/test_latest/images/heatmap/1000001854_0190_overlay.png\n"
     ]
    },
    {
     "name": "stderr",
     "output_type": "stream",
     "text": [
      "Processing:  67%|██████▋   | 191/287 [01:07<00:29,  3.28img/s]"
     ]
    },
    {
     "name": "stdout",
     "output_type": "stream",
     "text": [
      "✅ 已保存: /export/home/daifang/ncr/pix2pix/1000001854_1_png/result/骨转移_pix2pix_512/test_latest/images/heatmap/1000001854_0191_overlay.png\n"
     ]
    },
    {
     "name": "stderr",
     "output_type": "stream",
     "text": [
      "Processing:  67%|██████▋   | 192/287 [01:07<00:28,  3.39img/s]"
     ]
    },
    {
     "name": "stdout",
     "output_type": "stream",
     "text": [
      "✅ 已保存: /export/home/daifang/ncr/pix2pix/1000001854_1_png/result/骨转移_pix2pix_512/test_latest/images/heatmap/1000001854_0192_overlay.png\n"
     ]
    },
    {
     "name": "stderr",
     "output_type": "stream",
     "text": [
      "Processing:  67%|██████▋   | 193/287 [01:07<00:26,  3.61img/s]"
     ]
    },
    {
     "name": "stdout",
     "output_type": "stream",
     "text": [
      "✅ 已保存: /export/home/daifang/ncr/pix2pix/1000001854_1_png/result/骨转移_pix2pix_512/test_latest/images/heatmap/1000001854_0193_overlay.png\n"
     ]
    },
    {
     "name": "stderr",
     "output_type": "stream",
     "text": [
      "Processing:  68%|██████▊   | 194/287 [01:07<00:29,  3.11img/s]"
     ]
    },
    {
     "name": "stdout",
     "output_type": "stream",
     "text": [
      "✅ 已保存: /export/home/daifang/ncr/pix2pix/1000001854_1_png/result/骨转移_pix2pix_512/test_latest/images/heatmap/1000001854_0194_overlay.png\n"
     ]
    },
    {
     "name": "stderr",
     "output_type": "stream",
     "text": [
      "Processing:  68%|██████▊   | 195/287 [01:08<00:27,  3.36img/s]"
     ]
    },
    {
     "name": "stdout",
     "output_type": "stream",
     "text": [
      "✅ 已保存: /export/home/daifang/ncr/pix2pix/1000001854_1_png/result/骨转移_pix2pix_512/test_latest/images/heatmap/1000001854_0195_overlay.png\n"
     ]
    },
    {
     "name": "stderr",
     "output_type": "stream",
     "text": [
      "Processing:  68%|██████▊   | 196/287 [01:08<00:28,  3.20img/s]"
     ]
    },
    {
     "name": "stdout",
     "output_type": "stream",
     "text": [
      "✅ 已保存: /export/home/daifang/ncr/pix2pix/1000001854_1_png/result/骨转移_pix2pix_512/test_latest/images/heatmap/1000001854_0196_overlay.png\n"
     ]
    },
    {
     "name": "stderr",
     "output_type": "stream",
     "text": [
      "Processing:  69%|██████▊   | 197/287 [01:08<00:31,  2.84img/s]"
     ]
    },
    {
     "name": "stdout",
     "output_type": "stream",
     "text": [
      "✅ 已保存: /export/home/daifang/ncr/pix2pix/1000001854_1_png/result/骨转移_pix2pix_512/test_latest/images/heatmap/1000001854_0197_overlay.png\n"
     ]
    },
    {
     "name": "stderr",
     "output_type": "stream",
     "text": [
      "Processing:  69%|██████▉   | 198/287 [01:09<00:29,  3.04img/s]"
     ]
    },
    {
     "name": "stdout",
     "output_type": "stream",
     "text": [
      "✅ 已保存: /export/home/daifang/ncr/pix2pix/1000001854_1_png/result/骨转移_pix2pix_512/test_latest/images/heatmap/1000001854_0198_overlay.png\n"
     ]
    },
    {
     "name": "stderr",
     "output_type": "stream",
     "text": [
      "Processing:  69%|██████▉   | 199/287 [01:09<00:31,  2.83img/s]"
     ]
    },
    {
     "name": "stdout",
     "output_type": "stream",
     "text": [
      "✅ 已保存: /export/home/daifang/ncr/pix2pix/1000001854_1_png/result/骨转移_pix2pix_512/test_latest/images/heatmap/1000001854_0199_overlay.png\n"
     ]
    },
    {
     "name": "stderr",
     "output_type": "stream",
     "text": [
      "Processing:  70%|██████▉   | 200/287 [01:10<00:31,  2.76img/s]"
     ]
    },
    {
     "name": "stdout",
     "output_type": "stream",
     "text": [
      "✅ 已保存: /export/home/daifang/ncr/pix2pix/1000001854_1_png/result/骨转移_pix2pix_512/test_latest/images/heatmap/1000001854_0200_overlay.png\n"
     ]
    },
    {
     "name": "stderr",
     "output_type": "stream",
     "text": [
      "Processing:  70%|███████   | 201/287 [01:10<00:32,  2.65img/s]"
     ]
    },
    {
     "name": "stdout",
     "output_type": "stream",
     "text": [
      "✅ 已保存: /export/home/daifang/ncr/pix2pix/1000001854_1_png/result/骨转移_pix2pix_512/test_latest/images/heatmap/1000001854_0201_overlay.png\n"
     ]
    },
    {
     "name": "stderr",
     "output_type": "stream",
     "text": [
      "Processing:  70%|███████   | 202/287 [01:10<00:31,  2.68img/s]"
     ]
    },
    {
     "name": "stdout",
     "output_type": "stream",
     "text": [
      "✅ 已保存: /export/home/daifang/ncr/pix2pix/1000001854_1_png/result/骨转移_pix2pix_512/test_latest/images/heatmap/1000001854_0202_overlay.png\n"
     ]
    },
    {
     "name": "stderr",
     "output_type": "stream",
     "text": [
      "Processing:  71%|███████   | 203/287 [01:11<00:31,  2.65img/s]"
     ]
    },
    {
     "name": "stdout",
     "output_type": "stream",
     "text": [
      "✅ 已保存: /export/home/daifang/ncr/pix2pix/1000001854_1_png/result/骨转移_pix2pix_512/test_latest/images/heatmap/1000001854_0203_overlay.png\n"
     ]
    },
    {
     "name": "stderr",
     "output_type": "stream",
     "text": [
      "Processing:  71%|███████   | 204/287 [01:11<00:31,  2.62img/s]"
     ]
    },
    {
     "name": "stdout",
     "output_type": "stream",
     "text": [
      "✅ 已保存: /export/home/daifang/ncr/pix2pix/1000001854_1_png/result/骨转移_pix2pix_512/test_latest/images/heatmap/1000001854_0204_overlay.png\n"
     ]
    },
    {
     "name": "stderr",
     "output_type": "stream",
     "text": [
      "Processing:  71%|███████▏  | 205/287 [01:12<00:31,  2.57img/s]"
     ]
    },
    {
     "name": "stdout",
     "output_type": "stream",
     "text": [
      "✅ 已保存: /export/home/daifang/ncr/pix2pix/1000001854_1_png/result/骨转移_pix2pix_512/test_latest/images/heatmap/1000001854_0205_overlay.png\n"
     ]
    },
    {
     "name": "stderr",
     "output_type": "stream",
     "text": [
      "Processing:  72%|███████▏  | 206/287 [01:12<00:31,  2.58img/s]"
     ]
    },
    {
     "name": "stdout",
     "output_type": "stream",
     "text": [
      "✅ 已保存: /export/home/daifang/ncr/pix2pix/1000001854_1_png/result/骨转移_pix2pix_512/test_latest/images/heatmap/1000001854_0206_overlay.png\n"
     ]
    },
    {
     "name": "stderr",
     "output_type": "stream",
     "text": [
      "Processing:  72%|███████▏  | 207/287 [01:12<00:27,  2.93img/s]"
     ]
    },
    {
     "name": "stdout",
     "output_type": "stream",
     "text": [
      "✅ 已保存: /export/home/daifang/ncr/pix2pix/1000001854_1_png/result/骨转移_pix2pix_512/test_latest/images/heatmap/1000001854_0207_overlay.png\n"
     ]
    },
    {
     "name": "stderr",
     "output_type": "stream",
     "text": [
      "Processing:  72%|███████▏  | 208/287 [01:12<00:26,  2.99img/s]"
     ]
    },
    {
     "name": "stdout",
     "output_type": "stream",
     "text": [
      "✅ 已保存: /export/home/daifang/ncr/pix2pix/1000001854_1_png/result/骨转移_pix2pix_512/test_latest/images/heatmap/1000001854_0208_overlay.png\n"
     ]
    },
    {
     "name": "stderr",
     "output_type": "stream",
     "text": [
      "Processing:  73%|███████▎  | 209/287 [01:13<00:29,  2.60img/s]"
     ]
    },
    {
     "name": "stdout",
     "output_type": "stream",
     "text": [
      "✅ 已保存: /export/home/daifang/ncr/pix2pix/1000001854_1_png/result/骨转移_pix2pix_512/test_latest/images/heatmap/1000001854_0209_overlay.png\n"
     ]
    },
    {
     "name": "stderr",
     "output_type": "stream",
     "text": [
      "Processing:  73%|███████▎  | 210/287 [01:13<00:30,  2.55img/s]"
     ]
    },
    {
     "name": "stdout",
     "output_type": "stream",
     "text": [
      "✅ 已保存: /export/home/daifang/ncr/pix2pix/1000001854_1_png/result/骨转移_pix2pix_512/test_latest/images/heatmap/1000001854_0210_overlay.png\n"
     ]
    },
    {
     "name": "stderr",
     "output_type": "stream",
     "text": [
      "Processing:  74%|███████▎  | 211/287 [01:14<00:28,  2.62img/s]"
     ]
    },
    {
     "name": "stdout",
     "output_type": "stream",
     "text": [
      "✅ 已保存: /export/home/daifang/ncr/pix2pix/1000001854_1_png/result/骨转移_pix2pix_512/test_latest/images/heatmap/1000001854_0211_overlay.png\n"
     ]
    },
    {
     "name": "stderr",
     "output_type": "stream",
     "text": [
      "Processing:  74%|███████▍  | 212/287 [01:14<00:28,  2.63img/s]"
     ]
    },
    {
     "name": "stdout",
     "output_type": "stream",
     "text": [
      "✅ 已保存: /export/home/daifang/ncr/pix2pix/1000001854_1_png/result/骨转移_pix2pix_512/test_latest/images/heatmap/1000001854_0212_overlay.png\n"
     ]
    },
    {
     "name": "stderr",
     "output_type": "stream",
     "text": [
      "Processing:  74%|███████▍  | 213/287 [01:14<00:28,  2.59img/s]"
     ]
    },
    {
     "name": "stdout",
     "output_type": "stream",
     "text": [
      "✅ 已保存: /export/home/daifang/ncr/pix2pix/1000001854_1_png/result/骨转移_pix2pix_512/test_latest/images/heatmap/1000001854_0213_overlay.png\n"
     ]
    },
    {
     "name": "stderr",
     "output_type": "stream",
     "text": [
      "Processing:  75%|███████▍  | 214/287 [01:15<00:27,  2.65img/s]"
     ]
    },
    {
     "name": "stdout",
     "output_type": "stream",
     "text": [
      "✅ 已保存: /export/home/daifang/ncr/pix2pix/1000001854_1_png/result/骨转移_pix2pix_512/test_latest/images/heatmap/1000001854_0214_overlay.png\n"
     ]
    },
    {
     "name": "stderr",
     "output_type": "stream",
     "text": [
      "Processing:  75%|███████▍  | 215/287 [01:15<00:29,  2.46img/s]"
     ]
    },
    {
     "name": "stdout",
     "output_type": "stream",
     "text": [
      "✅ 已保存: /export/home/daifang/ncr/pix2pix/1000001854_1_png/result/骨转移_pix2pix_512/test_latest/images/heatmap/1000001854_0215_overlay.png\n"
     ]
    },
    {
     "name": "stderr",
     "output_type": "stream",
     "text": [
      "Processing:  75%|███████▌  | 216/287 [01:16<00:31,  2.27img/s]"
     ]
    },
    {
     "name": "stdout",
     "output_type": "stream",
     "text": [
      "✅ 已保存: /export/home/daifang/ncr/pix2pix/1000001854_1_png/result/骨转移_pix2pix_512/test_latest/images/heatmap/1000001854_0216_overlay.png\n"
     ]
    },
    {
     "name": "stderr",
     "output_type": "stream",
     "text": [
      "Processing:  76%|███████▌  | 217/287 [01:16<00:29,  2.41img/s]"
     ]
    },
    {
     "name": "stdout",
     "output_type": "stream",
     "text": [
      "✅ 已保存: /export/home/daifang/ncr/pix2pix/1000001854_1_png/result/骨转移_pix2pix_512/test_latest/images/heatmap/1000001854_0217_overlay.png\n"
     ]
    },
    {
     "name": "stderr",
     "output_type": "stream",
     "text": [
      "Processing:  76%|███████▌  | 218/287 [01:17<00:29,  2.34img/s]"
     ]
    },
    {
     "name": "stdout",
     "output_type": "stream",
     "text": [
      "✅ 已保存: /export/home/daifang/ncr/pix2pix/1000001854_1_png/result/骨转移_pix2pix_512/test_latest/images/heatmap/1000001854_0218_overlay.png\n"
     ]
    },
    {
     "name": "stderr",
     "output_type": "stream",
     "text": [
      "Processing:  76%|███████▋  | 219/287 [01:17<00:30,  2.23img/s]"
     ]
    },
    {
     "name": "stdout",
     "output_type": "stream",
     "text": [
      "✅ 已保存: /export/home/daifang/ncr/pix2pix/1000001854_1_png/result/骨转移_pix2pix_512/test_latest/images/heatmap/1000001854_0219_overlay.png\n"
     ]
    },
    {
     "name": "stderr",
     "output_type": "stream",
     "text": [
      "Processing:  77%|███████▋  | 220/287 [01:18<00:28,  2.39img/s]"
     ]
    },
    {
     "name": "stdout",
     "output_type": "stream",
     "text": [
      "✅ 已保存: /export/home/daifang/ncr/pix2pix/1000001854_1_png/result/骨转移_pix2pix_512/test_latest/images/heatmap/1000001854_0220_overlay.png\n"
     ]
    },
    {
     "name": "stderr",
     "output_type": "stream",
     "text": [
      "Processing:  77%|███████▋  | 221/287 [01:18<00:24,  2.69img/s]"
     ]
    },
    {
     "name": "stdout",
     "output_type": "stream",
     "text": [
      "✅ 已保存: /export/home/daifang/ncr/pix2pix/1000001854_1_png/result/骨转移_pix2pix_512/test_latest/images/heatmap/1000001854_0221_overlay.png\n"
     ]
    },
    {
     "name": "stderr",
     "output_type": "stream",
     "text": [
      "Processing:  77%|███████▋  | 222/287 [01:18<00:26,  2.47img/s]"
     ]
    },
    {
     "name": "stdout",
     "output_type": "stream",
     "text": [
      "✅ 已保存: /export/home/daifang/ncr/pix2pix/1000001854_1_png/result/骨转移_pix2pix_512/test_latest/images/heatmap/1000001854_0222_overlay.png\n"
     ]
    },
    {
     "name": "stderr",
     "output_type": "stream",
     "text": [
      "Processing:  78%|███████▊  | 223/287 [01:19<00:25,  2.56img/s]"
     ]
    },
    {
     "name": "stdout",
     "output_type": "stream",
     "text": [
      "✅ 已保存: /export/home/daifang/ncr/pix2pix/1000001854_1_png/result/骨转移_pix2pix_512/test_latest/images/heatmap/1000001854_0223_overlay.png\n"
     ]
    },
    {
     "name": "stderr",
     "output_type": "stream",
     "text": [
      "Processing:  78%|███████▊  | 224/287 [01:19<00:22,  2.81img/s]"
     ]
    },
    {
     "name": "stdout",
     "output_type": "stream",
     "text": [
      "✅ 已保存: /export/home/daifang/ncr/pix2pix/1000001854_1_png/result/骨转移_pix2pix_512/test_latest/images/heatmap/1000001854_0224_overlay.png\n"
     ]
    },
    {
     "name": "stderr",
     "output_type": "stream",
     "text": [
      "Processing:  78%|███████▊  | 225/287 [01:19<00:20,  3.01img/s]"
     ]
    },
    {
     "name": "stdout",
     "output_type": "stream",
     "text": [
      "✅ 已保存: /export/home/daifang/ncr/pix2pix/1000001854_1_png/result/骨转移_pix2pix_512/test_latest/images/heatmap/1000001854_0225_overlay.png\n"
     ]
    },
    {
     "name": "stderr",
     "output_type": "stream",
     "text": [
      "Processing:  79%|███████▊  | 226/287 [01:19<00:18,  3.23img/s]"
     ]
    },
    {
     "name": "stdout",
     "output_type": "stream",
     "text": [
      "✅ 已保存: /export/home/daifang/ncr/pix2pix/1000001854_1_png/result/骨转移_pix2pix_512/test_latest/images/heatmap/1000001854_0226_overlay.png\n"
     ]
    },
    {
     "name": "stderr",
     "output_type": "stream",
     "text": [
      "Processing:  79%|███████▉  | 227/287 [01:20<00:21,  2.76img/s]"
     ]
    },
    {
     "name": "stdout",
     "output_type": "stream",
     "text": [
      "✅ 已保存: /export/home/daifang/ncr/pix2pix/1000001854_1_png/result/骨转移_pix2pix_512/test_latest/images/heatmap/1000001854_0227_overlay.png\n"
     ]
    },
    {
     "name": "stderr",
     "output_type": "stream",
     "text": [
      "Processing:  79%|███████▉  | 228/287 [01:20<00:24,  2.45img/s]"
     ]
    },
    {
     "name": "stdout",
     "output_type": "stream",
     "text": [
      "✅ 已保存: /export/home/daifang/ncr/pix2pix/1000001854_1_png/result/骨转移_pix2pix_512/test_latest/images/heatmap/1000001854_0228_overlay.png\n"
     ]
    },
    {
     "name": "stderr",
     "output_type": "stream",
     "text": [
      "Processing:  80%|███████▉  | 229/287 [01:21<00:22,  2.54img/s]"
     ]
    },
    {
     "name": "stdout",
     "output_type": "stream",
     "text": [
      "✅ 已保存: /export/home/daifang/ncr/pix2pix/1000001854_1_png/result/骨转移_pix2pix_512/test_latest/images/heatmap/1000001854_0229_overlay.png\n"
     ]
    },
    {
     "name": "stderr",
     "output_type": "stream",
     "text": [
      "Processing:  80%|████████  | 230/287 [01:21<00:20,  2.78img/s]"
     ]
    },
    {
     "name": "stdout",
     "output_type": "stream",
     "text": [
      "✅ 已保存: /export/home/daifang/ncr/pix2pix/1000001854_1_png/result/骨转移_pix2pix_512/test_latest/images/heatmap/1000001854_0230_overlay.png\n"
     ]
    },
    {
     "name": "stderr",
     "output_type": "stream",
     "text": [
      "Processing:  80%|████████  | 231/287 [01:21<00:20,  2.73img/s]"
     ]
    },
    {
     "name": "stdout",
     "output_type": "stream",
     "text": [
      "✅ 已保存: /export/home/daifang/ncr/pix2pix/1000001854_1_png/result/骨转移_pix2pix_512/test_latest/images/heatmap/1000001854_0231_overlay.png\n"
     ]
    },
    {
     "name": "stderr",
     "output_type": "stream",
     "text": [
      "Processing:  81%|████████  | 232/287 [01:22<00:18,  2.91img/s]"
     ]
    },
    {
     "name": "stdout",
     "output_type": "stream",
     "text": [
      "✅ 已保存: /export/home/daifang/ncr/pix2pix/1000001854_1_png/result/骨转移_pix2pix_512/test_latest/images/heatmap/1000001854_0232_overlay.png\n"
     ]
    },
    {
     "name": "stderr",
     "output_type": "stream",
     "text": [
      "Processing:  81%|████████  | 233/287 [01:22<00:17,  3.11img/s]"
     ]
    },
    {
     "name": "stdout",
     "output_type": "stream",
     "text": [
      "✅ 已保存: /export/home/daifang/ncr/pix2pix/1000001854_1_png/result/骨转移_pix2pix_512/test_latest/images/heatmap/1000001854_0233_overlay.png\n"
     ]
    },
    {
     "name": "stderr",
     "output_type": "stream",
     "text": [
      "Processing:  82%|████████▏ | 234/287 [01:22<00:16,  3.15img/s]"
     ]
    },
    {
     "name": "stdout",
     "output_type": "stream",
     "text": [
      "✅ 已保存: /export/home/daifang/ncr/pix2pix/1000001854_1_png/result/骨转移_pix2pix_512/test_latest/images/heatmap/1000001854_0234_overlay.png\n"
     ]
    },
    {
     "name": "stderr",
     "output_type": "stream",
     "text": [
      "Processing:  82%|████████▏ | 235/287 [01:23<00:15,  3.32img/s]"
     ]
    },
    {
     "name": "stdout",
     "output_type": "stream",
     "text": [
      "✅ 已保存: /export/home/daifang/ncr/pix2pix/1000001854_1_png/result/骨转移_pix2pix_512/test_latest/images/heatmap/1000001854_0235_overlay.png\n"
     ]
    },
    {
     "name": "stderr",
     "output_type": "stream",
     "text": [
      "Processing:  82%|████████▏ | 236/287 [01:23<00:16,  3.12img/s]"
     ]
    },
    {
     "name": "stdout",
     "output_type": "stream",
     "text": [
      "✅ 已保存: /export/home/daifang/ncr/pix2pix/1000001854_1_png/result/骨转移_pix2pix_512/test_latest/images/heatmap/1000001854_0236_overlay.png\n"
     ]
    },
    {
     "name": "stderr",
     "output_type": "stream",
     "text": [
      "Processing:  83%|████████▎ | 237/287 [01:23<00:15,  3.24img/s]"
     ]
    },
    {
     "name": "stdout",
     "output_type": "stream",
     "text": [
      "✅ 已保存: /export/home/daifang/ncr/pix2pix/1000001854_1_png/result/骨转移_pix2pix_512/test_latest/images/heatmap/1000001854_0237_overlay.png\n"
     ]
    },
    {
     "name": "stderr",
     "output_type": "stream",
     "text": [
      "Processing:  83%|████████▎ | 238/287 [01:23<00:14,  3.38img/s]"
     ]
    },
    {
     "name": "stdout",
     "output_type": "stream",
     "text": [
      "✅ 已保存: /export/home/daifang/ncr/pix2pix/1000001854_1_png/result/骨转移_pix2pix_512/test_latest/images/heatmap/1000001854_0238_overlay.png\n"
     ]
    },
    {
     "name": "stderr",
     "output_type": "stream",
     "text": [
      "Processing:  83%|████████▎ | 239/287 [01:24<00:16,  2.94img/s]"
     ]
    },
    {
     "name": "stdout",
     "output_type": "stream",
     "text": [
      "✅ 已保存: /export/home/daifang/ncr/pix2pix/1000001854_1_png/result/骨转移_pix2pix_512/test_latest/images/heatmap/1000001854_0239_overlay.png\n"
     ]
    },
    {
     "name": "stderr",
     "output_type": "stream",
     "text": [
      "Processing:  84%|████████▎ | 240/287 [01:24<00:15,  3.12img/s]"
     ]
    },
    {
     "name": "stdout",
     "output_type": "stream",
     "text": [
      "✅ 已保存: /export/home/daifang/ncr/pix2pix/1000001854_1_png/result/骨转移_pix2pix_512/test_latest/images/heatmap/1000001854_0240_overlay.png\n"
     ]
    },
    {
     "name": "stderr",
     "output_type": "stream",
     "text": [
      "Processing:  84%|████████▍ | 241/287 [01:24<00:13,  3.31img/s]"
     ]
    },
    {
     "name": "stdout",
     "output_type": "stream",
     "text": [
      "✅ 已保存: /export/home/daifang/ncr/pix2pix/1000001854_1_png/result/骨转移_pix2pix_512/test_latest/images/heatmap/1000001854_0241_overlay.png\n"
     ]
    },
    {
     "name": "stderr",
     "output_type": "stream",
     "text": [
      "Processing:  84%|████████▍ | 242/287 [01:25<00:15,  2.83img/s]"
     ]
    },
    {
     "name": "stdout",
     "output_type": "stream",
     "text": [
      "✅ 已保存: /export/home/daifang/ncr/pix2pix/1000001854_1_png/result/骨转移_pix2pix_512/test_latest/images/heatmap/1000001854_0242_overlay.png\n"
     ]
    },
    {
     "name": "stderr",
     "output_type": "stream",
     "text": [
      "Processing:  85%|████████▍ | 243/287 [01:25<00:15,  2.89img/s]"
     ]
    },
    {
     "name": "stdout",
     "output_type": "stream",
     "text": [
      "✅ 已保存: /export/home/daifang/ncr/pix2pix/1000001854_1_png/result/骨转移_pix2pix_512/test_latest/images/heatmap/1000001854_0243_overlay.png\n"
     ]
    },
    {
     "name": "stderr",
     "output_type": "stream",
     "text": [
      "Processing:  85%|████████▌ | 244/287 [01:26<00:13,  3.16img/s]"
     ]
    },
    {
     "name": "stdout",
     "output_type": "stream",
     "text": [
      "✅ 已保存: /export/home/daifang/ncr/pix2pix/1000001854_1_png/result/骨转移_pix2pix_512/test_latest/images/heatmap/1000001854_0244_overlay.png\n"
     ]
    },
    {
     "name": "stderr",
     "output_type": "stream",
     "text": [
      "Processing:  85%|████████▌ | 245/287 [01:26<00:14,  2.84img/s]"
     ]
    },
    {
     "name": "stdout",
     "output_type": "stream",
     "text": [
      "✅ 已保存: /export/home/daifang/ncr/pix2pix/1000001854_1_png/result/骨转移_pix2pix_512/test_latest/images/heatmap/1000001854_0245_overlay.png\n"
     ]
    },
    {
     "name": "stderr",
     "output_type": "stream",
     "text": [
      "Processing:  86%|████████▌ | 246/287 [01:26<00:15,  2.57img/s]"
     ]
    },
    {
     "name": "stdout",
     "output_type": "stream",
     "text": [
      "✅ 已保存: /export/home/daifang/ncr/pix2pix/1000001854_1_png/result/骨转移_pix2pix_512/test_latest/images/heatmap/1000001854_0246_overlay.png\n"
     ]
    },
    {
     "name": "stderr",
     "output_type": "stream",
     "text": [
      "Processing:  86%|████████▌ | 247/287 [01:27<00:15,  2.54img/s]"
     ]
    },
    {
     "name": "stdout",
     "output_type": "stream",
     "text": [
      "✅ 已保存: /export/home/daifang/ncr/pix2pix/1000001854_1_png/result/骨转移_pix2pix_512/test_latest/images/heatmap/1000001854_0247_overlay.png\n"
     ]
    },
    {
     "name": "stderr",
     "output_type": "stream",
     "text": [
      "Processing:  86%|████████▋ | 248/287 [01:27<00:16,  2.40img/s]"
     ]
    },
    {
     "name": "stdout",
     "output_type": "stream",
     "text": [
      "✅ 已保存: /export/home/daifang/ncr/pix2pix/1000001854_1_png/result/骨转移_pix2pix_512/test_latest/images/heatmap/1000001854_0248_overlay.png\n"
     ]
    },
    {
     "name": "stderr",
     "output_type": "stream",
     "text": [
      "Processing:  87%|████████▋ | 249/287 [01:28<00:17,  2.20img/s]"
     ]
    },
    {
     "name": "stdout",
     "output_type": "stream",
     "text": [
      "✅ 已保存: /export/home/daifang/ncr/pix2pix/1000001854_1_png/result/骨转移_pix2pix_512/test_latest/images/heatmap/1000001854_0249_overlay.png\n"
     ]
    },
    {
     "name": "stderr",
     "output_type": "stream",
     "text": [
      "Processing:  87%|████████▋ | 250/287 [01:28<00:14,  2.48img/s]"
     ]
    },
    {
     "name": "stdout",
     "output_type": "stream",
     "text": [
      "✅ 已保存: /export/home/daifang/ncr/pix2pix/1000001854_1_png/result/骨转移_pix2pix_512/test_latest/images/heatmap/1000001854_0250_overlay.png\n"
     ]
    },
    {
     "name": "stderr",
     "output_type": "stream",
     "text": [
      "Processing:  87%|████████▋ | 251/287 [01:29<00:14,  2.41img/s]"
     ]
    },
    {
     "name": "stdout",
     "output_type": "stream",
     "text": [
      "✅ 已保存: /export/home/daifang/ncr/pix2pix/1000001854_1_png/result/骨转移_pix2pix_512/test_latest/images/heatmap/1000001854_0251_overlay.png\n"
     ]
    },
    {
     "name": "stderr",
     "output_type": "stream",
     "text": [
      "Processing:  88%|████████▊ | 252/287 [01:29<00:13,  2.59img/s]"
     ]
    },
    {
     "name": "stdout",
     "output_type": "stream",
     "text": [
      "✅ 已保存: /export/home/daifang/ncr/pix2pix/1000001854_1_png/result/骨转移_pix2pix_512/test_latest/images/heatmap/1000001854_0252_overlay.png\n"
     ]
    },
    {
     "name": "stderr",
     "output_type": "stream",
     "text": [
      "Processing:  88%|████████▊ | 253/287 [01:29<00:11,  2.90img/s]"
     ]
    },
    {
     "name": "stdout",
     "output_type": "stream",
     "text": [
      "✅ 已保存: /export/home/daifang/ncr/pix2pix/1000001854_1_png/result/骨转移_pix2pix_512/test_latest/images/heatmap/1000001854_0253_overlay.png\n"
     ]
    },
    {
     "name": "stderr",
     "output_type": "stream",
     "text": [
      "Processing:  89%|████████▊ | 254/287 [01:29<00:10,  3.13img/s]"
     ]
    },
    {
     "name": "stdout",
     "output_type": "stream",
     "text": [
      "✅ 已保存: /export/home/daifang/ncr/pix2pix/1000001854_1_png/result/骨转移_pix2pix_512/test_latest/images/heatmap/1000001854_0254_overlay.png\n"
     ]
    },
    {
     "name": "stderr",
     "output_type": "stream",
     "text": [
      "Processing:  89%|████████▉ | 255/287 [01:30<00:09,  3.32img/s]"
     ]
    },
    {
     "name": "stdout",
     "output_type": "stream",
     "text": [
      "✅ 已保存: /export/home/daifang/ncr/pix2pix/1000001854_1_png/result/骨转移_pix2pix_512/test_latest/images/heatmap/1000001854_0255_overlay.png\n"
     ]
    },
    {
     "name": "stderr",
     "output_type": "stream",
     "text": [
      "Processing:  89%|████████▉ | 256/287 [01:30<00:11,  2.72img/s]"
     ]
    },
    {
     "name": "stdout",
     "output_type": "stream",
     "text": [
      "✅ 已保存: /export/home/daifang/ncr/pix2pix/1000001854_1_png/result/骨转移_pix2pix_512/test_latest/images/heatmap/1000001854_0256_overlay.png\n"
     ]
    },
    {
     "name": "stderr",
     "output_type": "stream",
     "text": [
      "Processing:  90%|████████▉ | 257/287 [01:30<00:10,  2.84img/s]"
     ]
    },
    {
     "name": "stdout",
     "output_type": "stream",
     "text": [
      "✅ 已保存: /export/home/daifang/ncr/pix2pix/1000001854_1_png/result/骨转移_pix2pix_512/test_latest/images/heatmap/1000001854_0257_overlay.png\n"
     ]
    },
    {
     "name": "stderr",
     "output_type": "stream",
     "text": [
      "Processing:  90%|████████▉ | 258/287 [01:31<00:09,  3.10img/s]"
     ]
    },
    {
     "name": "stdout",
     "output_type": "stream",
     "text": [
      "✅ 已保存: /export/home/daifang/ncr/pix2pix/1000001854_1_png/result/骨转移_pix2pix_512/test_latest/images/heatmap/1000001854_0258_overlay.png\n"
     ]
    },
    {
     "name": "stderr",
     "output_type": "stream",
     "text": [
      "Processing:  90%|█████████ | 259/287 [01:31<00:09,  2.94img/s]"
     ]
    },
    {
     "name": "stdout",
     "output_type": "stream",
     "text": [
      "✅ 已保存: /export/home/daifang/ncr/pix2pix/1000001854_1_png/result/骨转移_pix2pix_512/test_latest/images/heatmap/1000001854_0259_overlay.png\n"
     ]
    },
    {
     "name": "stderr",
     "output_type": "stream",
     "text": [
      "Processing:  91%|█████████ | 260/287 [01:31<00:08,  3.02img/s]"
     ]
    },
    {
     "name": "stdout",
     "output_type": "stream",
     "text": [
      "✅ 已保存: /export/home/daifang/ncr/pix2pix/1000001854_1_png/result/骨转移_pix2pix_512/test_latest/images/heatmap/1000001854_0260_overlay.png\n"
     ]
    },
    {
     "name": "stderr",
     "output_type": "stream",
     "text": [
      "Processing:  91%|█████████ | 261/287 [01:32<00:08,  3.24img/s]"
     ]
    },
    {
     "name": "stdout",
     "output_type": "stream",
     "text": [
      "✅ 已保存: /export/home/daifang/ncr/pix2pix/1000001854_1_png/result/骨转移_pix2pix_512/test_latest/images/heatmap/1000001854_0261_overlay.png\n"
     ]
    },
    {
     "name": "stderr",
     "output_type": "stream",
     "text": [
      "Processing:  91%|█████████▏| 262/287 [01:32<00:07,  3.42img/s]"
     ]
    },
    {
     "name": "stdout",
     "output_type": "stream",
     "text": [
      "✅ 已保存: /export/home/daifang/ncr/pix2pix/1000001854_1_png/result/骨转移_pix2pix_512/test_latest/images/heatmap/1000001854_0262_overlay.png\n"
     ]
    },
    {
     "name": "stderr",
     "output_type": "stream",
     "text": [
      "Processing:  92%|█████████▏| 263/287 [01:32<00:06,  3.56img/s]"
     ]
    },
    {
     "name": "stdout",
     "output_type": "stream",
     "text": [
      "✅ 已保存: /export/home/daifang/ncr/pix2pix/1000001854_1_png/result/骨转移_pix2pix_512/test_latest/images/heatmap/1000001854_0263_overlay.png\n"
     ]
    },
    {
     "name": "stderr",
     "output_type": "stream",
     "text": [
      "Processing:  92%|█████████▏| 264/287 [01:32<00:06,  3.63img/s]"
     ]
    },
    {
     "name": "stdout",
     "output_type": "stream",
     "text": [
      "✅ 已保存: /export/home/daifang/ncr/pix2pix/1000001854_1_png/result/骨转移_pix2pix_512/test_latest/images/heatmap/1000001854_0264_overlay.png\n"
     ]
    },
    {
     "name": "stderr",
     "output_type": "stream",
     "text": [
      "Processing:  92%|█████████▏| 265/287 [01:33<00:06,  3.26img/s]"
     ]
    },
    {
     "name": "stdout",
     "output_type": "stream",
     "text": [
      "✅ 已保存: /export/home/daifang/ncr/pix2pix/1000001854_1_png/result/骨转移_pix2pix_512/test_latest/images/heatmap/1000001854_0265_overlay.png\n"
     ]
    },
    {
     "name": "stderr",
     "output_type": "stream",
     "text": [
      "Processing:  93%|█████████▎| 266/287 [01:33<00:06,  3.08img/s]"
     ]
    },
    {
     "name": "stdout",
     "output_type": "stream",
     "text": [
      "✅ 已保存: /export/home/daifang/ncr/pix2pix/1000001854_1_png/result/骨转移_pix2pix_512/test_latest/images/heatmap/1000001854_0266_overlay.png\n"
     ]
    },
    {
     "name": "stderr",
     "output_type": "stream",
     "text": [
      "Processing:  93%|█████████▎| 267/287 [01:34<00:06,  2.88img/s]"
     ]
    },
    {
     "name": "stdout",
     "output_type": "stream",
     "text": [
      "✅ 已保存: /export/home/daifang/ncr/pix2pix/1000001854_1_png/result/骨转移_pix2pix_512/test_latest/images/heatmap/1000001854_0267_overlay.png\n"
     ]
    },
    {
     "name": "stderr",
     "output_type": "stream",
     "text": [
      "Processing:  93%|█████████▎| 268/287 [01:34<00:06,  3.04img/s]"
     ]
    },
    {
     "name": "stdout",
     "output_type": "stream",
     "text": [
      "✅ 已保存: /export/home/daifang/ncr/pix2pix/1000001854_1_png/result/骨转移_pix2pix_512/test_latest/images/heatmap/1000001854_0268_overlay.png\n"
     ]
    },
    {
     "name": "stderr",
     "output_type": "stream",
     "text": [
      "Processing:  94%|█████████▎| 269/287 [01:34<00:05,  3.28img/s]"
     ]
    },
    {
     "name": "stdout",
     "output_type": "stream",
     "text": [
      "✅ 已保存: /export/home/daifang/ncr/pix2pix/1000001854_1_png/result/骨转移_pix2pix_512/test_latest/images/heatmap/1000001854_0269_overlay.png\n"
     ]
    },
    {
     "name": "stderr",
     "output_type": "stream",
     "text": [
      "Processing:  94%|█████████▍| 270/287 [01:34<00:05,  3.38img/s]"
     ]
    },
    {
     "name": "stdout",
     "output_type": "stream",
     "text": [
      "✅ 已保存: /export/home/daifang/ncr/pix2pix/1000001854_1_png/result/骨转移_pix2pix_512/test_latest/images/heatmap/1000001854_0270_overlay.png\n"
     ]
    },
    {
     "name": "stderr",
     "output_type": "stream",
     "text": [
      "Processing:  94%|█████████▍| 271/287 [01:35<00:05,  3.11img/s]"
     ]
    },
    {
     "name": "stdout",
     "output_type": "stream",
     "text": [
      "✅ 已保存: /export/home/daifang/ncr/pix2pix/1000001854_1_png/result/骨转移_pix2pix_512/test_latest/images/heatmap/1000001854_0271_overlay.png\n"
     ]
    },
    {
     "name": "stderr",
     "output_type": "stream",
     "text": [
      "Processing:  95%|█████████▍| 272/287 [01:35<00:05,  2.96img/s]"
     ]
    },
    {
     "name": "stdout",
     "output_type": "stream",
     "text": [
      "✅ 已保存: /export/home/daifang/ncr/pix2pix/1000001854_1_png/result/骨转移_pix2pix_512/test_latest/images/heatmap/1000001854_0272_overlay.png\n"
     ]
    },
    {
     "name": "stderr",
     "output_type": "stream",
     "text": [
      "Processing:  95%|█████████▌| 273/287 [01:35<00:04,  3.14img/s]"
     ]
    },
    {
     "name": "stdout",
     "output_type": "stream",
     "text": [
      "✅ 已保存: /export/home/daifang/ncr/pix2pix/1000001854_1_png/result/骨转移_pix2pix_512/test_latest/images/heatmap/1000001854_0273_overlay.png\n"
     ]
    },
    {
     "name": "stderr",
     "output_type": "stream",
     "text": [
      "Processing:  95%|█████████▌| 274/287 [01:36<00:04,  3.22img/s]"
     ]
    },
    {
     "name": "stdout",
     "output_type": "stream",
     "text": [
      "✅ 已保存: /export/home/daifang/ncr/pix2pix/1000001854_1_png/result/骨转移_pix2pix_512/test_latest/images/heatmap/1000001854_0274_overlay.png\n"
     ]
    },
    {
     "name": "stderr",
     "output_type": "stream",
     "text": [
      "Processing:  96%|█████████▌| 275/287 [01:36<00:03,  3.15img/s]"
     ]
    },
    {
     "name": "stdout",
     "output_type": "stream",
     "text": [
      "✅ 已保存: /export/home/daifang/ncr/pix2pix/1000001854_1_png/result/骨转移_pix2pix_512/test_latest/images/heatmap/1000001854_0275_overlay.png\n"
     ]
    },
    {
     "name": "stderr",
     "output_type": "stream",
     "text": [
      "Processing:  96%|█████████▌| 276/287 [01:36<00:03,  3.20img/s]"
     ]
    },
    {
     "name": "stdout",
     "output_type": "stream",
     "text": [
      "✅ 已保存: /export/home/daifang/ncr/pix2pix/1000001854_1_png/result/骨转移_pix2pix_512/test_latest/images/heatmap/1000001854_0276_overlay.png\n"
     ]
    },
    {
     "name": "stderr",
     "output_type": "stream",
     "text": [
      "Processing:  97%|█████████▋| 277/287 [01:37<00:03,  3.16img/s]"
     ]
    },
    {
     "name": "stdout",
     "output_type": "stream",
     "text": [
      "✅ 已保存: /export/home/daifang/ncr/pix2pix/1000001854_1_png/result/骨转移_pix2pix_512/test_latest/images/heatmap/1000001854_0277_overlay.png\n"
     ]
    },
    {
     "name": "stderr",
     "output_type": "stream",
     "text": [
      "Processing:  97%|█████████▋| 278/287 [01:37<00:02,  3.39img/s]"
     ]
    },
    {
     "name": "stdout",
     "output_type": "stream",
     "text": [
      "✅ 已保存: /export/home/daifang/ncr/pix2pix/1000001854_1_png/result/骨转移_pix2pix_512/test_latest/images/heatmap/1000001854_0278_overlay.png\n"
     ]
    },
    {
     "name": "stderr",
     "output_type": "stream",
     "text": [
      "Processing:  97%|█████████▋| 279/287 [01:37<00:02,  3.07img/s]"
     ]
    },
    {
     "name": "stdout",
     "output_type": "stream",
     "text": [
      "✅ 已保存: /export/home/daifang/ncr/pix2pix/1000001854_1_png/result/骨转移_pix2pix_512/test_latest/images/heatmap/1000001854_0279_overlay.png\n"
     ]
    },
    {
     "name": "stderr",
     "output_type": "stream",
     "text": [
      "Processing:  98%|█████████▊| 280/287 [01:38<00:02,  3.21img/s]"
     ]
    },
    {
     "name": "stdout",
     "output_type": "stream",
     "text": [
      "✅ 已保存: /export/home/daifang/ncr/pix2pix/1000001854_1_png/result/骨转移_pix2pix_512/test_latest/images/heatmap/1000001854_0280_overlay.png\n"
     ]
    },
    {
     "name": "stderr",
     "output_type": "stream",
     "text": [
      "Processing:  98%|█████████▊| 281/287 [01:38<00:01,  3.01img/s]"
     ]
    },
    {
     "name": "stdout",
     "output_type": "stream",
     "text": [
      "✅ 已保存: /export/home/daifang/ncr/pix2pix/1000001854_1_png/result/骨转移_pix2pix_512/test_latest/images/heatmap/1000001854_0281_overlay.png\n"
     ]
    },
    {
     "name": "stderr",
     "output_type": "stream",
     "text": [
      "Processing:  98%|█████████▊| 282/287 [01:38<00:01,  3.27img/s]"
     ]
    },
    {
     "name": "stdout",
     "output_type": "stream",
     "text": [
      "✅ 已保存: /export/home/daifang/ncr/pix2pix/1000001854_1_png/result/骨转移_pix2pix_512/test_latest/images/heatmap/1000001854_0282_overlay.png\n"
     ]
    },
    {
     "name": "stderr",
     "output_type": "stream",
     "text": [
      "Processing:  99%|█████████▊| 283/287 [01:39<00:01,  3.18img/s]"
     ]
    },
    {
     "name": "stdout",
     "output_type": "stream",
     "text": [
      "✅ 已保存: /export/home/daifang/ncr/pix2pix/1000001854_1_png/result/骨转移_pix2pix_512/test_latest/images/heatmap/1000001854_0283_overlay.png\n"
     ]
    },
    {
     "name": "stderr",
     "output_type": "stream",
     "text": [
      "Processing:  99%|█████████▉| 284/287 [01:39<00:00,  3.14img/s]"
     ]
    },
    {
     "name": "stdout",
     "output_type": "stream",
     "text": [
      "✅ 已保存: /export/home/daifang/ncr/pix2pix/1000001854_1_png/result/骨转移_pix2pix_512/test_latest/images/heatmap/1000001854_0284_overlay.png\n"
     ]
    },
    {
     "name": "stderr",
     "output_type": "stream",
     "text": [
      "Processing:  99%|█████████▉| 285/287 [01:39<00:00,  2.94img/s]"
     ]
    },
    {
     "name": "stdout",
     "output_type": "stream",
     "text": [
      "✅ 已保存: /export/home/daifang/ncr/pix2pix/1000001854_1_png/result/骨转移_pix2pix_512/test_latest/images/heatmap/1000001854_0285_overlay.png\n"
     ]
    },
    {
     "name": "stderr",
     "output_type": "stream",
     "text": [
      "Processing: 100%|█████████▉| 286/287 [01:40<00:00,  2.77img/s]"
     ]
    },
    {
     "name": "stdout",
     "output_type": "stream",
     "text": [
      "✅ 已保存: /export/home/daifang/ncr/pix2pix/1000001854_1_png/result/骨转移_pix2pix_512/test_latest/images/heatmap/1000001854_0286_overlay.png\n"
     ]
    },
    {
     "name": "stderr",
     "output_type": "stream",
     "text": [
      "Processing: 100%|██████████| 287/287 [01:40<00:00,  2.86img/s]"
     ]
    },
    {
     "name": "stdout",
     "output_type": "stream",
     "text": [
      "✅ 已保存: /export/home/daifang/ncr/pix2pix/1000001854_1_png/result/骨转移_pix2pix_512/test_latest/images/heatmap/1000001854_0287_overlay.png\n"
     ]
    },
    {
     "name": "stderr",
     "output_type": "stream",
     "text": [
      "\n"
     ]
    }
   ],
   "source": [
    "import os\n",
    "from PIL import Image, ImageEnhance, ImageFilter\n",
    "import matplotlib.pyplot as plt\n",
    "import numpy as np\n",
    "from tqdm import tqdm\n",
    "\n",
    "# ------------------ 图片增强函数 ------------------\n",
    "def pic_enhance(img, com, light):\n",
    "    img = img.filter(ImageFilter.CONTOUR)\n",
    "    img = img.filter(ImageFilter.EDGE_ENHANCE)\n",
    "    enh_col = ImageEnhance.Color(img)\n",
    "    img = enh_col.enhance(com)\n",
    "    img = ImageEnhance.Brightness(img).enhance(light)\n",
    "    return img\n",
    "\n",
    "# ------------------ 生成热图（无透明背景） ------------------\n",
    "def heatmap_gen_other(img):\n",
    "    gray_image = img.convert('L')\n",
    "    gray_image_np = np.array(gray_image)\n",
    "\n",
    "    width, height = gray_image.size\n",
    "    dpi = 96  # 默认 DPI\n",
    "\n",
    "    fig = plt.figure(figsize=(width / dpi, height / dpi), dpi=dpi)\n",
    "    ax = fig.add_axes([0, 0, 1, 1])\n",
    "    ax.imshow(gray_image_np, cmap='hot', interpolation='nearest')\n",
    "    ax.axis('off')\n",
    "\n",
    "    plt.savefig('heatmap.png', bbox_inches='tight', pad_inches=0, transparent=False)\n",
    "    plt.close(fig)\n",
    "\n",
    "    return Image.open('heatmap.png').convert('RGB')\n",
    "\n",
    "# ------------------ 透明度调整 ------------------\n",
    "def alpha_adjust(pic, opacity):\n",
    "    if pic.mode != 'RGBA':\n",
    "        pic = pic.convert('RGBA')\n",
    "    alpha = pic.split()[-1]\n",
    "    new_alpha = alpha.point(lambda i: int(i * opacity))\n",
    "    pic.putalpha(new_alpha)\n",
    "    return pic\n",
    "\n",
    "# ------------------ 批量处理 realA + fakeB ------------------\n",
    "def overlay_fake_on_real(realA_dir, fakeB_dir, output_dir,\n",
    "                         opacity=0.5, compare=1.0, lighting=1.0):\n",
    "    os.makedirs(output_dir, exist_ok=True)\n",
    "\n",
    "    realA_files = [f for f in os.listdir(realA_dir) if f.endswith('_real_A.png')]\n",
    "\n",
    "    for realA_file in tqdm(realA_files, desc=\"Processing\", unit=\"img\"):\n",
    "        base_name = realA_file.replace('_real_A.png', '')\n",
    "\n",
    "        realA_path = os.path.join(realA_dir, realA_file)\n",
    "        fakeB_path = os.path.join(fakeB_dir, f\"{base_name}_fake_B.png\")\n",
    "        output_path = os.path.join(output_dir, f\"{base_name}_overlay.png\")\n",
    "\n",
    "        if not os.path.exists(fakeB_path):\n",
    "            print(f\"[跳过] 缺少 fake_B: {fakeB_path}\")\n",
    "            continue\n",
    "\n",
    "        # 打开 realA 和 fakeB\n",
    "        realA_img = Image.open(realA_path).convert('RGB')\n",
    "        fakeB_img = Image.open(fakeB_path)\n",
    "\n",
    "        # 增强和热图\n",
    "        fakeB_img = pic_enhance(fakeB_img, compare, lighting)\n",
    "        heatmap_img = heatmap_gen_other(fakeB_img)\n",
    "        heatmap_img = alpha_adjust(heatmap_img, opacity)\n",
    "\n",
    "        # 叠加\n",
    "        realA_rgba = realA_img.convert('RGBA')\n",
    "        realA_rgba.paste(heatmap_img, (0, 0), heatmap_img.split()[-1])\n",
    "        result = realA_rgba.convert('RGB')\n",
    "\n",
    "        result.save(output_path)\n",
    "        print(f\"✅ 已保存: {output_path}\")\n",
    "\n",
    "# ------------------ 主入口 ------------------\n",
    "if __name__ == \"__main__\":\n",
    "    realA_dir = \"/export/home/daifang/ncr/pix2pix/1000001854_1_png/result/骨转移_pix2pix_512/test_latest/images/real_A/\"\n",
    "    fakeB_dir = \"/export/home/daifang/ncr/pix2pix/1000001854_1_png/result/骨转移_pix2pix_512/test_latest/images/fake_B/\"\n",
    "    output_dir = \"/export/home/daifang/ncr/pix2pix/1000001854_1_png/result/骨转移_pix2pix_512/test_latest/images/heatmap/\"\n",
    "\n",
    "    overlay_fake_on_real(realA_dir, fakeB_dir, output_dir,\n",
    "                         opacity=0.5, compare=1.0, lighting=1.0)\n"
   ]
  },
  {
   "cell_type": "code",
   "execution_count": 1,
   "metadata": {},
   "outputs": [
    {
     "name": "stderr",
     "output_type": "stream",
     "text": [
      "Generating Fusion:   0%|          | 0/287 [00:00<?, ?img/s]/tmp/ipykernel_84324/463761515.py:30: MatplotlibDeprecationWarning: The get_cmap function was deprecated in Matplotlib 3.7 and will be removed in 3.11. Use ``matplotlib.colormaps[name]`` or ``matplotlib.colormaps.get_cmap()`` or ``pyplot.get_cmap()`` instead.\n",
      "  cmap = cm.get_cmap('hot')  # 可换成 'inferno' 或自定义\n",
      "Generating Fusion: 100%|██████████| 287/287 [00:46<00:00,  6.12img/s]"
     ]
    },
    {
     "name": "stdout",
     "output_type": "stream",
     "text": [
      "✅ 所有融合图已保存到: /export/home/daifang/ncr/pix2pix/1000001854_1_png/result/fusion_output\n"
     ]
    },
    {
     "name": "stderr",
     "output_type": "stream",
     "text": [
      "\n"
     ]
    }
   ],
   "source": [
    "import os\n",
    "import cv2\n",
    "import numpy as np\n",
    "from matplotlib import cm\n",
    "from tqdm import tqdm\n",
    "\n",
    "def pet_ct_fusion(ct_path, pet_path, output_path, alpha=0.6):\n",
    "    \"\"\"\n",
    "    生成 PET/CT 融合图\n",
    "    ct_path: CT 灰度图路径 (real_A)\n",
    "    pet_path: PET (或 fake_B) 灰度图路径\n",
    "    output_path: 保存路径\n",
    "    alpha: PET 融合透明度 (0~1)\n",
    "    \"\"\"\n",
    "    # 读取 CT 灰度并转为 RGB\n",
    "    ct_img = cv2.imread(ct_path, cv2.IMREAD_GRAYSCALE)\n",
    "    if ct_img is None:\n",
    "        print(f\"⚠️ 无法读取 CT 图: {ct_path}\")\n",
    "        return\n",
    "    ct_rgb = cv2.cvtColor(ct_img, cv2.COLOR_GRAY2RGB)\n",
    "\n",
    "    # 读取 PET 并归一化\n",
    "    pet_img = cv2.imread(pet_path, cv2.IMREAD_GRAYSCALE)\n",
    "    if pet_img is None:\n",
    "        print(f\"⚠️ 无法读取 PET 图: {pet_path}\")\n",
    "        return\n",
    "    pet_norm = cv2.normalize(pet_img, None, 0, 1.0, cv2.NORM_MINMAX)\n",
    "\n",
    "    # 应用热力图 colormap (红->黄)\n",
    "    cmap = cm.get_cmap('hot')  # 可换成 'inferno' 或自定义\n",
    "    pet_color = (cmap(pet_norm)[:, :, :3] * 255).astype(np.uint8)\n",
    "\n",
    "    # 融合\n",
    "    fused = cv2.addWeighted(ct_rgb, 1.0, pet_color, alpha, 0)\n",
    "\n",
    "    # 保存\n",
    "    cv2.imwrite(output_path, fused)\n",
    "\n",
    "\n",
    "def batch_fusion(ct_dir, pet_dir, output_dir, alpha=0.6):\n",
    "    \"\"\"\n",
    "    批量生成 PET/CT 融合图\n",
    "    \"\"\"\n",
    "    os.makedirs(output_dir, exist_ok=True)\n",
    "\n",
    "    ct_files = sorted([f for f in os.listdir(ct_dir) if f.endswith('.png')])\n",
    "    pet_files = sorted([f for f in os.listdir(pet_dir) if f.endswith('.png')])\n",
    "\n",
    "    # 遍历 real_A 和 fake_B 文件\n",
    "    for ct_file in tqdm(ct_files, desc=\"Generating Fusion\", unit=\"img\"):\n",
    "        base_name = ct_file.replace(\"_real_A.png\", \"\")\n",
    "        ct_path = os.path.join(ct_dir, ct_file)\n",
    "\n",
    "        # 找对应的 fake_B 文件\n",
    "        pet_file = f\"{base_name}_fake_B.png\"\n",
    "        pet_path = os.path.join(pet_dir, pet_file)\n",
    "\n",
    "        if not os.path.exists(pet_path):\n",
    "            print(f\"⚠️ 缺少 PET 图: {pet_file}\")\n",
    "            continue\n",
    "\n",
    "        output_path = os.path.join(output_dir, f\"{base_name}_fusion.png\")\n",
    "        pet_ct_fusion(ct_path, pet_path, output_path, alpha)\n",
    "\n",
    "    print(f\"✅ 所有融合图已保存到: {output_dir}\")\n",
    "\n",
    "\n",
    "# ---------------- 主函数 ----------------\n",
    "if __name__ == \"__main__\":\n",
    "    ct_dir = \"/export/home/daifang/ncr/pix2pix/1000001854_1_png/result/骨转移_pix2pix_512/test_latest/images/real_A\"\n",
    "    pet_dir = \"/export/home/daifang/ncr/pix2pix/1000001854_1_png/result/骨转移_pix2pix_512/test_latest/images/fake_B\"\n",
    "    output_dir = \"/export/home/daifang/ncr/pix2pix/1000001854_1_png/result/fusion_output\"\n",
    "\n",
    "    batch_fusion(ct_dir, pet_dir, output_dir, alpha=0.6)\n"
   ]
  }
 ],
 "metadata": {
  "accelerator": "GPU",
  "colab": {
   "collapsed_sections": [],
   "include_colab_link": true,
   "name": "pix2pix",
   "provenance": []
  },
  "environment": {
   "name": "tf2-gpu.2-3.m74",
   "type": "gcloud",
   "uri": "gcr.io/deeplearning-platform-release/tf2-gpu.2-3:m74"
  },
  "kernelspec": {
   "display_name": "yolov11",
   "language": "python",
   "name": "python3"
  },
  "language_info": {
   "codemirror_mode": {
    "name": "ipython",
    "version": 3
   },
   "file_extension": ".py",
   "mimetype": "text/x-python",
   "name": "python",
   "nbconvert_exporter": "python",
   "pygments_lexer": "ipython3",
   "version": "3.10.16"
  }
 },
 "nbformat": 4,
 "nbformat_minor": 4
}
